{
 "cells": [
  {
   "cell_type": "code",
   "execution_count": 1,
   "metadata": {
    "collapsed": true
   },
   "outputs": [],
   "source": [
    "#a simple function with print statement and no output/return\n",
    "def hello():\n",
    "    print(\"Hello World\")"
   ]
  },
  {
   "cell_type": "code",
   "execution_count": 2,
   "metadata": {},
   "outputs": [
    {
     "name": "stdout",
     "output_type": "stream",
     "text": [
      "Hello World\n"
     ]
    }
   ],
   "source": [
    "#calling it\n",
    "hello()"
   ]
  },
  {
   "cell_type": "code",
   "execution_count": 3,
   "metadata": {
    "collapsed": true
   },
   "outputs": [],
   "source": [
    "#a function with input and output\n",
    "def double(number):\n",
    "    return number * 2"
   ]
  },
  {
   "cell_type": "code",
   "execution_count": 4,
   "metadata": {},
   "outputs": [
    {
     "data": {
      "text/plain": [
       "6"
      ]
     },
     "execution_count": 4,
     "metadata": {},
     "output_type": "execute_result"
    }
   ],
   "source": [
    "#calling it\n",
    "double(3)"
   ]
  },
  {
   "cell_type": "code",
   "execution_count": 5,
   "metadata": {},
   "outputs": [
    {
     "name": "stdout",
     "output_type": "stream",
     "text": [
      "Hello World\n"
     ]
    }
   ],
   "source": [
    "hello()"
   ]
  },
  {
   "cell_type": "code",
   "execution_count": 6,
   "metadata": {
    "collapsed": true
   },
   "outputs": [],
   "source": [
    "#a function with two parameters\n",
    "def add(first_number,second_number):\n",
    "    return first_number+second_number"
   ]
  },
  {
   "cell_type": "code",
   "execution_count": 7,
   "metadata": {},
   "outputs": [
    {
     "data": {
      "text/plain": [
       "12"
      ]
     },
     "execution_count": 7,
     "metadata": {},
     "output_type": "execute_result"
    }
   ],
   "source": [
    "add(5,7)"
   ]
  },
  {
   "cell_type": "code",
   "execution_count": 27,
   "metadata": {
    "collapsed": true
   },
   "outputs": [],
   "source": [
    "#the homework function\n",
    "def print_greeting(first_name, last_name, *, middle_name=\"\",\n",
    "                   neighborhood=\"NY\"):\n",
    "    \"\"\"Prints a NYC metro-area greeting.\n",
    "\n",
    "     Arguments:\n",
    "       first_name: Your first name.\n",
    "       last_name: Your last name.\n",
    "       middle_name: Your middle name (optional; may be omitted).\n",
    "       neighborhood: The name of a neighborhood.\n",
    "    \"\"\"\n",
    "    full_name = (f\"{first_name} {middle_name} {last_name}\" if \n",
    "                 middle_name else\n",
    "                 f\"{first_name} {last_name}\")\n",
    "    print(f\"Hello {full_name} and welcome to {neighborhood}.\")"
   ]
  },
  {
   "cell_type": "code",
   "execution_count": 28,
   "metadata": {},
   "outputs": [
    {
     "name": "stdout",
     "output_type": "stream",
     "text": [
      "Hello Hussein Mahmoud Ghaly and welcome to NY.\n"
     ]
    }
   ],
   "source": [
    "#calling it\n",
    "#print_greeting(\"Hussein\",\"Ghaly\",middle_name=\"Mahmoud\",neighborhood=\"Queens\")\n",
    "print_greeting(\"Hussein\",\"Ghaly\",middle_name=\"Mahmoud\")"
   ]
  },
  {
   "cell_type": "code",
   "execution_count": 15,
   "metadata": {},
   "outputs": [
    {
     "name": "stdout",
     "output_type": "stream",
     "text": [
      "Abcas-Abcas and age 15\n"
     ]
    }
   ],
   "source": [
    "#a little bit about formatted strings\n",
    "first_name=\"Abcas\"\n",
    "last_name=\"GGHHKJ\"\n",
    "age=15\n",
    "full=f\"{first_name}-{first_name} and age {age}\"\n",
    "print(full)"
   ]
  },
  {
   "cell_type": "code",
   "execution_count": 16,
   "metadata": {},
   "outputs": [
    {
     "data": {
      "text/plain": [
       "\"Hi My name is , I'm from, and I am years old\""
      ]
     },
     "execution_count": 16,
     "metadata": {},
     "output_type": "execute_result"
    }
   ],
   "source": [
    "#now practice: first name, country, age\n",
    "\"Hi My name is , I'm from, and I am years old\""
   ]
  },
  {
   "cell_type": "code",
   "execution_count": 17,
   "metadata": {},
   "outputs": [
    {
     "name": "stdout",
     "output_type": "stream",
     "text": [
      "Abcas-Abcas and age 15\n"
     ]
    }
   ],
   "source": [
    "#understanding the if else in the output string\n",
    "first_name=\"Abcas\"\n",
    "last_name=\"GGHHKJ\"\n",
    "age=15\n",
    "full=(f\"{first_name}-{first_name} and age {age}\" if age else f\"{first_name}-{first_name}\")\n",
    "print(full)"
   ]
  },
  {
   "cell_type": "code",
   "execution_count": 25,
   "metadata": {},
   "outputs": [
    {
     "name": "stdout",
     "output_type": "stream",
     "text": [
      "Abcas-Abcas\n"
     ]
    }
   ],
   "source": [
    "#further if else, if a value is zero, empty string, empty list, or False, else would apply\n",
    "age=\"\"\n",
    "full=(f\"{first_name}-{first_name} and age {age}\" if age else f\"{first_name}-{first_name}\")\n",
    "print(full)"
   ]
  },
  {
   "cell_type": "code",
   "execution_count": 31,
   "metadata": {},
   "outputs": [
    {
     "name": "stdout",
     "output_type": "stream",
     "text": [
      "fib #0 is 1\n",
      "fib #1 is 1\n",
      "fib #2 is 2\n",
      "fib #3 is 3\n",
      "fib #4 is 5\n",
      "fib #5 is 8\n",
      "fib #6 is 13\n",
      "fib #7 is 21\n",
      "fib #8 is 34\n",
      "fib #9 is 55\n",
      "fib #10 is 89\n",
      "fib #11 is 144\n",
      "fib #12 is 233\n",
      "fib #13 is 377\n",
      "fib #14 is 610\n",
      "fib #15 is 987\n",
      "fib #16 is 1597\n",
      "fib #17 is 2584\n",
      "fib #18 is 4181\n",
      "fib #19 is 6765\n",
      "fib #20 is 10946\n",
      "fib #21 is 17711\n",
      "fib #22 is 28657\n",
      "fib #23 is 46368\n",
      "fib #24 is 75025\n",
      "fib #25 is 121393\n",
      "fib #26 is 196418\n",
      "fib #27 is 317811\n",
      "fib #28 is 514229\n",
      "fib #29 is 832040\n",
      "fib #30 is 1346269\n",
      "fib #31 is 2178309\n",
      "fib #32 is 3524578\n",
      "fib #33 is 5702887\n",
      "fib #34 is 9227465\n",
      "fib #35 is 14930352\n",
      "fib #36 is 24157817\n",
      "fib #37 is 39088169\n",
      "fib #38 is 63245986\n",
      "fib #39 is 102334155\n",
      "fib #40 is 165580141\n",
      "fib #41 is 267914296\n",
      "fib #42 is 433494437\n",
      "fib #43 is 701408733\n",
      "fib #44 is 1134903170\n",
      "fib #45 is 1836311903\n",
      "fib #46 is 2971215073\n",
      "fib #47 is 4807526976\n",
      "fib #48 is 7778742049\n",
      "fib #49 is 12586269025\n",
      "fib #50 is 20365011074\n",
      "fib #51 is 32951280099\n",
      "fib #52 is 53316291173\n",
      "fib #53 is 86267571272\n",
      "fib #54 is 139583862445\n",
      "fib #55 is 225851433717\n",
      "fib #56 is 365435296162\n",
      "fib #57 is 591286729879\n",
      "fib #58 is 956722026041\n",
      "fib #59 is 1548008755920\n",
      "fib #60 is 2504730781961\n",
      "fib #61 is 4052739537881\n",
      "fib #62 is 6557470319842\n",
      "fib #63 is 10610209857723\n",
      "fib #64 is 17167680177565\n",
      "fib #65 is 27777890035288\n",
      "fib #66 is 44945570212853\n",
      "fib #67 is 72723460248141\n",
      "fib #68 is 117669030460994\n",
      "fib #69 is 190392490709135\n",
      "fib #70 is 308061521170129\n",
      "fib #71 is 498454011879264\n",
      "fib #72 is 806515533049393\n",
      "fib #73 is 1304969544928657\n",
      "fib #74 is 2111485077978050\n",
      "fib #75 is 3416454622906707\n",
      "fib #76 is 5527939700884757\n",
      "fib #77 is 8944394323791464\n",
      "fib #78 is 14472334024676221\n",
      "fib #79 is 23416728348467685\n",
      "fib #80 is 37889062373143906\n",
      "fib #81 is 61305790721611591\n",
      "fib #82 is 99194853094755497\n",
      "fib #83 is 160500643816367088\n",
      "fib #84 is 259695496911122585\n",
      "fib #85 is 420196140727489673\n",
      "fib #86 is 679891637638612258\n",
      "fib #87 is 1100087778366101931\n",
      "fib #88 is 1779979416004714189\n",
      "fib #89 is 2880067194370816120\n",
      "fib #90 is 4660046610375530309\n",
      "fib #91 is 7540113804746346429\n",
      "fib #92 is 12200160415121876738\n",
      "fib #93 is 19740274219868223167\n",
      "fib #94 is 31940434634990099905\n",
      "fib #95 is 51680708854858323072\n",
      "fib #96 is 83621143489848422977\n",
      "fib #97 is 135301852344706746049\n",
      "fib #98 is 218922995834555169026\n",
      "fib #99 is 354224848179261915075\n"
     ]
    }
   ],
   "source": [
    "#back to fibbonacci, printing a message for each fib number corresponding to the range\n",
    "l=u=1\n",
    "for i in range(100):\n",
    "    message=f\"fib #{i} is {l}\"\n",
    "    print(message)\n",
    "    #print(l)\n",
    "    l,u=u,l+u"
   ]
  },
  {
   "cell_type": "code",
   "execution_count": 51,
   "metadata": {},
   "outputs": [
    {
     "data": {
      "text/plain": [
       "11"
      ]
     },
     "execution_count": 51,
     "metadata": {},
     "output_type": "execute_result"
    }
   ],
   "source": [
    "#now let's create a function similar to the homework, but to get odd number #n \n",
    "\"6 >> the sixth odd number\"\n",
    "\"1 > 1 , 2 > 3,  3 > 5\"\n",
    "def get_odd(n):\n",
    "    odd=1\n",
    "    for i in range(n-1):\n",
    "        message=f\"the # {i+1} odd number is {odd}\"\n",
    "        #assert i==2# and odd==3\n",
    "        #print(message)\n",
    "        odd+=2 \n",
    "    return odd\n",
    "\n",
    "assert get_odd(6)==11, print(\"this is woring\") \n",
    "get_odd(6)"
   ]
  },
  {
   "cell_type": "code",
   "execution_count": 52,
   "metadata": {
    "collapsed": true
   },
   "outputs": [],
   "source": [
    "#explaining indentation\n",
    "for a in range(5):\n",
    "    if a ==2:\n",
    "        pass\n"
   ]
  },
  {
   "cell_type": "code",
   "execution_count": 53,
   "metadata": {},
   "outputs": [
    {
     "name": "stdout",
     "output_type": "stream",
     "text": [
      "The slowest run took 54.80 times longer than the fastest. This could mean that an intermediate result is being cached.\n",
      "10000000 loops, best of 3: 20.6 ns per loop\n"
     ]
    }
   ],
   "source": [
    "#explaining timeit\n",
    "%timeit a=5"
   ]
  },
  {
   "cell_type": "code",
   "execution_count": 56,
   "metadata": {},
   "outputs": [
    {
     "name": "stdout",
     "output_type": "stream",
     "text": [
      "1000 loops, best of 3: 783 µs per loop\n"
     ]
    }
   ],
   "source": [
    "%timeit for a in range(10000): b=a*3"
   ]
  },
  {
   "cell_type": "code",
   "execution_count": 57,
   "metadata": {},
   "outputs": [
    {
     "name": "stdout",
     "output_type": "stream",
     "text": [
      "1000 loops, best of 3: 1.21 ms per loop\n"
     ]
    }
   ],
   "source": [
    "%timeit for a in range(10000): b=a*3*12"
   ]
  },
  {
   "cell_type": "code",
   "execution_count": 59,
   "metadata": {},
   "outputs": [
    {
     "name": "stdout",
     "output_type": "stream",
     "text": [
      "The slowest run took 28.90 times longer than the fastest. This could mean that an intermediate result is being cached.\n",
      "1000000 loops, best of 3: 125 ns per loop\n"
     ]
    }
   ],
   "source": [
    "#compare timieit for two functions\n",
    "def fib1(x):\n",
    "    return x\n",
    "def fib2(x):\n",
    "    return 3*1221*x\n",
    "\n",
    "%timeit fib1(7)\n",
    "\n"
   ]
  },
  {
   "cell_type": "code",
   "execution_count": 60,
   "metadata": {},
   "outputs": [
    {
     "name": "stdout",
     "output_type": "stream",
     "text": [
      "The slowest run took 8.45 times longer than the fastest. This could mean that an intermediate result is being cached.\n",
      "1000000 loops, best of 3: 183 ns per loop\n"
     ]
    }
   ],
   "source": [
    "%timeit fib2(7)"
   ]
  },
  {
   "cell_type": "code",
   "execution_count": 61,
   "metadata": {},
   "outputs": [
    {
     "name": "stdout",
     "output_type": "stream",
     "text": [
      "I\n",
      "go\n",
      "to\n",
      "work\n",
      "in\n",
      "the\n",
      "morning\n"
     ]
    }
   ],
   "source": [
    "#working with a list of words\n",
    "words=[\"I\",\"go\",\"to\",\"work\",\"in\",\"the\",\"morning\"]\n",
    "for w in words:\n",
    "    print(w)"
   ]
  },
  {
   "cell_type": "code",
   "execution_count": 66,
   "metadata": {},
   "outputs": [
    {
     "name": "stdout",
     "output_type": "stream",
     "text": [
      "0 I\n",
      "['I', 'go', 'to']\n",
      "1 go\n",
      "['go', 'to', 'work']\n",
      "2 to\n",
      "['to', 'work', 'in']\n",
      "3 work\n",
      "['work', 'in', 'the']\n",
      "4 in\n",
      "['in', 'the', 'morning']\n",
      "5 the\n",
      "['the', 'morning']\n",
      "6 morning\n",
      "['morning']\n"
     ]
    }
   ],
   "source": [
    "#we can iterate over the list, taking a slice each iteration\n",
    "for i in range(len(words)):\n",
    "    print(i,words[i])\n",
    "    print(words[i:i+3])"
   ]
  },
  {
   "cell_type": "code",
   "execution_count": 67,
   "metadata": {
    "collapsed": true
   },
   "outputs": [],
   "source": [
    "#now let's try counting most frequent words in a text using dictionaries and collections.Counter\n",
    "text=\"\"\"Running Man (Korean: 런닝맨) is a South Korean variety show, forming part of SBS's Good Sunday lineup. It first aired on July 11, 2010.\n",
    "\n",
    "Running Man was classified as an \"urban action variety\"; a genre of variety shows in an urban environment.[1] The MCs and guests were to complete missions at a landmark to win the race.[2] The show has since shifted to a more familiar reality-variety show concept focused on games. It has garnered attention as being the comeback program for Yoo Jae-suk, the main MC of the program, after leaving Good Sunday's Family Outing in February 2010.[3]\n",
    "\n",
    "The show has become popular in other parts of Asia, and has gained online popularity among Hallyu fans, having been fansubbed into various languages, such as English, Spanish, Portuguese, French, Italian, Thai, Vietnamese, Chinese, Malay, Indonesian, Burmese, Arabic, Russian, and Turkish.[4][5]\n",
    "\n",
    "The show has made it to the list of Business Insider's 20 TV Shows of 2016.[6]\n",
    "\n",
    "Since April 2017, Running Man is airing as the first part of Good Sunday at 4:50 pm KST and competing against KBS2's The Return of Superman and MBC's King of Mask Singer.[7] Running Man previously aired at 6:25 pm KST on Sundays, as the second part of Good Sunday, competing against KBS2's 1 Night 2 Days. \"\"\""
   ]
  },
  {
   "cell_type": "code",
   "execution_count": 68,
   "metadata": {
    "collapsed": true
   },
   "outputs": [],
   "source": [
    "#we can split the text using split\n",
    "text_split=text.split()"
   ]
  },
  {
   "cell_type": "code",
   "execution_count": 69,
   "metadata": {},
   "outputs": [
    {
     "data": {
      "text/plain": [
       "['Running',\n",
       " 'Man',\n",
       " '(Korean:',\n",
       " '런닝맨)',\n",
       " 'is',\n",
       " 'a',\n",
       " 'South',\n",
       " 'Korean',\n",
       " 'variety',\n",
       " 'show,',\n",
       " 'forming',\n",
       " 'part',\n",
       " 'of',\n",
       " \"SBS's\",\n",
       " 'Good',\n",
       " 'Sunday',\n",
       " 'lineup.',\n",
       " 'It',\n",
       " 'first',\n",
       " 'aired',\n",
       " 'on',\n",
       " 'July',\n",
       " '11,',\n",
       " '2010.',\n",
       " 'Running',\n",
       " 'Man',\n",
       " 'was',\n",
       " 'classified',\n",
       " 'as',\n",
       " 'an',\n",
       " '\"urban',\n",
       " 'action',\n",
       " 'variety\";',\n",
       " 'a',\n",
       " 'genre',\n",
       " 'of',\n",
       " 'variety',\n",
       " 'shows',\n",
       " 'in',\n",
       " 'an',\n",
       " 'urban',\n",
       " 'environment.[1]',\n",
       " 'The',\n",
       " 'MCs',\n",
       " 'and',\n",
       " 'guests',\n",
       " 'were',\n",
       " 'to',\n",
       " 'complete',\n",
       " 'missions',\n",
       " 'at',\n",
       " 'a',\n",
       " 'landmark',\n",
       " 'to',\n",
       " 'win',\n",
       " 'the',\n",
       " 'race.[2]',\n",
       " 'The',\n",
       " 'show',\n",
       " 'has',\n",
       " 'since',\n",
       " 'shifted',\n",
       " 'to',\n",
       " 'a',\n",
       " 'more',\n",
       " 'familiar',\n",
       " 'reality-variety',\n",
       " 'show',\n",
       " 'concept',\n",
       " 'focused',\n",
       " 'on',\n",
       " 'games.',\n",
       " 'It',\n",
       " 'has',\n",
       " 'garnered',\n",
       " 'attention',\n",
       " 'as',\n",
       " 'being',\n",
       " 'the',\n",
       " 'comeback',\n",
       " 'program',\n",
       " 'for',\n",
       " 'Yoo',\n",
       " 'Jae-suk,',\n",
       " 'the',\n",
       " 'main',\n",
       " 'MC',\n",
       " 'of',\n",
       " 'the',\n",
       " 'program,',\n",
       " 'after',\n",
       " 'leaving',\n",
       " 'Good',\n",
       " \"Sunday's\",\n",
       " 'Family',\n",
       " 'Outing',\n",
       " 'in',\n",
       " 'February',\n",
       " '2010.[3]',\n",
       " 'The',\n",
       " 'show',\n",
       " 'has',\n",
       " 'become',\n",
       " 'popular',\n",
       " 'in',\n",
       " 'other',\n",
       " 'parts',\n",
       " 'of',\n",
       " 'Asia,',\n",
       " 'and',\n",
       " 'has',\n",
       " 'gained',\n",
       " 'online',\n",
       " 'popularity',\n",
       " 'among',\n",
       " 'Hallyu',\n",
       " 'fans,',\n",
       " 'having',\n",
       " 'been',\n",
       " 'fansubbed',\n",
       " 'into',\n",
       " 'various',\n",
       " 'languages,',\n",
       " 'such',\n",
       " 'as',\n",
       " 'English,',\n",
       " 'Spanish,',\n",
       " 'Portuguese,',\n",
       " 'French,',\n",
       " 'Italian,',\n",
       " 'Thai,',\n",
       " 'Vietnamese,',\n",
       " 'Chinese,',\n",
       " 'Malay,',\n",
       " 'Indonesian,',\n",
       " 'Burmese,',\n",
       " 'Arabic,',\n",
       " 'Russian,',\n",
       " 'and',\n",
       " 'Turkish.[4][5]',\n",
       " 'The',\n",
       " 'show',\n",
       " 'has',\n",
       " 'made',\n",
       " 'it',\n",
       " 'to',\n",
       " 'the',\n",
       " 'list',\n",
       " 'of',\n",
       " 'Business',\n",
       " \"Insider's\",\n",
       " '20',\n",
       " 'TV',\n",
       " 'Shows',\n",
       " 'of',\n",
       " '2016.[6]',\n",
       " 'Since',\n",
       " 'April',\n",
       " '2017,',\n",
       " 'Running',\n",
       " 'Man',\n",
       " 'is',\n",
       " 'airing',\n",
       " 'as',\n",
       " 'the',\n",
       " 'first',\n",
       " 'part',\n",
       " 'of',\n",
       " 'Good',\n",
       " 'Sunday',\n",
       " 'at',\n",
       " '4:50',\n",
       " 'pm',\n",
       " 'KST',\n",
       " 'and',\n",
       " 'competing',\n",
       " 'against',\n",
       " \"KBS2's\",\n",
       " 'The',\n",
       " 'Return',\n",
       " 'of',\n",
       " 'Superman',\n",
       " 'and',\n",
       " \"MBC's\",\n",
       " 'King',\n",
       " 'of',\n",
       " 'Mask',\n",
       " 'Singer.[7]',\n",
       " 'Running',\n",
       " 'Man',\n",
       " 'previously',\n",
       " 'aired',\n",
       " 'at',\n",
       " '6:25',\n",
       " 'pm',\n",
       " 'KST',\n",
       " 'on',\n",
       " 'Sundays,',\n",
       " 'as',\n",
       " 'the',\n",
       " 'second',\n",
       " 'part',\n",
       " 'of',\n",
       " 'Good',\n",
       " 'Sunday,',\n",
       " 'competing',\n",
       " 'against',\n",
       " \"KBS2's\",\n",
       " '1',\n",
       " 'Night',\n",
       " '2',\n",
       " 'Days.']"
      ]
     },
     "execution_count": 69,
     "metadata": {},
     "output_type": "execute_result"
    }
   ],
   "source": [
    "text_split"
   ]
  },
  {
   "cell_type": "code",
   "execution_count": 72,
   "metadata": {},
   "outputs": [
    {
     "name": "stdout",
     "output_type": "stream",
     "text": [
      "['running', 'man', 'korean', '런닝맨', 'is', 'a', 'south', 'korean', 'variety', 'show', 'forming', 'part', 'of', 'sbs', 's', 'good', 'sunday', 'lineup', 'it', 'first', 'aired', 'on', 'july', '11', '2010', 'running', 'man', 'was', 'classified', 'as', 'an', 'urban', 'action', 'variety', 'a', 'genre', 'of', 'variety', 'shows', 'in', 'an', 'urban', 'environment', '1', 'the', 'mcs', 'and', 'guests', 'were', 'to', 'complete', 'missions', 'at', 'a', 'landmark', 'to', 'win', 'the', 'race', '2', 'the', 'show', 'has', 'since', 'shifted', 'to', 'a', 'more', 'familiar', 'reality', 'variety', 'show', 'concept', 'focused', 'on', 'games', 'it', 'has', 'garnered', 'attention', 'as', 'being', 'the', 'comeback', 'program', 'for', 'yoo', 'jae', 'suk', 'the', 'main', 'mc', 'of', 'the', 'program', 'after', 'leaving', 'good', 'sunday', 's', 'family', 'outing', 'in', 'february', '2010', '3', 'the', 'show', 'has', 'become', 'popular', 'in', 'other', 'parts', 'of', 'asia', 'and', 'has', 'gained', 'online', 'popularity', 'among', 'hallyu', 'fans', 'having', 'been', 'fansubbed', 'into', 'various', 'languages', 'such', 'as', 'english', 'spanish', 'portuguese', 'french', 'italian', 'thai', 'vietnamese', 'chinese', 'malay', 'indonesian', 'burmese', 'arabic', 'russian', 'and', 'turkish', '4', '5', 'the', 'show', 'has', 'made', 'it', 'to', 'the', 'list', 'of', 'business', 'insider', 's', '20', 'tv', 'shows', 'of', '2016', '6', 'since', 'april', '2017', 'running', 'man', 'is', 'airing', 'as', 'the', 'first', 'part', 'of', 'good', 'sunday', 'at', '4', '50', 'pm', 'kst', 'and', 'competing', 'against', 'kbs2', 's', 'the', 'return', 'of', 'superman', 'and', 'mbc', 's', 'king', 'of', 'mask', 'singer', '7', 'running', 'man', 'previously', 'aired', 'at', '6', '25', 'pm', 'kst', 'on', 'sundays', 'as', 'the', 'second', 'part', 'of', 'good', 'sunday', 'competing', 'against', 'kbs2', 's', '1', 'night', '2', 'days']\n"
     ]
    }
   ],
   "source": [
    "import re\n",
    "words=re.findall(\"\\w+\",text)\n",
    "#print(words)\n",
    "words_lower=[v.lower() for v in words]\n",
    "print(words_lower)"
   ]
  },
  {
   "cell_type": "code",
   "execution_count": 74,
   "metadata": {
    "collapsed": true
   },
   "outputs": [],
   "source": [
    "#and we use collections.Counter\n",
    "import collections\n",
    "my_counter=collections.Counter(words_lower)"
   ]
  },
  {
   "cell_type": "code",
   "execution_count": 75,
   "metadata": {},
   "outputs": [
    {
     "data": {
      "text/plain": [
       "Counter({'1': 2,\n",
       "         '11': 1,\n",
       "         '2': 2,\n",
       "         '20': 1,\n",
       "         '2010': 2,\n",
       "         '2016': 1,\n",
       "         '2017': 1,\n",
       "         '25': 1,\n",
       "         '3': 1,\n",
       "         '4': 2,\n",
       "         '5': 1,\n",
       "         '50': 1,\n",
       "         '6': 2,\n",
       "         '7': 1,\n",
       "         'a': 4,\n",
       "         'action': 1,\n",
       "         'after': 1,\n",
       "         'against': 2,\n",
       "         'aired': 2,\n",
       "         'airing': 1,\n",
       "         'among': 1,\n",
       "         'an': 2,\n",
       "         'and': 5,\n",
       "         'april': 1,\n",
       "         'arabic': 1,\n",
       "         'as': 5,\n",
       "         'asia': 1,\n",
       "         'at': 3,\n",
       "         'attention': 1,\n",
       "         'become': 1,\n",
       "         'been': 1,\n",
       "         'being': 1,\n",
       "         'burmese': 1,\n",
       "         'business': 1,\n",
       "         'chinese': 1,\n",
       "         'classified': 1,\n",
       "         'comeback': 1,\n",
       "         'competing': 2,\n",
       "         'complete': 1,\n",
       "         'concept': 1,\n",
       "         'days': 1,\n",
       "         'english': 1,\n",
       "         'environment': 1,\n",
       "         'familiar': 1,\n",
       "         'family': 1,\n",
       "         'fans': 1,\n",
       "         'fansubbed': 1,\n",
       "         'february': 1,\n",
       "         'first': 2,\n",
       "         'focused': 1,\n",
       "         'for': 1,\n",
       "         'forming': 1,\n",
       "         'french': 1,\n",
       "         'gained': 1,\n",
       "         'games': 1,\n",
       "         'garnered': 1,\n",
       "         'genre': 1,\n",
       "         'good': 4,\n",
       "         'guests': 1,\n",
       "         'hallyu': 1,\n",
       "         'has': 5,\n",
       "         'having': 1,\n",
       "         'in': 3,\n",
       "         'indonesian': 1,\n",
       "         'insider': 1,\n",
       "         'into': 1,\n",
       "         'is': 2,\n",
       "         'it': 3,\n",
       "         'italian': 1,\n",
       "         'jae': 1,\n",
       "         'july': 1,\n",
       "         'kbs2': 2,\n",
       "         'king': 1,\n",
       "         'korean': 2,\n",
       "         'kst': 2,\n",
       "         'landmark': 1,\n",
       "         'languages': 1,\n",
       "         'leaving': 1,\n",
       "         'lineup': 1,\n",
       "         'list': 1,\n",
       "         'made': 1,\n",
       "         'main': 1,\n",
       "         'malay': 1,\n",
       "         'man': 4,\n",
       "         'mask': 1,\n",
       "         'mbc': 1,\n",
       "         'mc': 1,\n",
       "         'mcs': 1,\n",
       "         'missions': 1,\n",
       "         'more': 1,\n",
       "         'night': 1,\n",
       "         'of': 10,\n",
       "         'on': 3,\n",
       "         'online': 1,\n",
       "         'other': 1,\n",
       "         'outing': 1,\n",
       "         'part': 3,\n",
       "         'parts': 1,\n",
       "         'pm': 2,\n",
       "         'popular': 1,\n",
       "         'popularity': 1,\n",
       "         'portuguese': 1,\n",
       "         'previously': 1,\n",
       "         'program': 2,\n",
       "         'race': 1,\n",
       "         'reality': 1,\n",
       "         'return': 1,\n",
       "         'running': 4,\n",
       "         'russian': 1,\n",
       "         's': 6,\n",
       "         'sbs': 1,\n",
       "         'second': 1,\n",
       "         'shifted': 1,\n",
       "         'show': 5,\n",
       "         'shows': 2,\n",
       "         'since': 2,\n",
       "         'singer': 1,\n",
       "         'south': 1,\n",
       "         'spanish': 1,\n",
       "         'such': 1,\n",
       "         'suk': 1,\n",
       "         'sunday': 4,\n",
       "         'sundays': 1,\n",
       "         'superman': 1,\n",
       "         'thai': 1,\n",
       "         'the': 12,\n",
       "         'to': 4,\n",
       "         'turkish': 1,\n",
       "         'tv': 1,\n",
       "         'urban': 2,\n",
       "         'variety': 4,\n",
       "         'various': 1,\n",
       "         'vietnamese': 1,\n",
       "         'was': 1,\n",
       "         'were': 1,\n",
       "         'win': 1,\n",
       "         'yoo': 1,\n",
       "         '런닝맨': 1})"
      ]
     },
     "execution_count": 75,
     "metadata": {},
     "output_type": "execute_result"
    }
   ],
   "source": [
    "my_counter"
   ]
  },
  {
   "cell_type": "code",
   "execution_count": 76,
   "metadata": {},
   "outputs": [
    {
     "data": {
      "text/plain": [
       "['__add__',\n",
       " '__and__',\n",
       " '__class__',\n",
       " '__contains__',\n",
       " '__delattr__',\n",
       " '__delitem__',\n",
       " '__dict__',\n",
       " '__dir__',\n",
       " '__doc__',\n",
       " '__eq__',\n",
       " '__format__',\n",
       " '__ge__',\n",
       " '__getattribute__',\n",
       " '__getitem__',\n",
       " '__gt__',\n",
       " '__hash__',\n",
       " '__iadd__',\n",
       " '__iand__',\n",
       " '__init__',\n",
       " '__init_subclass__',\n",
       " '__ior__',\n",
       " '__isub__',\n",
       " '__iter__',\n",
       " '__le__',\n",
       " '__len__',\n",
       " '__lt__',\n",
       " '__missing__',\n",
       " '__module__',\n",
       " '__ne__',\n",
       " '__neg__',\n",
       " '__new__',\n",
       " '__or__',\n",
       " '__pos__',\n",
       " '__reduce__',\n",
       " '__reduce_ex__',\n",
       " '__repr__',\n",
       " '__setattr__',\n",
       " '__setitem__',\n",
       " '__sizeof__',\n",
       " '__str__',\n",
       " '__sub__',\n",
       " '__subclasshook__',\n",
       " '__weakref__',\n",
       " '_keep_positive',\n",
       " 'clear',\n",
       " 'copy',\n",
       " 'elements',\n",
       " 'fromkeys',\n",
       " 'get',\n",
       " 'items',\n",
       " 'keys',\n",
       " 'most_common',\n",
       " 'pop',\n",
       " 'popitem',\n",
       " 'setdefault',\n",
       " 'subtract',\n",
       " 'update',\n",
       " 'values']"
      ]
     },
     "execution_count": 76,
     "metadata": {},
     "output_type": "execute_result"
    }
   ],
   "source": [
    "#check all the methods that we can use for a variable we defined using collections.Counter\n",
    "dir(my_counter)"
   ]
  },
  {
   "cell_type": "code",
   "execution_count": 77,
   "metadata": {},
   "outputs": [
    {
     "data": {
      "text/plain": [
       "[('the', 12),\n",
       " ('of', 10),\n",
       " ('s', 6),\n",
       " ('show', 5),\n",
       " ('as', 5),\n",
       " ('and', 5),\n",
       " ('has', 5),\n",
       " ('running', 4),\n",
       " ('man', 4),\n",
       " ('a', 4),\n",
       " ('variety', 4),\n",
       " ('good', 4),\n",
       " ('sunday', 4),\n",
       " ('to', 4),\n",
       " ('part', 3),\n",
       " ('it', 3),\n",
       " ('on', 3),\n",
       " ('in', 3),\n",
       " ('at', 3),\n",
       " ('korean', 2),\n",
       " ('is', 2),\n",
       " ('first', 2),\n",
       " ('aired', 2),\n",
       " ('2010', 2),\n",
       " ('an', 2),\n",
       " ('urban', 2),\n",
       " ('shows', 2),\n",
       " ('1', 2),\n",
       " ('2', 2),\n",
       " ('since', 2),\n",
       " ('program', 2),\n",
       " ('4', 2),\n",
       " ('6', 2),\n",
       " ('pm', 2),\n",
       " ('kst', 2),\n",
       " ('competing', 2),\n",
       " ('against', 2),\n",
       " ('kbs2', 2),\n",
       " ('런닝맨', 1),\n",
       " ('south', 1),\n",
       " ('forming', 1),\n",
       " ('sbs', 1),\n",
       " ('lineup', 1),\n",
       " ('july', 1),\n",
       " ('11', 1),\n",
       " ('was', 1),\n",
       " ('classified', 1),\n",
       " ('action', 1),\n",
       " ('genre', 1),\n",
       " ('environment', 1),\n",
       " ('mcs', 1),\n",
       " ('guests', 1),\n",
       " ('were', 1),\n",
       " ('complete', 1),\n",
       " ('missions', 1),\n",
       " ('landmark', 1),\n",
       " ('win', 1),\n",
       " ('race', 1),\n",
       " ('shifted', 1),\n",
       " ('more', 1),\n",
       " ('familiar', 1),\n",
       " ('reality', 1),\n",
       " ('concept', 1),\n",
       " ('focused', 1),\n",
       " ('games', 1),\n",
       " ('garnered', 1),\n",
       " ('attention', 1),\n",
       " ('being', 1),\n",
       " ('comeback', 1),\n",
       " ('for', 1),\n",
       " ('yoo', 1),\n",
       " ('jae', 1),\n",
       " ('suk', 1),\n",
       " ('main', 1),\n",
       " ('mc', 1),\n",
       " ('after', 1),\n",
       " ('leaving', 1),\n",
       " ('family', 1),\n",
       " ('outing', 1),\n",
       " ('february', 1),\n",
       " ('3', 1),\n",
       " ('become', 1),\n",
       " ('popular', 1),\n",
       " ('other', 1),\n",
       " ('parts', 1),\n",
       " ('asia', 1),\n",
       " ('gained', 1),\n",
       " ('online', 1),\n",
       " ('popularity', 1),\n",
       " ('among', 1),\n",
       " ('hallyu', 1),\n",
       " ('fans', 1),\n",
       " ('having', 1),\n",
       " ('been', 1),\n",
       " ('fansubbed', 1),\n",
       " ('into', 1),\n",
       " ('various', 1),\n",
       " ('languages', 1),\n",
       " ('such', 1),\n",
       " ('english', 1),\n",
       " ('spanish', 1),\n",
       " ('portuguese', 1),\n",
       " ('french', 1),\n",
       " ('italian', 1),\n",
       " ('thai', 1),\n",
       " ('vietnamese', 1),\n",
       " ('chinese', 1),\n",
       " ('malay', 1),\n",
       " ('indonesian', 1),\n",
       " ('burmese', 1),\n",
       " ('arabic', 1),\n",
       " ('russian', 1),\n",
       " ('turkish', 1),\n",
       " ('5', 1),\n",
       " ('made', 1),\n",
       " ('list', 1),\n",
       " ('business', 1),\n",
       " ('insider', 1),\n",
       " ('20', 1),\n",
       " ('tv', 1),\n",
       " ('2016', 1),\n",
       " ('april', 1),\n",
       " ('2017', 1),\n",
       " ('airing', 1),\n",
       " ('50', 1),\n",
       " ('return', 1),\n",
       " ('superman', 1),\n",
       " ('mbc', 1),\n",
       " ('king', 1),\n",
       " ('mask', 1),\n",
       " ('singer', 1),\n",
       " ('7', 1),\n",
       " ('previously', 1),\n",
       " ('25', 1),\n",
       " ('sundays', 1),\n",
       " ('second', 1),\n",
       " ('night', 1),\n",
       " ('days', 1)]"
      ]
     },
     "execution_count": 77,
     "metadata": {},
     "output_type": "execute_result"
    }
   ],
   "source": [
    "#which includes the most common\n",
    "my_counter.most_common()"
   ]
  },
  {
   "cell_type": "code",
   "execution_count": 82,
   "metadata": {},
   "outputs": [
    {
     "name": "stdout",
     "output_type": "stream",
     "text": [
      "[('the', 12), ('of', 10), ('s', 6), ('show', 5), ('as', 5), ('and', 5), ('has', 5), ('running', 4), ('man', 4), ('a', 4), ('variety', 4), ('good', 4), ('sunday', 4), ('to', 4), ('part', 3), ('it', 3), ('on', 3), ('in', 3), ('at', 3), ('korean', 2)]\n"
     ]
    }
   ],
   "source": [
    "#now the full example\n",
    "import re\n",
    "import collections\n",
    "#words=text.split()\n",
    "words=re.findall(\"\\w+\",text) # a more advanced word splitting functions that ignores punctuation\n",
    "#print(words)\n",
    "words_lower=[v.lower() for v in words] #make everything lowercase\n",
    "#print(words_lower)\n",
    "\n",
    "my_counter=collections.Counter(words_lower)\n",
    "most_common=my_counter.most_common(20) #get the top 20 words\n",
    "print(most_common)"
   ]
  },
  {
   "cell_type": "code",
   "execution_count": 83,
   "metadata": {},
   "outputs": [
    {
     "name": "stdout",
     "output_type": "stream",
     "text": [
      "The slowest run took 5.67 times longer than the fastest. This could mean that an intermediate result is being cached.\n",
      "10000 loops, best of 3: 15.4 µs per loop\n"
     ]
    }
   ],
   "source": [
    "%timeit words=text.split() #we can compare the two different split functions"
   ]
  },
  {
   "cell_type": "code",
   "execution_count": 84,
   "metadata": {},
   "outputs": [
    {
     "name": "stdout",
     "output_type": "stream",
     "text": [
      "The slowest run took 8.52 times longer than the fastest. This could mean that an intermediate result is being cached.\n",
      "10000 loops, best of 3: 90 µs per loop\n"
     ]
    }
   ],
   "source": [
    "%timeit re.findall(\"\\w+\",text)"
   ]
  },
  {
   "cell_type": "code",
   "execution_count": null,
   "metadata": {
    "collapsed": true
   },
   "outputs": [],
   "source": []
  }
 ],
 "metadata": {
  "kernelspec": {
   "display_name": "Python 3",
   "language": "python",
   "name": "python3"
  },
  "language_info": {
   "codemirror_mode": {
    "name": "ipython",
    "version": 3
   },
   "file_extension": ".py",
   "mimetype": "text/x-python",
   "name": "python",
   "nbconvert_exporter": "python",
   "pygments_lexer": "ipython3",
   "version": "3.6.1"
  }
 },
 "nbformat": 4,
 "nbformat_minor": 2
}
