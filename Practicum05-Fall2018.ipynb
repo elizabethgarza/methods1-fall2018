{
 "cells": [
  {
   "cell_type": "code",
   "execution_count": 23,
   "metadata": {},
   "outputs": [],
   "source": [
    "import nltk"
   ]
  },
  {
   "cell_type": "code",
   "execution_count": 24,
   "metadata": {
    "collapsed": true
   },
   "outputs": [],
   "source": [
    "import nltk"
   ]
  },
  {
   "cell_type": "code",
   "execution_count": 25,
   "metadata": {
    "collapsed": true
   },
   "outputs": [],
   "source": [
    "text=\"I'm not very good at this, but sometimes it works!\""
   ]
  },
  {
   "cell_type": "code",
   "execution_count": 4,
   "metadata": {},
   "outputs": [
    {
     "data": {
      "text/plain": [
       "[\"I'm\",\n",
       " 'not',\n",
       " 'very',\n",
       " 'good',\n",
       " 'at',\n",
       " 'this,',\n",
       " 'but',\n",
       " 'sometimes',\n",
       " 'it',\n",
       " 'works!']"
      ]
     },
     "execution_count": 4,
     "metadata": {},
     "output_type": "execute_result"
    }
   ],
   "source": [
    "text.split() #text split method 1"
   ]
  },
  {
   "cell_type": "code",
   "execution_count": 5,
   "metadata": {},
   "outputs": [
    {
     "name": "stdout",
     "output_type": "stream",
     "text": [
      "The slowest run took 40.62 times longer than the fastest. This could mean that an intermediate result is being cached.\n",
      "100000 loops, best of 3: 5.61 µs per loop\n"
     ]
    }
   ],
   "source": [
    "import re\n",
    "%timeit re.findall(\"\\w+\",text) #text split method 2, using regular expression"
   ]
  },
  {
   "cell_type": "code",
   "execution_count": 6,
   "metadata": {},
   "outputs": [
    {
     "name": "stdout",
     "output_type": "stream",
     "text": [
      "The slowest run took 98.17 times longer than the fastest. This could mean that an intermediate result is being cached.\n",
      "10000 loops, best of 3: 181 µs per loop\n"
     ]
    }
   ],
   "source": [
    "%timeit nltk.word_tokenize(text) #text split method 3 using NLTK"
   ]
  },
  {
   "cell_type": "code",
   "execution_count": 7,
   "metadata": {},
   "outputs": [
    {
     "name": "stdout",
     "output_type": "stream",
     "text": [
      "[nltk_data] Downloading package punkt to /Users/hmghaly/nltk_data...\n",
      "[nltk_data]   Package punkt is already up-to-date!\n"
     ]
    }
   ],
   "source": [
    "assert nltk.download(\"punkt\") #just to make sure nltk tokenizer works"
   ]
  },
  {
   "cell_type": "code",
   "execution_count": 8,
   "metadata": {},
   "outputs": [
    {
     "data": {
      "text/plain": [
       "['here we go',\n",
       " ' I know everyone',\n",
       " \" but let's see\",\n",
       " ' I have 3',\n",
       " '2 GPA',\n",
       " ' And see! what else? Now ask Mr',\n",
       " ' Gee about it',\n",
       " '']"
      ]
     },
     "execution_count": 8,
     "metadata": {},
     "output_type": "execute_result"
    }
   ],
   "source": [
    "big_text=\"here we go. I know everyone. but let's see. I have 3.2 GPA. And see! what else? Now ask Mr. Gee about it.\"\n",
    "big_text.split(\".\") #text split into sentences - method 1\n"
   ]
  },
  {
   "cell_type": "code",
   "execution_count": 9,
   "metadata": {},
   "outputs": [
    {
     "data": {
      "text/plain": [
       "['here we go',\n",
       " 'I know everyone',\n",
       " \"but let's see\",\n",
       " 'I have 3.2 GPA',\n",
       " 'And see',\n",
       " 'what else',\n",
       " 'Now ask Mr',\n",
       " 'Gee about it.']"
      ]
     },
     "execution_count": 9,
     "metadata": {},
     "output_type": "execute_result"
    }
   ],
   "source": [
    "re.split(\"[\\.\\?\\!]\\s\",big_text) #text split into sentences - method 2 using regular expression"
   ]
  },
  {
   "cell_type": "code",
   "execution_count": 10,
   "metadata": {},
   "outputs": [
    {
     "data": {
      "text/plain": [
       "['here we go.',\n",
       " 'I know everyone.',\n",
       " \"but let's see.\",\n",
       " 'I have 3.2 GPA.',\n",
       " 'And see!',\n",
       " 'what else?',\n",
       " 'Now ask Mr. Gee about it.']"
      ]
     },
     "execution_count": 10,
     "metadata": {},
     "output_type": "execute_result"
    }
   ],
   "source": [
    "nltk.sent_tokenize(big_text) #text split into sentences - method 3 using NLTK"
   ]
  },
  {
   "cell_type": "code",
   "execution_count": 11,
   "metadata": {},
   "outputs": [
    {
     "name": "stdout",
     "output_type": "stream",
     "text": [
      "[nltk_data] Downloading package punkt to /Users/hmghaly/nltk_data...\n",
      "[nltk_data]   Package punkt is already up-to-date!\n",
      "# of sentences: 6\n"
     ]
    }
   ],
   "source": [
    "# Step 1.\n",
    "import nltk\n",
    "\n",
    "# Step 2.\n",
    "paragraph = \"Cortinarius caperatus, commonly known as the gypsy mushroom, is an edible mushroom of the genus Cortinarius found in northern regions of Europe and North America. It was known as Rozites caperata for many years, before genetic studies revealed it lay within the large genus Cortinarius. The fruit bodies appear in autumn in coniferous and beech woods, as well as heathlands in late summer and autumn. The ochre-coloured cap is up to 10 cm (4 in) across and has a fibrous surface. The clay-coloured gills are attached to the stipe under the cap—and the stipe is whitish with a whitish ring. The flesh has a mild smell and flavour.\"\n",
    "\n",
    "# Step 3.\n",
    "assert nltk.download(\"punkt\")\n",
    "\n",
    "# Step 4.\n",
    "sentences = nltk.sent_tokenize(paragraph)\n",
    "\n",
    "# Step 5.\n",
    "print(f\"# of sentences: {len(sentences)}\")"
   ]
  },
  {
   "cell_type": "code",
   "execution_count": 12,
   "metadata": {
    "collapsed": true
   },
   "outputs": [],
   "source": [
    "#text=\"\"\n",
    "#split into sentences\n",
    "#make a for-loop, print each sentence"
   ]
  },
  {
   "cell_type": "code",
   "execution_count": 26,
   "metadata": {
    "collapsed": true
   },
   "outputs": [],
   "source": [
    "big_text=\"here we go. I know everyone. but let's see. I have 3.2 GPA. And see! what else? Now ask Mr. Gee about it.\"\n",
    "#split_text=big_text.split()\n",
    "split_text=nltk.sent_tokenize(big_text)"
   ]
  },
  {
   "cell_type": "code",
   "execution_count": 14,
   "metadata": {},
   "outputs": [
    {
     "data": {
      "text/plain": [
       "str"
      ]
     },
     "execution_count": 14,
     "metadata": {},
     "output_type": "execute_result"
    }
   ],
   "source": [
    "type(big_text) #the text to be split is of type string"
   ]
  },
  {
   "cell_type": "code",
   "execution_count": 15,
   "metadata": {},
   "outputs": [
    {
     "data": {
      "text/plain": [
       "list"
      ]
     },
     "execution_count": 15,
     "metadata": {},
     "output_type": "execute_result"
    }
   ],
   "source": [
    "type(split_text) #the split text is of type list"
   ]
  },
  {
   "cell_type": "code",
   "execution_count": 27,
   "metadata": {},
   "outputs": [
    {
     "name": "stdout",
     "output_type": "stream",
     "text": [
      "11\n",
      "16\n",
      "14\n",
      "15\n",
      "8\n",
      "10\n",
      "25\n"
     ]
    }
   ],
   "source": [
    "for item in split_text: #we can iterate over the split text (sentences)\n",
    "    print(len(item))"
   ]
  },
  {
   "cell_type": "code",
   "execution_count": 17,
   "metadata": {
    "scrolled": true
   },
   "outputs": [
    {
     "name": "stdout",
     "output_type": "stream",
     "text": [
      "here we go.\n",
      "['here', 'we', 'go', '.']\n",
      "----\n",
      "I know everyone.\n",
      "['I', 'know', 'everyone', '.']\n",
      "----\n",
      "but let's see.\n",
      "['but', 'let', \"'s\", 'see', '.']\n",
      "----\n",
      "I have 3.2 GPA.\n",
      "['I', 'have', '3.2', 'GPA', '.']\n",
      "----\n",
      "And see!\n",
      "['And', 'see', '!']\n",
      "----\n",
      "what else?\n",
      "['what', 'else', '?']\n",
      "----\n",
      "Now ask Mr. Gee about it.\n",
      "['Now', 'ask', 'Mr.', 'Gee', 'about', 'it', '.']\n",
      "----\n"
     ]
    }
   ],
   "source": [
    "#we can iterate over the sentences, and split each into words\n",
    "for item in split_text:\n",
    "    print(item)\n",
    "    item_words=nltk.word_tokenize(item)\n",
    "    print(item_words)\n",
    "    print(\"----\")"
   ]
  },
  {
   "cell_type": "code",
   "execution_count": 18,
   "metadata": {
    "collapsed": true
   },
   "outputs": [],
   "source": [
    "all_words=nltk.word_tokenize(big_text) #we can split the whole text into words"
   ]
  },
  {
   "cell_type": "code",
   "execution_count": 19,
   "metadata": {},
   "outputs": [
    {
     "data": {
      "text/plain": [
       "['here',\n",
       " 'we',\n",
       " 'go',\n",
       " '.',\n",
       " 'I',\n",
       " 'know',\n",
       " 'everyone',\n",
       " '.',\n",
       " 'but',\n",
       " 'let',\n",
       " \"'s\",\n",
       " 'see',\n",
       " '.',\n",
       " 'I',\n",
       " 'have',\n",
       " '3.2',\n",
       " 'GPA',\n",
       " '.',\n",
       " 'And',\n",
       " 'see',\n",
       " '!',\n",
       " 'what',\n",
       " 'else',\n",
       " '?',\n",
       " 'Now',\n",
       " 'ask',\n",
       " 'Mr.',\n",
       " 'Gee',\n",
       " 'about',\n",
       " 'it',\n",
       " '.']"
      ]
     },
     "execution_count": 19,
     "metadata": {},
     "output_type": "execute_result"
    }
   ],
   "source": [
    "all_words"
   ]
  },
  {
   "cell_type": "code",
   "execution_count": 20,
   "metadata": {
    "collapsed": true
   },
   "outputs": [],
   "source": [
    "#these are two different ways of importing libraries\n",
    "#from collections import Counter\n",
    "import collections "
   ]
  },
  {
   "cell_type": "code",
   "execution_count": 28,
   "metadata": {},
   "outputs": [],
   "source": [
    "my_counter=collections.Counter(all_words)"
   ]
  },
  {
   "cell_type": "code",
   "execution_count": 22,
   "metadata": {},
   "outputs": [
    {
     "data": {
      "text/plain": [
       "[('.', 5), ('I', 2), ('see', 2), ('here', 1), ('we', 1)]"
      ]
     },
     "execution_count": 22,
     "metadata": {},
     "output_type": "execute_result"
    }
   ],
   "source": [
    "my_counter.most_common(5) #getting the top 5 words in terms of frequency"
   ]
  },
  {
   "cell_type": "code",
   "execution_count": 29,
   "metadata": {
    "collapsed": true
   },
   "outputs": [],
   "source": [
    "import os"
   ]
  },
  {
   "cell_type": "code",
   "execution_count": 30,
   "metadata": {},
   "outputs": [
    {
     "data": {
      "text/plain": [
       "'/Users/hmghaly'"
      ]
     },
     "execution_count": 30,
     "metadata": {},
     "output_type": "execute_result"
    }
   ],
   "source": [
    "os.getcwd() #if we use import os"
   ]
  },
  {
   "cell_type": "code",
   "execution_count": 31,
   "metadata": {
    "collapsed": true
   },
   "outputs": [],
   "source": [
    "from os import getcwd"
   ]
  },
  {
   "cell_type": "code",
   "execution_count": 32,
   "metadata": {},
   "outputs": [
    {
     "data": {
      "text/plain": [
       "'/Users/hmghaly'"
      ]
     },
     "execution_count": 32,
     "metadata": {},
     "output_type": "execute_result"
    }
   ],
   "source": [
    "getcwd() #if we use from os import getcwd, we can use getcwd on its own"
   ]
  },
  {
   "cell_type": "code",
   "execution_count": 33,
   "metadata": {
    "collapsed": true
   },
   "outputs": [],
   "source": [
    "import collections as col #we can use import *library* as *any_String*"
   ]
  },
  {
   "cell_type": "code",
   "execution_count": 34,
   "metadata": {},
   "outputs": [
    {
     "data": {
      "text/plain": [
       "Counter({1: 1, 2: 1, 3: 1})"
      ]
     },
     "execution_count": 34,
     "metadata": {},
     "output_type": "execute_result"
    }
   ],
   "source": [
    "col.Counter([1,2,3])"
   ]
  },
  {
   "cell_type": "markdown",
   "metadata": {},
   "source": [
    "1. Define a class called `Tavern`. (Create a class with a trivial `__init__`.)\n",
    "2. Add a constructor (`__init__`) argument `barkeep_name` (a string), and store it in the instance variable `barkeep`.\n",
    "3. Add another constructor argument `talking_badger_name` (a string), and store it in the instance variable `talking_badger_name`.\n",
    "4. Add an instance variable `barkeep_smoking_pipe` set to `False` when the classes is constructed.\n",
    "5. Add a instance method `light_barkeep_pipe` which changes the `barkeep_smoking_pipe` instance variable to `True`.\n",
    "6. Create a `Tavern` called `magic_tavern` with a barkeep named `\"Griffony\"` and a talking badger named `\"Chungo\"`.\n",
    "7. Then, light Griffony's pipe using the instance method you created in step 5."
   ]
  },
  {
   "cell_type": "code",
   "execution_count": 69,
   "metadata": {},
   "outputs": [],
   "source": [
    "#implementation of the class\n",
    "class tavern:\n",
    "    def __init__(self,barkeep_name,talking_badger_name): #arguments\n",
    "        #assert type(barkeep_name) is str\n",
    "        self.barkeep=str(barkeep_name)  #instance variable\n",
    "        self.talking_badger_name=talking_badger_name\n",
    "        self.barkeep_smoking_pipe=False\n",
    "    def light_barkeep_pipe(self): #class method\n",
    "        print(\"lighting the smoking pipe\")\n",
    "        self.barkeep_smoking_pipe=True\n",
    "    def __repr__(self):\n",
    "        \n",
    "        return f\"This is a tavern instance, barkeeeper {self.barkeep}, badger {self.talking_badger_name}, smokeing: {self.barkeep_smoking_pipe}\"\n",
    "        \n",
    "        \n"
   ]
  },
  {
   "cell_type": "code",
   "execution_count": 70,
   "metadata": {},
   "outputs": [],
   "source": [
    "my_tavern=tavern(\"Josh\",\"Chungo\") #my_tavern is an instance of class tavern"
   ]
  },
  {
   "cell_type": "code",
   "execution_count": 72,
   "metadata": {},
   "outputs": [
    {
     "name": "stdout",
     "output_type": "stream",
     "text": [
      "lighting the smoking pipe\n"
     ]
    }
   ],
   "source": [
    "my_tavern.light_barkeep_pipe() #we can call the class method light_barkeep_pipe"
   ]
  },
  {
   "cell_type": "code",
   "execution_count": 73,
   "metadata": {},
   "outputs": [
    {
     "data": {
      "text/plain": [
       "'This is a tavern instance, barkeeeper Josh, badger Chungo, smokeing: True'"
      ]
     },
     "execution_count": 73,
     "metadata": {},
     "output_type": "execute_result"
    }
   ],
   "source": [
    "repr(my_tavern)"
   ]
  },
  {
   "cell_type": "code",
   "execution_count": 74,
   "metadata": {
    "collapsed": true
   },
   "outputs": [],
   "source": [
    "#understanding the difference between class defintion \"human\", and class instance \"hussein\"\n",
    "class human:\n",
    "    def __init__(self,name):\n",
    "        self.name=name\n",
    "        self.is_alive=True\n",
    "\n",
    "hussein=human(\"Hussein\")"
   ]
  },
  {
   "cell_type": "code",
   "execution_count": 75,
   "metadata": {},
   "outputs": [
    {
     "data": {
      "text/plain": [
       "'<__main__.human object at 0x1a14daaef0>'"
      ]
     },
     "execution_count": 75,
     "metadata": {},
     "output_type": "execute_result"
    }
   ],
   "source": [
    "repr(hussein)"
   ]
  },
  {
   "cell_type": "code",
   "execution_count": 76,
   "metadata": {
    "collapsed": true
   },
   "outputs": [],
   "source": [
    "josh=human(\"Josh\") #josh is another instance"
   ]
  },
  {
   "cell_type": "code",
   "execution_count": 77,
   "metadata": {},
   "outputs": [
    {
     "data": {
      "text/plain": [
       "'<__main__.human object at 0x1a14daa940>'"
      ]
     },
     "execution_count": 77,
     "metadata": {},
     "output_type": "execute_result"
    }
   ],
   "source": [
    "repr(josh)"
   ]
  },
  {
   "cell_type": "code",
   "execution_count": 78,
   "metadata": {
    "collapsed": true
   },
   "outputs": [],
   "source": [
    "amy=human(\"Amy\") #amy is a third instance"
   ]
  },
  {
   "cell_type": "code",
   "execution_count": 79,
   "metadata": {},
   "outputs": [
    {
     "data": {
      "text/plain": [
       "['__class__',\n",
       " '__delattr__',\n",
       " '__dict__',\n",
       " '__dir__',\n",
       " '__doc__',\n",
       " '__eq__',\n",
       " '__format__',\n",
       " '__ge__',\n",
       " '__getattribute__',\n",
       " '__gt__',\n",
       " '__hash__',\n",
       " '__init__',\n",
       " '__init_subclass__',\n",
       " '__le__',\n",
       " '__lt__',\n",
       " '__module__',\n",
       " '__ne__',\n",
       " '__new__',\n",
       " '__reduce__',\n",
       " '__reduce_ex__',\n",
       " '__repr__',\n",
       " '__setattr__',\n",
       " '__sizeof__',\n",
       " '__str__',\n",
       " '__subclasshook__',\n",
       " '__weakref__',\n",
       " 'is_alive',\n",
       " 'name']"
      ]
     },
     "execution_count": 79,
     "metadata": {},
     "output_type": "execute_result"
    }
   ],
   "source": [
    "dir(amy) #we can use dir() to see the class methods and variables"
   ]
  },
  {
   "cell_type": "code",
   "execution_count": 80,
   "metadata": {
    "collapsed": true
   },
   "outputs": [],
   "source": [
    "#another example, class defintion \"animal\", class instance \"horse\"\n",
    "class animal:\n",
    "    def __init__(self):\n",
    "        self.is_alive=True\n",
    "\n",
    "horse=animal()"
   ]
  },
  {
   "cell_type": "code",
   "execution_count": 81,
   "metadata": {},
   "outputs": [
    {
     "data": {
      "text/plain": [
       "['__class__',\n",
       " '__delattr__',\n",
       " '__dict__',\n",
       " '__dir__',\n",
       " '__doc__',\n",
       " '__eq__',\n",
       " '__format__',\n",
       " '__ge__',\n",
       " '__getattribute__',\n",
       " '__gt__',\n",
       " '__hash__',\n",
       " '__init__',\n",
       " '__init_subclass__',\n",
       " '__le__',\n",
       " '__lt__',\n",
       " '__module__',\n",
       " '__ne__',\n",
       " '__new__',\n",
       " '__reduce__',\n",
       " '__reduce_ex__',\n",
       " '__repr__',\n",
       " '__setattr__',\n",
       " '__sizeof__',\n",
       " '__str__',\n",
       " '__subclasshook__',\n",
       " '__weakref__',\n",
       " 'is_alive']"
      ]
     },
     "execution_count": 81,
     "metadata": {},
     "output_type": "execute_result"
    }
   ],
   "source": [
    "dir(horse)"
   ]
  },
  {
   "cell_type": "code",
   "execution_count": 82,
   "metadata": {},
   "outputs": [
    {
     "data": {
      "text/plain": [
       "['__class__',\n",
       " '__delattr__',\n",
       " '__dict__',\n",
       " '__dir__',\n",
       " '__doc__',\n",
       " '__eq__',\n",
       " '__format__',\n",
       " '__ge__',\n",
       " '__getattribute__',\n",
       " '__gt__',\n",
       " '__hash__',\n",
       " '__init__',\n",
       " '__init_subclass__',\n",
       " '__le__',\n",
       " '__lt__',\n",
       " '__module__',\n",
       " '__ne__',\n",
       " '__new__',\n",
       " '__reduce__',\n",
       " '__reduce_ex__',\n",
       " '__repr__',\n",
       " '__setattr__',\n",
       " '__sizeof__',\n",
       " '__str__',\n",
       " '__subclasshook__',\n",
       " '__weakref__',\n",
       " 'is_alive',\n",
       " 'name']"
      ]
     },
     "execution_count": 82,
     "metadata": {},
     "output_type": "execute_result"
    }
   ],
   "source": [
    "dir(amy)"
   ]
  },
  {
   "cell_type": "code",
   "execution_count": 90,
   "metadata": {
    "collapsed": true
   },
   "outputs": [],
   "source": [
    "#a little bit about class inheretence, animal class is parent of human class\n",
    "class human(animal):\n",
    "    def __init__(self,name):\n",
    "        animal.__init__(self)\n",
    "        self.name=name"
   ]
  },
  {
   "cell_type": "code",
   "execution_count": 91,
   "metadata": {},
   "outputs": [],
   "source": [
    "adam=human(\"Adam\")"
   ]
  },
  {
   "cell_type": "code",
   "execution_count": 89,
   "metadata": {},
   "outputs": [
    {
     "data": {
      "text/plain": [
       "['__class__',\n",
       " '__delattr__',\n",
       " '__dict__',\n",
       " '__dir__',\n",
       " '__doc__',\n",
       " '__eq__',\n",
       " '__format__',\n",
       " '__ge__',\n",
       " '__getattribute__',\n",
       " '__gt__',\n",
       " '__hash__',\n",
       " '__init__',\n",
       " '__init_subclass__',\n",
       " '__le__',\n",
       " '__lt__',\n",
       " '__module__',\n",
       " '__ne__',\n",
       " '__new__',\n",
       " '__reduce__',\n",
       " '__reduce_ex__',\n",
       " '__repr__',\n",
       " '__setattr__',\n",
       " '__sizeof__',\n",
       " '__str__',\n",
       " '__subclasshook__',\n",
       " '__weakref__',\n",
       " 'is_alive',\n",
       " 'name']"
      ]
     },
     "execution_count": 89,
     "metadata": {},
     "output_type": "execute_result"
    }
   ],
   "source": [
    "dir(adam)"
   ]
  },
  {
   "cell_type": "code",
   "execution_count": null,
   "metadata": {
    "collapsed": true
   },
   "outputs": [],
   "source": []
  }
 ],
 "metadata": {
  "kernelspec": {
   "display_name": "Python 3",
   "language": "python",
   "name": "python3"
  },
  "language_info": {
   "codemirror_mode": {
    "name": "ipython",
    "version": 3
   },
   "file_extension": ".py",
   "mimetype": "text/x-python",
   "name": "python",
   "nbconvert_exporter": "python",
   "pygments_lexer": "ipython3",
   "version": "3.6.1"
  }
 },
 "nbformat": 4,
 "nbformat_minor": 2
}
