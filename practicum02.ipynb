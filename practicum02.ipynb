{
 "cells": [
  {
   "cell_type": "code",
   "execution_count": 142,
   "metadata": {},
   "outputs": [
    {
     "name": "stdout",
     "output_type": "stream",
     "text": [
      "1\n",
      "2\n",
      "3\n",
      "4\n",
      "5\n",
      "6\n",
      "7 <<<<\n",
      "8\n",
      "9\n",
      "10\n",
      "11\n",
      "12\n",
      "13\n",
      "14 <<<<\n",
      "15\n",
      "16\n",
      "17\n",
      "18\n",
      "19\n",
      "20\n",
      "21 <<<<\n",
      "22\n",
      "23\n",
      "24\n",
      "25\n",
      "26\n",
      "27\n",
      "28 <<<<\n",
      "29\n",
      "30\n",
      "31\n",
      "32\n",
      "33\n",
      "34\n",
      "35 <<<<\n",
      "36\n",
      "37\n",
      "38\n",
      "39\n",
      "40\n",
      "41\n",
      "42 <<<<\n",
      "43\n",
      "44\n",
      "45\n",
      "46\n",
      "47\n",
      "48\n",
      "49 <<<<\n",
      "50\n"
     ]
    }
   ],
   "source": [
    "#iterate over n numbers, check if each of these is divisible by 7\n",
    "n=50\n",
    "for i in range(1, n+1):\n",
    "    if i % 7 ==0: print(i, \"<<<<\")\n",
    "    else: print(i)\n",
    "    "
   ]
  },
  {
   "cell_type": "code",
   "execution_count": 8,
   "metadata": {},
   "outputs": [
    {
     "name": "stdout",
     "output_type": "stream",
     "text": [
      "[0, 1, 2, 3, 4, 5, 6, 7, 8, 9]\n"
     ]
    }
   ],
   "source": [
    "#you can use range() with one argument (end)\n",
    "a=[v for v in range(10)]\n",
    "print(a)"
   ]
  },
  {
   "cell_type": "code",
   "execution_count": 10,
   "metadata": {},
   "outputs": [
    {
     "name": "stdout",
     "output_type": "stream",
     "text": [
      "[5, 6, 7, 8, 9]\n"
     ]
    }
   ],
   "source": [
    "#you can use range() with two arguments (start,end)\n",
    "a=[v for v in range(5,10)]\n",
    "print(a)"
   ]
  },
  {
   "cell_type": "code",
   "execution_count": 12,
   "metadata": {},
   "outputs": [
    {
     "name": "stdout",
     "output_type": "stream",
     "text": [
      "[0, 2, 4, 6, 8]\n"
     ]
    }
   ],
   "source": [
    "#you can use range() with three arguments (start,end,step)\n",
    "a=[v for v in range(0,10,2)]\n",
    "print(a)"
   ]
  },
  {
   "cell_type": "code",
   "execution_count": 13,
   "metadata": {},
   "outputs": [
    {
     "data": {
      "text/plain": [
       "1"
      ]
     },
     "execution_count": 13,
     "metadata": {},
     "output_type": "execute_result"
    }
   ],
   "source": [
    "10 % 3 # this is the remainder when dividing one number by another"
   ]
  },
  {
   "cell_type": "code",
   "execution_count": 14,
   "metadata": {},
   "outputs": [
    {
     "data": {
      "text/plain": [
       "0"
      ]
     },
     "execution_count": 14,
     "metadata": {},
     "output_type": "execute_result"
    }
   ],
   "source": [
    "9 % 3"
   ]
  },
  {
   "cell_type": "code",
   "execution_count": 15,
   "metadata": {},
   "outputs": [
    {
     "data": {
      "text/plain": [
       "2"
      ]
     },
     "execution_count": 15,
     "metadata": {},
     "output_type": "execute_result"
    }
   ],
   "source": [
    "#illustration of the remainder\n",
    "big=10\n",
    "small=4\n",
    "big % small\n"
   ]
  },
  {
   "cell_type": "code",
   "execution_count": 16,
   "metadata": {},
   "outputs": [
    {
     "data": {
      "text/plain": [
       "False"
      ]
     },
     "execution_count": 16,
     "metadata": {},
     "output_type": "execute_result"
    }
   ],
   "source": [
    "#condition to check if remainder is zero\n",
    "big % small == 0"
   ]
  },
  {
   "cell_type": "code",
   "execution_count": 17,
   "metadata": {
    "collapsed": true
   },
   "outputs": [],
   "source": [
    "#iterate over n numbers, check if each of these is divisible by 7"
   ]
  },
  {
   "cell_type": "code",
   "execution_count": 18,
   "metadata": {},
   "outputs": [
    {
     "name": "stdout",
     "output_type": "stream",
     "text": [
      "eligible\n"
     ]
    }
   ],
   "source": [
    "#you can nest two conditions, one if statment under another if statement\n",
    "state=\"NY\"\n",
    "age=17\n",
    "if state==\"NY\":\n",
    "    if age>16:\n",
    "        print(\"eligible\")\n",
    "\n"
   ]
  },
  {
   "cell_type": "code",
   "execution_count": 19,
   "metadata": {},
   "outputs": [
    {
     "name": "stdout",
     "output_type": "stream",
     "text": [
      "eligible\n"
     ]
    }
   ],
   "source": [
    "#or you can put them together using \"and\"\n",
    "if state==\"NY\" and age>16:\n",
    "    print(\"eligible\")"
   ]
  },
  {
   "cell_type": "code",
   "execution_count": 23,
   "metadata": {},
   "outputs": [
    {
     "name": "stdout",
     "output_type": "stream",
     "text": [
      "1\n",
      "2\n",
      "3 Fizz\n",
      "4\n",
      "5 Buzz\n",
      "6 Fizz\n",
      "7\n",
      "8\n",
      "9 Fizz\n",
      "10 Buzz\n",
      "11\n",
      "12 Fizz\n",
      "13\n",
      "14\n",
      "15 FizzBuzz\n",
      "16\n",
      "17\n",
      "18 Fizz\n",
      "19\n",
      "20 Buzz\n",
      "21 Fizz\n",
      "22\n",
      "23\n",
      "24 Fizz\n",
      "25 Buzz\n",
      "26\n",
      "27 Fizz\n",
      "28\n",
      "29\n",
      "30 FizzBuzz\n",
      "31\n",
      "32\n",
      "33 Fizz\n",
      "34\n",
      "35 Buzz\n",
      "36 Fizz\n",
      "37\n",
      "38\n",
      "39 Fizz\n",
      "40 Buzz\n",
      "41\n",
      "42 Fizz\n",
      "43\n",
      "44\n",
      "45 FizzBuzz\n",
      "46\n",
      "47\n",
      "48 Fizz\n",
      "49\n",
      "50 Buzz\n",
      "51 Fizz\n",
      "52\n",
      "53\n",
      "54 Fizz\n",
      "55 Buzz\n",
      "56\n",
      "57 Fizz\n",
      "58\n",
      "59\n",
      "60 FizzBuzz\n",
      "61\n",
      "62\n",
      "63 Fizz\n",
      "64\n",
      "65 Buzz\n",
      "66 Fizz\n",
      "67\n",
      "68\n",
      "69 Fizz\n",
      "70 Buzz\n",
      "71\n",
      "72 Fizz\n",
      "73\n",
      "74\n",
      "75 FizzBuzz\n",
      "76\n",
      "77\n",
      "78 Fizz\n",
      "79\n",
      "80 Buzz\n",
      "81 Fizz\n",
      "82\n",
      "83\n",
      "84 Fizz\n",
      "85 Buzz\n",
      "86\n",
      "87 Fizz\n",
      "88\n",
      "89\n",
      "90 FizzBuzz\n",
      "91\n",
      "92\n",
      "93 Fizz\n",
      "94\n",
      "95 Buzz\n",
      "96 Fizz\n",
      "97\n",
      "98\n",
      "99 Fizz\n",
      "100 Buzz\n"
     ]
    }
   ],
   "source": [
    "#now, in our fizzbuzz example, we can do it differently by specifying four different conditions\n",
    "for i in range(1, 1 + 100):\n",
    "    if i % 3 == 0 and i % 5 == 0:\n",
    "        print(i, \"FizzBuzz\")\n",
    "    elif i % 3 == 0:\n",
    "        print(i,\"Fizz\")\n",
    "    elif i % 5 == 0:\n",
    "        print(i,\"Buzz\")\n",
    "    else:\n",
    "        print(i)\n",
    "    \n",
    " \n",
    "\n",
    "\n",
    "      "
   ]
  },
  {
   "cell_type": "code",
   "execution_count": 25,
   "metadata": {},
   "outputs": [
    {
     "data": {
      "text/plain": [
       "2"
      ]
     },
     "execution_count": 25,
     "metadata": {},
     "output_type": "execute_result"
    }
   ],
   "source": [
    "#we do fibbonacci using lists\n",
    "fib_list=[1,1]\n",
    "len(fib_list) #get the size of the list"
   ]
  },
  {
   "cell_type": "code",
   "execution_count": 26,
   "metadata": {},
   "outputs": [
    {
     "data": {
      "text/plain": [
       "1"
      ]
     },
     "execution_count": 26,
     "metadata": {},
     "output_type": "execute_result"
    }
   ],
   "source": [
    "fib_list[0] #get the first item in a list"
   ]
  },
  {
   "cell_type": "code",
   "execution_count": 27,
   "metadata": {},
   "outputs": [
    {
     "data": {
      "text/plain": [
       "1"
      ]
     },
     "execution_count": 27,
     "metadata": {},
     "output_type": "execute_result"
    }
   ],
   "source": [
    "fib_list[-1] #the last item"
   ]
  },
  {
   "cell_type": "code",
   "execution_count": 28,
   "metadata": {},
   "outputs": [
    {
     "data": {
      "text/plain": [
       "1"
      ]
     },
     "execution_count": 28,
     "metadata": {},
     "output_type": "execute_result"
    }
   ],
   "source": [
    "fib_list[-2] #the second last item"
   ]
  },
  {
   "cell_type": "code",
   "execution_count": 29,
   "metadata": {},
   "outputs": [
    {
     "data": {
      "text/plain": [
       "2"
      ]
     },
     "execution_count": 29,
     "metadata": {},
     "output_type": "execute_result"
    }
   ],
   "source": [
    "next_fib=fib_list[-1]+fib_list[-2] #the next fib number is the sum of the last two in the list\n",
    "next_fib"
   ]
  },
  {
   "cell_type": "code",
   "execution_count": 30,
   "metadata": {
    "collapsed": true
   },
   "outputs": [],
   "source": [
    "fib_list.append(next_fib) #we append the new fib number to the list"
   ]
  },
  {
   "cell_type": "code",
   "execution_count": 31,
   "metadata": {},
   "outputs": [
    {
     "data": {
      "text/plain": [
       "[1, 1, 2]"
      ]
     },
     "execution_count": 31,
     "metadata": {},
     "output_type": "execute_result"
    }
   ],
   "source": [
    "fib_list"
   ]
  },
  {
   "cell_type": "code",
   "execution_count": 32,
   "metadata": {},
   "outputs": [
    {
     "data": {
      "text/plain": [
       "3"
      ]
     },
     "execution_count": 32,
     "metadata": {},
     "output_type": "execute_result"
    }
   ],
   "source": [
    "len(fib_list)"
   ]
  },
  {
   "cell_type": "code",
   "execution_count": 33,
   "metadata": {
    "collapsed": true
   },
   "outputs": [],
   "source": [
    "fib_list.append(0) #we can append any number to the list"
   ]
  },
  {
   "cell_type": "code",
   "execution_count": 34,
   "metadata": {},
   "outputs": [
    {
     "data": {
      "text/plain": [
       "[1, 1, 2, 0]"
      ]
     },
     "execution_count": 34,
     "metadata": {},
     "output_type": "execute_result"
    }
   ],
   "source": [
    "fib_list"
   ]
  },
  {
   "cell_type": "code",
   "execution_count": 35,
   "metadata": {
    "collapsed": true
   },
   "outputs": [],
   "source": [
    "fib_list=[1,1] #initating the fib list with first two numbers"
   ]
  },
  {
   "cell_type": "code",
   "execution_count": 36,
   "metadata": {
    "collapsed": true
   },
   "outputs": [],
   "source": [
    "#now we do fib numbers using lists\n",
    "for i in range(10):\n",
    "    next_fib=fib_list[-1]+fib_list[-2]\n",
    "    fib_list.append(next_fib)"
   ]
  },
  {
   "cell_type": "code",
   "execution_count": 37,
   "metadata": {},
   "outputs": [
    {
     "data": {
      "text/plain": [
       "[1, 1, 2, 3, 5, 8, 13, 21, 34, 55, 89, 144]"
      ]
     },
     "execution_count": 37,
     "metadata": {},
     "output_type": "execute_result"
    }
   ],
   "source": [
    "fib_list"
   ]
  },
  {
   "cell_type": "code",
   "execution_count": 38,
   "metadata": {},
   "outputs": [
    {
     "name": "stdout",
     "output_type": "stream",
     "text": [
      "7\n"
     ]
    }
   ],
   "source": [
    "#working with lists\n",
    "test_list=[0,5,3,2,1,8,9] \n",
    "print(len(test_list))\n"
   ]
  },
  {
   "cell_type": "code",
   "execution_count": 40,
   "metadata": {},
   "outputs": [
    {
     "data": {
      "text/plain": [
       "(0, 9)"
      ]
     },
     "execution_count": 40,
     "metadata": {},
     "output_type": "execute_result"
    }
   ],
   "source": [
    "test_list[0], test_list[-1] #we can get first item, last item"
   ]
  },
  {
   "cell_type": "code",
   "execution_count": 41,
   "metadata": {},
   "outputs": [
    {
     "data": {
      "text/plain": [
       "[3, 2, 1, 8, 9]"
      ]
     },
     "execution_count": 41,
     "metadata": {},
     "output_type": "execute_result"
    }
   ],
   "source": [
    "test_list[2:] #items starting index 2"
   ]
  },
  {
   "cell_type": "code",
   "execution_count": 42,
   "metadata": {},
   "outputs": [
    {
     "data": {
      "text/plain": [
       "[3, 2, 1]"
      ]
     },
     "execution_count": 42,
     "metadata": {},
     "output_type": "execute_result"
    }
   ],
   "source": [
    "test_list[2:5] #items from index 2 till before index 5"
   ]
  },
  {
   "cell_type": "code",
   "execution_count": 43,
   "metadata": {},
   "outputs": [
    {
     "data": {
      "text/plain": [
       "[0, 5, 3, 2, 1, 8, 9]"
      ]
     },
     "execution_count": 43,
     "metadata": {},
     "output_type": "execute_result"
    }
   ],
   "source": [
    "test_list"
   ]
  },
  {
   "cell_type": "code",
   "execution_count": 44,
   "metadata": {},
   "outputs": [
    {
     "data": {
      "text/plain": [
       "[8, 9]"
      ]
     },
     "execution_count": 44,
     "metadata": {},
     "output_type": "execute_result"
    }
   ],
   "source": [
    "test_list[-2:] #the last two items"
   ]
  },
  {
   "cell_type": "code",
   "execution_count": 45,
   "metadata": {},
   "outputs": [
    {
     "data": {
      "text/plain": [
       "[1, 8, 9]"
      ]
     },
     "execution_count": 45,
     "metadata": {},
     "output_type": "execute_result"
    }
   ],
   "source": [
    "test_list[-3:] #the last three items"
   ]
  },
  {
   "cell_type": "code",
   "execution_count": 46,
   "metadata": {},
   "outputs": [
    {
     "data": {
      "text/plain": [
       "[0, 5, 3, 2]"
      ]
     },
     "execution_count": 46,
     "metadata": {},
     "output_type": "execute_result"
    }
   ],
   "source": [
    "test_list[:-3] #all items till the last three items"
   ]
  },
  {
   "cell_type": "code",
   "execution_count": 47,
   "metadata": {},
   "outputs": [
    {
     "data": {
      "text/plain": [
       "[0, 5, 3, 2, 1, 8, 9]"
      ]
     },
     "execution_count": 47,
     "metadata": {},
     "output_type": "execute_result"
    }
   ],
   "source": [
    "test_list"
   ]
  },
  {
   "cell_type": "code",
   "execution_count": 48,
   "metadata": {},
   "outputs": [
    {
     "data": {
      "text/plain": [
       "[0, 1, 2, 3, 5, 8, 9]"
      ]
     },
     "execution_count": 48,
     "metadata": {},
     "output_type": "execute_result"
    }
   ],
   "source": [
    "sorted(test_list) #we can sort the list without changing the order of the original list"
   ]
  },
  {
   "cell_type": "code",
   "execution_count": 49,
   "metadata": {},
   "outputs": [
    {
     "data": {
      "text/plain": [
       "[0, 5, 3, 2, 1, 8, 9]"
      ]
     },
     "execution_count": 49,
     "metadata": {},
     "output_type": "execute_result"
    }
   ],
   "source": [
    "test_list"
   ]
  },
  {
   "cell_type": "code",
   "execution_count": 50,
   "metadata": {
    "collapsed": true
   },
   "outputs": [],
   "source": [
    "test_list.sort() #or we can sort it in place while changing the order of the original"
   ]
  },
  {
   "cell_type": "code",
   "execution_count": 51,
   "metadata": {},
   "outputs": [
    {
     "data": {
      "text/plain": [
       "[0, 1, 2, 3, 5, 8, 9]"
      ]
     },
     "execution_count": 51,
     "metadata": {},
     "output_type": "execute_result"
    }
   ],
   "source": [
    "test_list"
   ]
  },
  {
   "cell_type": "code",
   "execution_count": 52,
   "metadata": {},
   "outputs": [
    {
     "name": "stdout",
     "output_type": "stream",
     "text": [
      "1\n",
      "1\n",
      "2\n",
      "3\n",
      "5\n",
      "8\n",
      "13\n",
      "21\n",
      "34\n",
      "55\n",
      "89\n",
      "144\n",
      "233\n",
      "377\n",
      "610\n",
      "987\n",
      "1597\n",
      "2584\n",
      "4181\n",
      "6765\n",
      "10946\n",
      "17711\n",
      "28657\n",
      "46368\n",
      "75025\n",
      "121393\n",
      "196418\n",
      "317811\n",
      "514229\n",
      "832040\n",
      "1346269\n",
      "2178309\n",
      "3524578\n",
      "5702887\n",
      "9227465\n",
      "14930352\n",
      "24157817\n",
      "39088169\n",
      "63245986\n",
      "102334155\n",
      "165580141\n",
      "267914296\n",
      "433494437\n",
      "701408733\n",
      "1134903170\n",
      "1836311903\n",
      "2971215073\n",
      "4807526976\n",
      "7778742049\n",
      "12586269025\n",
      "20365011074\n",
      "32951280099\n",
      "53316291173\n",
      "86267571272\n",
      "139583862445\n",
      "225851433717\n",
      "365435296162\n",
      "591286729879\n",
      "956722026041\n",
      "1548008755920\n",
      "2504730781961\n",
      "4052739537881\n",
      "6557470319842\n",
      "10610209857723\n",
      "17167680177565\n",
      "27777890035288\n",
      "44945570212853\n",
      "72723460248141\n",
      "117669030460994\n",
      "190392490709135\n",
      "308061521170129\n",
      "498454011879264\n",
      "806515533049393\n",
      "1304969544928657\n",
      "2111485077978050\n",
      "3416454622906707\n",
      "5527939700884757\n",
      "8944394323791464\n",
      "14472334024676221\n",
      "23416728348467685\n",
      "37889062373143906\n",
      "61305790721611591\n",
      "99194853094755497\n",
      "160500643816367088\n",
      "259695496911122585\n",
      "420196140727489673\n",
      "679891637638612258\n",
      "1100087778366101931\n",
      "1779979416004714189\n",
      "2880067194370816120\n",
      "4660046610375530309\n",
      "7540113804746346429\n",
      "12200160415121876738\n",
      "19740274219868223167\n",
      "31940434634990099905\n",
      "51680708854858323072\n",
      "83621143489848422977\n",
      "135301852344706746049\n",
      "218922995834555169026\n",
      "354224848179261915075\n"
     ]
    }
   ],
   "source": [
    "#tracing the fib solution\n",
    "lower = 1\n",
    "upper = 1\n",
    "for i in range(100):\n",
    "  print(lower) #1 #1 #2\n",
    "  temp = lower #1 #1 #2\n",
    "  lower = upper #1 #2 #3\n",
    "  upper += temp #2 #3 #5"
   ]
  },
  {
   "cell_type": "code",
   "execution_count": 53,
   "metadata": {
    "collapsed": true
   },
   "outputs": [],
   "source": [
    "ADDRESS = \"\"\"Four score and seven years ago our fathers brought forth on this continent, a new nation, conceived in liberty, and dedicated to the proposition that all men are created equal. Now we are engaged in a great civil war, testing whether that nation, or any nation so conceived and so dedicated can long endure. We are met on a great battle-field of that war. We have come to dedicate a portion of that field, as a final resting place for those who here gave their lives that that nation might live. It is altogether fitting and proper that we should do this. But, in a larger sense, we can not dedicate-we can not consecrate-we can not hallow-this ground. The brave men, living and dead, who struggled here, have consecrated it, far above our poor power to add or detract. The world will little note, nor long remember what we say here, but it can never forget what they did here. It is for us the living, rather, to be dedicated here to the unfinished work which they who fought here have thus far so nobly advanced. It is rather for us to be here dedicated to the great task remaining before us-that from these honored dead we take increased devotion to that cause for which they gave the last full measure of devotion-that we here highly resolve that these dead shall not have died in vain-that this nation, under God, shall have a new birth of freedom—and that government of the people, by the people, for the people, shall not perish from the earth.\"\"\""
   ]
  },
  {
   "cell_type": "code",
   "execution_count": 54,
   "metadata": {
    "collapsed": true
   },
   "outputs": [],
   "source": [
    "#working with string variables\n",
    "text=\"Linguistics\""
   ]
  },
  {
   "cell_type": "code",
   "execution_count": 55,
   "metadata": {},
   "outputs": [
    {
     "data": {
      "text/plain": [
       "'L'"
      ]
     },
     "execution_count": 55,
     "metadata": {},
     "output_type": "execute_result"
    }
   ],
   "source": [
    "text[0] #getting the first character in a string"
   ]
  },
  {
   "cell_type": "code",
   "execution_count": 57,
   "metadata": {},
   "outputs": [
    {
     "data": {
      "text/plain": [
       "'s'"
      ]
     },
     "execution_count": 57,
     "metadata": {},
     "output_type": "execute_result"
    }
   ],
   "source": [
    "text[-1] #and the last character"
   ]
  },
  {
   "cell_type": "code",
   "execution_count": 58,
   "metadata": {},
   "outputs": [
    {
     "data": {
      "text/plain": [
       "'ngui'"
      ]
     },
     "execution_count": 58,
     "metadata": {},
     "output_type": "execute_result"
    }
   ],
   "source": [
    "text[2:6] #or a slice from character with index 2 till before index 6"
   ]
  },
  {
   "cell_type": "code",
   "execution_count": 60,
   "metadata": {},
   "outputs": [
    {
     "data": {
      "text/plain": [
       "'ics'"
      ]
     },
     "execution_count": 60,
     "metadata": {},
     "output_type": "execute_result"
    }
   ],
   "source": [
    "text[-3:] #slice of last 3 letters"
   ]
  },
  {
   "cell_type": "code",
   "execution_count": 61,
   "metadata": {},
   "outputs": [
    {
     "data": {
      "text/plain": [
       "11"
      ]
     },
     "execution_count": 61,
     "metadata": {},
     "output_type": "execute_result"
    }
   ],
   "source": [
    "len(text) #size of the word"
   ]
  },
  {
   "cell_type": "code",
   "execution_count": 143,
   "metadata": {},
   "outputs": [
    {
     "name": "stdout",
     "output_type": "stream",
     "text": [
      "L\n",
      "i <<<\n",
      "n\n",
      "g\n",
      "u\n",
      "i <<<\n",
      "s\n",
      "t\n",
      "i <<<\n",
      "c\n",
      "s\n"
     ]
    }
   ],
   "source": [
    "#for each letter in \"linguistics\", print the letter, and if it has \"i\", print the letter +\"<<<\"\n",
    "for char in text:\n",
    "    if char.lower()==\"i\": print(char,\"<<<\")\n",
    "    else: print(char)\n",
    "    "
   ]
  },
  {
   "cell_type": "code",
   "execution_count": 63,
   "metadata": {},
   "outputs": [
    {
     "data": {
      "text/plain": [
       "3"
      ]
     },
     "execution_count": 63,
     "metadata": {},
     "output_type": "execute_result"
    }
   ],
   "source": [
    "text.count(\"i\") #count the letter \"i\" in the string"
   ]
  },
  {
   "cell_type": "code",
   "execution_count": 64,
   "metadata": {},
   "outputs": [
    {
     "data": {
      "text/plain": [
       "'Linguistics'"
      ]
     },
     "execution_count": 64,
     "metadata": {},
     "output_type": "execute_result"
    }
   ],
   "source": [
    "text"
   ]
  },
  {
   "cell_type": "code",
   "execution_count": 66,
   "metadata": {},
   "outputs": [],
   "source": [
    "a_slice=ADDRESS[:100] #we can slice part of the address, first 100 characters"
   ]
  },
  {
   "cell_type": "code",
   "execution_count": 67,
   "metadata": {},
   "outputs": [
    {
     "data": {
      "text/plain": [
       "'Four score and seven years ago our fathers brought forth on this continent, a new nation, conceived '"
      ]
     },
     "execution_count": 67,
     "metadata": {},
     "output_type": "execute_result"
    }
   ],
   "source": [
    "a_slice"
   ]
  },
  {
   "cell_type": "code",
   "execution_count": 68,
   "metadata": {},
   "outputs": [
    {
     "data": {
      "text/plain": [
       "10"
      ]
     },
     "execution_count": 68,
     "metadata": {},
     "output_type": "execute_result"
    }
   ],
   "source": [
    "#two ways to count 1- using string.count()\n",
    "a_slice.count(\"o\")"
   ]
  },
  {
   "cell_type": "code",
   "execution_count": 69,
   "metadata": {},
   "outputs": [
    {
     "name": "stdout",
     "output_type": "stream",
     "text": [
      "10\n"
     ]
    }
   ],
   "source": [
    "#or iterate over the text, character by counter\n",
    "counter=0\n",
    "for char in a_slice:\n",
    "    if char==\"o\": counter+=1\n",
    "print(counter)"
   ]
  },
  {
   "cell_type": "code",
   "execution_count": 70,
   "metadata": {},
   "outputs": [
    {
     "data": {
      "text/plain": [
       "3"
      ]
     },
     "execution_count": 70,
     "metadata": {},
     "output_type": "execute_result"
    }
   ],
   "source": [
    "a_slice.count(\"co\")"
   ]
  },
  {
   "cell_type": "code",
   "execution_count": 71,
   "metadata": {},
   "outputs": [
    {
     "data": {
      "text/plain": [
       "3"
      ]
     },
     "execution_count": 71,
     "metadata": {},
     "output_type": "execute_result"
    }
   ],
   "source": [
    "#understing the case problem\n",
    "a_slice2='Four score And seven years Ago our fathers brought forth on this continent, A new nation, conceived '\n",
    "a_slice2.count(\"a\") #counting lower case"
   ]
  },
  {
   "cell_type": "code",
   "execution_count": 73,
   "metadata": {},
   "outputs": [
    {
     "data": {
      "text/plain": [
       "3"
      ]
     },
     "execution_count": 73,
     "metadata": {},
     "output_type": "execute_result"
    }
   ],
   "source": [
    "a_slice2.count(\"A\") #counting upper case"
   ]
  },
  {
   "cell_type": "code",
   "execution_count": 82,
   "metadata": {},
   "outputs": [
    {
     "name": "stdout",
     "output_type": "stream",
     "text": [
      "6\n"
     ]
    }
   ],
   "source": [
    "counter=0\n",
    "for char in a_slice2.lower(): #we normalize charaters to lower case to count \n",
    "    if char ==\"a\": \n",
    "        counter+=1\n",
    "print(counter)"
   ]
  },
  {
   "cell_type": "code",
   "execution_count": 80,
   "metadata": {},
   "outputs": [
    {
     "data": {
      "text/plain": [
       "'Four score And seven years Ago our fathers brought forth on this continent, A new nation, conceived '"
      ]
     },
     "execution_count": 80,
     "metadata": {},
     "output_type": "execute_result"
    }
   ],
   "source": [
    "a_slice2"
   ]
  },
  {
   "cell_type": "code",
   "execution_count": 87,
   "metadata": {
    "scrolled": true
   },
   "outputs": [
    {
     "name": "stdout",
     "output_type": "stream",
     "text": [
      "A\n",
      "a\n",
      "A\n",
      "a\n",
      "A\n",
      "a\n",
      "6\n"
     ]
    }
   ],
   "source": [
    "counter=0\n",
    "for char in a_slice2:\n",
    "    char_lower=char.lower()\n",
    "    #print(char,char_lower)\n",
    "    if char.lower() ==\"a\": \n",
    "        print(char) #we can see the original charcter, whether it is uppercase or lowercase\n",
    "        counter+=1\n",
    "print(counter)"
   ]
  },
  {
   "cell_type": "code",
   "execution_count": 88,
   "metadata": {
    "collapsed": true
   },
   "outputs": [],
   "source": [
    "char=\"A\"\n"
   ]
  },
  {
   "cell_type": "code",
   "execution_count": 89,
   "metadata": {},
   "outputs": [
    {
     "data": {
      "text/plain": [
       "'A'"
      ]
     },
     "execution_count": 89,
     "metadata": {},
     "output_type": "execute_result"
    }
   ],
   "source": [
    "char"
   ]
  },
  {
   "cell_type": "code",
   "execution_count": 90,
   "metadata": {},
   "outputs": [
    {
     "data": {
      "text/plain": [
       "'a'"
      ]
     },
     "execution_count": 90,
     "metadata": {},
     "output_type": "execute_result"
    }
   ],
   "source": [
    "char.lower() #when we do .lowerr(), it doesn't change the original string"
   ]
  },
  {
   "cell_type": "code",
   "execution_count": 91,
   "metadata": {},
   "outputs": [
    {
     "data": {
      "text/plain": [
       "'A'"
      ]
     },
     "execution_count": 91,
     "metadata": {},
     "output_type": "execute_result"
    }
   ],
   "source": [
    "char"
   ]
  },
  {
   "cell_type": "code",
   "execution_count": 92,
   "metadata": {},
   "outputs": [
    {
     "data": {
      "text/plain": [
       "'acsc'"
      ]
     },
     "execution_count": 92,
     "metadata": {},
     "output_type": "execute_result"
    }
   ],
   "source": [
    "a=\"ACSC\"\n",
    "a.casefold() #casefold works here the same as lower()"
   ]
  },
  {
   "cell_type": "code",
   "execution_count": 93,
   "metadata": {},
   "outputs": [
    {
     "data": {
      "text/plain": [
       "'ACSC'"
      ]
     },
     "execution_count": 93,
     "metadata": {},
     "output_type": "execute_result"
    }
   ],
   "source": [
    "a"
   ]
  },
  {
   "cell_type": "code",
   "execution_count": 95,
   "metadata": {},
   "outputs": [
    {
     "name": "stdout",
     "output_type": "stream",
     "text": [
      "449\n"
     ]
    }
   ],
   "source": [
    "#now we do the address problem\n",
    "#vowels=[\"a\",\"e\",\"i\",\"o\",\"u\"]\n",
    "vowels=\"aeiou\"\n",
    "counter=0\n",
    "for char in ADDRESS:\n",
    "    #char_lower=char.lower()\n",
    "    #print(char,char_lower)\n",
    "    #if char.lower() ==\"a\": \n",
    "    if char.lower() in vowels: \n",
    "        #print(char)\n",
    "        counter+=1\n",
    "print(counter)"
   ]
  },
  {
   "cell_type": "code",
   "execution_count": 96,
   "metadata": {
    "collapsed": true
   },
   "outputs": [],
   "source": [
    "#understing lists, sets, tuples .. etc\n",
    "my_list=[1,2,2,3,4,5,5]\n"
   ]
  },
  {
   "cell_type": "code",
   "execution_count": 97,
   "metadata": {},
   "outputs": [
    {
     "data": {
      "text/plain": [
       "[1, 2, 2, 3, 4, 5, 5]"
      ]
     },
     "execution_count": 97,
     "metadata": {},
     "output_type": "execute_result"
    }
   ],
   "source": [
    "my_list"
   ]
  },
  {
   "cell_type": "code",
   "execution_count": 98,
   "metadata": {},
   "outputs": [
    {
     "data": {
      "text/plain": [
       "(1, 2, 2, 3, 4, 5, 5)"
      ]
     },
     "execution_count": 98,
     "metadata": {},
     "output_type": "execute_result"
    }
   ],
   "source": [
    "tuple(my_list)"
   ]
  },
  {
   "cell_type": "code",
   "execution_count": 100,
   "metadata": {},
   "outputs": [
    {
     "data": {
      "text/plain": [
       "frozenset({1, 2, 3, 4, 5})"
      ]
     },
     "execution_count": 100,
     "metadata": {},
     "output_type": "execute_result"
    }
   ],
   "source": [
    "frozenset(my_list)"
   ]
  },
  {
   "cell_type": "code",
   "execution_count": 101,
   "metadata": {},
   "outputs": [
    {
     "data": {
      "text/plain": [
       "{1, 2, 3, 4, 5}"
      ]
     },
     "execution_count": 101,
     "metadata": {},
     "output_type": "execute_result"
    }
   ],
   "source": [
    "set(my_list)"
   ]
  },
  {
   "cell_type": "code",
   "execution_count": 103,
   "metadata": {
    "collapsed": true
   },
   "outputs": [],
   "source": [
    "#understanding dictionaries\n",
    "phone_book={}"
   ]
  },
  {
   "cell_type": "code",
   "execution_count": 104,
   "metadata": {
    "collapsed": true
   },
   "outputs": [],
   "source": [
    "phone_book[\"John\"]=\"333-333-4444\"\n",
    "phone_book[\"Mary\"]=\"333-333-7777\""
   ]
  },
  {
   "cell_type": "code",
   "execution_count": 105,
   "metadata": {},
   "outputs": [
    {
     "data": {
      "text/plain": [
       "{'John': '333-333-4444', 'Mary': '333-333-7777'}"
      ]
     },
     "execution_count": 105,
     "metadata": {},
     "output_type": "execute_result"
    }
   ],
   "source": [
    "phone_book"
   ]
  },
  {
   "cell_type": "code",
   "execution_count": 106,
   "metadata": {},
   "outputs": [
    {
     "data": {
      "text/plain": [
       "'333-333-4444'"
      ]
     },
     "execution_count": 106,
     "metadata": {},
     "output_type": "execute_result"
    }
   ],
   "source": [
    "phone_book[\"John\"]"
   ]
  },
  {
   "cell_type": "code",
   "execution_count": 108,
   "metadata": {
    "collapsed": true
   },
   "outputs": [],
   "source": [
    "#we can use tuples as dictionary keys, because they are hashable/immutable, unlike lists\n",
    "phone_book_state={}\n",
    "phone_book_state[(\"John\",\"NY\")]=\"333-333-4444\"\n",
    "phone_book_state[(\"John\",\"CA\")]=\"666-333-4444\""
   ]
  },
  {
   "cell_type": "code",
   "execution_count": 109,
   "metadata": {},
   "outputs": [
    {
     "data": {
      "text/plain": [
       "{('John', 'CA'): '666-333-4444', ('John', 'NY'): '333-333-4444'}"
      ]
     },
     "execution_count": 109,
     "metadata": {},
     "output_type": "execute_result"
    }
   ],
   "source": [
    "phone_book_state"
   ]
  },
  {
   "cell_type": "code",
   "execution_count": 110,
   "metadata": {
    "collapsed": true
   },
   "outputs": [],
   "source": [
    "name_state_pair=(\"Mary\",\"NC\")\n",
    "phone=\"555-555-7777\"\n",
    "phone_book_state[name_state_pair]=phone"
   ]
  },
  {
   "cell_type": "code",
   "execution_count": 111,
   "metadata": {},
   "outputs": [
    {
     "data": {
      "text/plain": [
       "{('John', 'CA'): '666-333-4444',\n",
       " ('John', 'NY'): '333-333-4444',\n",
       " ('Mary', 'NC'): '555-555-7777'}"
      ]
     },
     "execution_count": 111,
     "metadata": {},
     "output_type": "execute_result"
    }
   ],
   "source": [
    "phone_book_state"
   ]
  },
  {
   "cell_type": "code",
   "execution_count": 112,
   "metadata": {},
   "outputs": [
    {
     "ename": "TypeError",
     "evalue": "unhashable type: 'list'",
     "output_type": "error",
     "traceback": [
      "\u001b[0;31m---------------------------------------------------------------------------\u001b[0m",
      "\u001b[0;31mTypeError\u001b[0m                                 Traceback (most recent call last)",
      "\u001b[0;32m<ipython-input-112-023f23f16779>\u001b[0m in \u001b[0;36m<module>\u001b[0;34m()\u001b[0m\n\u001b[1;32m      1\u001b[0m \u001b[0mname_state_pair\u001b[0m\u001b[0;34m=\u001b[0m\u001b[0;34m[\u001b[0m\u001b[0;34m\"Mary\"\u001b[0m\u001b[0;34m,\u001b[0m\u001b[0;34m\"CI\"\u001b[0m\u001b[0;34m]\u001b[0m\u001b[0;34m\u001b[0m\u001b[0m\n\u001b[1;32m      2\u001b[0m \u001b[0mphone\u001b[0m\u001b[0;34m=\u001b[0m\u001b[0;34m\"888-555-7777\"\u001b[0m\u001b[0;34m\u001b[0m\u001b[0m\n\u001b[0;32m----> 3\u001b[0;31m \u001b[0mphone_book_state\u001b[0m\u001b[0;34m[\u001b[0m\u001b[0mname_state_pair\u001b[0m\u001b[0;34m]\u001b[0m\u001b[0;34m=\u001b[0m\u001b[0mphone\u001b[0m\u001b[0;34m\u001b[0m\u001b[0m\n\u001b[0m",
      "\u001b[0;31mTypeError\u001b[0m: unhashable type: 'list'"
     ]
    }
   ],
   "source": [
    "#we cannot use lists as keys to dictionaries\n",
    "name_state_pair=[\"Mary\",\"CI\"]\n",
    "phone=\"888-555-7777\"\n",
    "phone_book_state[name_state_pair]=phone"
   ]
  },
  {
   "cell_type": "code",
   "execution_count": 113,
   "metadata": {
    "collapsed": true
   },
   "outputs": [],
   "source": [
    "#we can use strings as keys to dictionaries\n",
    "phone_book_state[\"nnnn\"]=3234234"
   ]
  },
  {
   "cell_type": "code",
   "execution_count": 114,
   "metadata": {},
   "outputs": [
    {
     "data": {
      "text/plain": [
       "{('John', 'NY'): '333-333-4444',\n",
       " ('John', 'CA'): '666-333-4444',\n",
       " ('Mary', 'NC'): '555-555-7777',\n",
       " 'nnnn': 3234234}"
      ]
     },
     "execution_count": 114,
     "metadata": {},
     "output_type": "execute_result"
    }
   ],
   "source": [
    "phone_book_state"
   ]
  },
  {
   "cell_type": "code",
   "execution_count": 115,
   "metadata": {
    "collapsed": true
   },
   "outputs": [],
   "source": [
    "#we can use numbers as keys to dictionaries\n",
    "phone_book_state[12312323]=24234234"
   ]
  },
  {
   "cell_type": "code",
   "execution_count": 116,
   "metadata": {},
   "outputs": [
    {
     "data": {
      "text/plain": [
       "{('John', 'NY'): '333-333-4444',\n",
       " ('John', 'CA'): '666-333-4444',\n",
       " ('Mary', 'NC'): '555-555-7777',\n",
       " 'nnnn': 3234234,\n",
       " 12312323: 24234234}"
      ]
     },
     "execution_count": 116,
     "metadata": {},
     "output_type": "execute_result"
    }
   ],
   "source": [
    "phone_book_state"
   ]
  },
  {
   "cell_type": "code",
   "execution_count": 117,
   "metadata": {},
   "outputs": [
    {
     "data": {
      "text/plain": [
       "-7242627455570730370"
      ]
     },
     "execution_count": 117,
     "metadata": {},
     "output_type": "execute_result"
    }
   ],
   "source": [
    "#because we can hash strings\n",
    "hash(\"nnnn\")"
   ]
  },
  {
   "cell_type": "code",
   "execution_count": 118,
   "metadata": {},
   "outputs": [
    {
     "data": {
      "text/plain": [
       "12312323"
      ]
     },
     "execution_count": 118,
     "metadata": {},
     "output_type": "execute_result"
    }
   ],
   "source": [
    "#and we can hash numbers\n",
    "hash(12312323)"
   ]
  },
  {
   "cell_type": "code",
   "execution_count": 119,
   "metadata": {},
   "outputs": [
    {
     "data": {
      "text/plain": [
       "-2985876801315860909"
      ]
     },
     "execution_count": 119,
     "metadata": {},
     "output_type": "execute_result"
    }
   ],
   "source": [
    "#and we can hash tuples\n",
    "hash(('Mary', 'NC'))"
   ]
  },
  {
   "cell_type": "code",
   "execution_count": 120,
   "metadata": {},
   "outputs": [
    {
     "data": {
      "text/plain": [
       "-7242627455570730370"
      ]
     },
     "execution_count": 120,
     "metadata": {},
     "output_type": "execute_result"
    }
   ],
   "source": [
    "#hash function gives always the same values\n",
    "hash(\"nnnn\")"
   ]
  },
  {
   "cell_type": "code",
   "execution_count": 121,
   "metadata": {},
   "outputs": [
    {
     "ename": "TypeError",
     "evalue": "unhashable type: 'list'",
     "output_type": "error",
     "traceback": [
      "\u001b[0;31m---------------------------------------------------------------------------\u001b[0m",
      "\u001b[0;31mTypeError\u001b[0m                                 Traceback (most recent call last)",
      "\u001b[0;32m<ipython-input-121-ead01a573561>\u001b[0m in \u001b[0;36m<module>\u001b[0;34m()\u001b[0m\n\u001b[0;32m----> 1\u001b[0;31m \u001b[0mhash\u001b[0m\u001b[0;34m(\u001b[0m\u001b[0;34m[\u001b[0m\u001b[0;36m1\u001b[0m\u001b[0;34m,\u001b[0m\u001b[0;36m2\u001b[0m\u001b[0;34m]\u001b[0m\u001b[0;34m)\u001b[0m\u001b[0;34m\u001b[0m\u001b[0m\n\u001b[0m",
      "\u001b[0;31mTypeError\u001b[0m: unhashable type: 'list'"
     ]
    }
   ],
   "source": [
    "#you cannot hash lists\n",
    "hash([1,2])"
   ]
  },
  {
   "cell_type": "code",
   "execution_count": 122,
   "metadata": {
    "collapsed": true
   },
   "outputs": [],
   "source": [
    "fr=frozenset([1,2])"
   ]
  },
  {
   "cell_type": "code",
   "execution_count": 123,
   "metadata": {},
   "outputs": [
    {
     "data": {
      "text/plain": [
       "frozenset({1, 2})"
      ]
     },
     "execution_count": 123,
     "metadata": {},
     "output_type": "execute_result"
    }
   ],
   "source": [
    "fr"
   ]
  },
  {
   "cell_type": "code",
   "execution_count": 124,
   "metadata": {},
   "outputs": [
    {
     "data": {
      "text/plain": [
       "-1834016341293975159"
      ]
     },
     "execution_count": 124,
     "metadata": {},
     "output_type": "execute_result"
    }
   ],
   "source": [
    "#you can hash frozen sets\n",
    "hash(fr)"
   ]
  },
  {
   "cell_type": "code",
   "execution_count": 125,
   "metadata": {
    "collapsed": true
   },
   "outputs": [],
   "source": [
    "st=set([1,2])"
   ]
  },
  {
   "cell_type": "code",
   "execution_count": 132,
   "metadata": {},
   "outputs": [
    {
     "data": {
      "text/plain": [
       "2"
      ]
     },
     "execution_count": 132,
     "metadata": {},
     "output_type": "execute_result"
    }
   ],
   "source": [
    "#hash(st)\n",
    "\n",
    "#phone_book[fr]=13213\n",
    "#print(phone_book)\n",
    "hash(2)"
   ]
  },
  {
   "cell_type": "code",
   "execution_count": 133,
   "metadata": {
    "collapsed": true
   },
   "outputs": [],
   "source": [
    "#hashable: string, number, booleans, tuple, frozenset\n",
    "#unhashable: lists, sets, dictionaries"
   ]
  },
  {
   "cell_type": "code",
   "execution_count": 134,
   "metadata": {},
   "outputs": [
    {
     "data": {
      "text/plain": [
       "97"
      ]
     },
     "execution_count": 134,
     "metadata": {},
     "output_type": "execute_result"
    }
   ],
   "source": [
    "#crude approach similar to hashing, giving numbers to strings based on their character values\n",
    "ord(\"a\") #ord is a built in function that gives the numerical value of a single character"
   ]
  },
  {
   "cell_type": "code",
   "execution_count": 135,
   "metadata": {
    "scrolled": false
   },
   "outputs": [
    {
     "name": "stdout",
     "output_type": "stream",
     "text": [
      "0 \u0000\n",
      "1 \u0001\n",
      "2 \u0002\n",
      "3 \u0003\n",
      "4 \u0004\n",
      "5 \u0005\n",
      "6 \u0006\n",
      "7 \u0007\n",
      "8 \b\n",
      "9 \t\n",
      "10 \n",
      "\n",
      "11 \u000b",
      "\n",
      "12 \f",
      "\n",
      "13 \r\n",
      "14 \u000e\n",
      "15 \u000f\n",
      "16 \u0010\n",
      "17 \u0011\n",
      "18 \u0012\n",
      "19 \u0013\n",
      "20 \u0014\n",
      "21 \u0015\n",
      "22 \u0016\n",
      "23 \u0017\n",
      "24 \u0018\n",
      "25 \u0019\n",
      "26 \u001a\n",
      "27 \u001b\n",
      "28 \u001c",
      "\n",
      "29 \u001d",
      "\n",
      "30 \u001e",
      "\n",
      "31 \u001f\n",
      "32  \n",
      "33 !\n",
      "34 \"\n",
      "35 #\n",
      "36 $\n",
      "37 %\n",
      "38 &\n",
      "39 '\n",
      "40 (\n",
      "41 )\n",
      "42 *\n",
      "43 +\n",
      "44 ,\n",
      "45 -\n",
      "46 .\n",
      "47 /\n",
      "48 0\n",
      "49 1\n",
      "50 2\n",
      "51 3\n",
      "52 4\n",
      "53 5\n",
      "54 6\n",
      "55 7\n",
      "56 8\n",
      "57 9\n",
      "58 :\n",
      "59 ;\n",
      "60 <\n",
      "61 =\n",
      "62 >\n",
      "63 ?\n",
      "64 @\n",
      "65 A\n",
      "66 B\n",
      "67 C\n",
      "68 D\n",
      "69 E\n",
      "70 F\n",
      "71 G\n",
      "72 H\n",
      "73 I\n",
      "74 J\n",
      "75 K\n",
      "76 L\n",
      "77 M\n",
      "78 N\n",
      "79 O\n",
      "80 P\n",
      "81 Q\n",
      "82 R\n",
      "83 S\n",
      "84 T\n",
      "85 U\n",
      "86 V\n",
      "87 W\n",
      "88 X\n",
      "89 Y\n",
      "90 Z\n",
      "91 [\n",
      "92 \\\n",
      "93 ]\n",
      "94 ^\n",
      "95 _\n",
      "96 `\n",
      "97 a\n",
      "98 b\n",
      "99 c\n",
      "100 d\n",
      "101 e\n",
      "102 f\n",
      "103 g\n",
      "104 h\n",
      "105 i\n",
      "106 j\n",
      "107 k\n",
      "108 l\n",
      "109 m\n",
      "110 n\n",
      "111 o\n",
      "112 p\n",
      "113 q\n",
      "114 r\n",
      "115 s\n",
      "116 t\n",
      "117 u\n",
      "118 v\n",
      "119 w\n",
      "120 x\n",
      "121 y\n",
      "122 z\n",
      "123 {\n",
      "124 |\n",
      "125 }\n",
      "126 ~\n",
      "127 \n",
      "128 \n",
      "129 \n",
      "130 \n",
      "131 \n",
      "132 \n",
      "133 ",
      "\n",
      "134 \n",
      "135 \n",
      "136 \n",
      "137 \n",
      "138 \n",
      "139 \n",
      "140 \n",
      "141 \n",
      "142 \n",
      "143 \n",
      "144 \n",
      "145 \n",
      "146 \n",
      "147 \n",
      "148 \n",
      "149 \n",
      "150 \n",
      "151 \n",
      "152 \n",
      "153 \n",
      "154 \n",
      "155 \n",
      "156 \n",
      "157 \n",
      "158 \n",
      "159 \n",
      "160  \n",
      "161 ¡\n",
      "162 ¢\n",
      "163 £\n",
      "164 ¤\n",
      "165 ¥\n",
      "166 ¦\n",
      "167 §\n",
      "168 ¨\n",
      "169 ©\n",
      "170 ª\n",
      "171 «\n",
      "172 ¬\n",
      "173 ­\n",
      "174 ®\n",
      "175 ¯\n",
      "176 °\n",
      "177 ±\n",
      "178 ²\n",
      "179 ³\n",
      "180 ´\n",
      "181 µ\n",
      "182 ¶\n",
      "183 ·\n",
      "184 ¸\n",
      "185 ¹\n",
      "186 º\n",
      "187 »\n",
      "188 ¼\n",
      "189 ½\n",
      "190 ¾\n",
      "191 ¿\n",
      "192 À\n",
      "193 Á\n",
      "194 Â\n",
      "195 Ã\n",
      "196 Ä\n",
      "197 Å\n",
      "198 Æ\n",
      "199 Ç\n"
     ]
    }
   ],
   "source": [
    "#we can see the numerical values for characters by using chr() function, opposite to ord()\n",
    "for i in range(200):\n",
    "    print(i, chr(i))"
   ]
  },
  {
   "cell_type": "code",
   "execution_count": 137,
   "metadata": {},
   "outputs": [
    {
     "name": "stdout",
     "output_type": "stream",
     "text": [
      "a 97\n",
      "b 98\n",
      "o 111\n",
      "u 117\n",
      "t 116\n"
     ]
    }
   ],
   "source": [
    "word=\"about\"\n",
    "for letter in word:\n",
    "    print(letter, ord(letter))"
   ]
  },
  {
   "cell_type": "code",
   "execution_count": 140,
   "metadata": {
    "scrolled": true
   },
   "outputs": [
    {
     "name": "stdout",
     "output_type": "stream",
     "text": [
      "H 72\n",
      "u 117\n",
      "s 115\n",
      "s 115\n",
      "e 101\n",
      "i 105\n",
      "n 110\n",
      "word hash Hussein 735\n"
     ]
    }
   ],
   "source": [
    "#now we can hash any word by adding the values of characters\n",
    "word_hash=0\n",
    "word=\"Hussein\"\n",
    "for letter in word:\n",
    "    print(letter, ord(letter))\n",
    "    word_hash+=ord(letter)\n",
    "\n",
    "print(\"word hash\", word, word_hash )\n"
   ]
  },
  {
   "cell_type": "code",
   "execution_count": null,
   "metadata": {
    "collapsed": true
   },
   "outputs": [],
   "source": []
  },
  {
   "cell_type": "code",
   "execution_count": 141,
   "metadata": {
    "scrolled": false
   },
   "outputs": [
    {
     "name": "stdout",
     "output_type": "stream",
     "text": [
      "0 \u0000\n",
      "1 \u0001\n",
      "2 \u0002\n",
      "3 \u0003\n",
      "4 \u0004\n",
      "5 \u0005\n",
      "6 \u0006\n",
      "7 \u0007\n",
      "8\n",
      "9 \t\n",
      "10 \n",
      "\n",
      "11 \u000b",
      "\n",
      "12 \f",
      "\n",
      "13 \n",
      "14 \u000e\n",
      "15 \u000f\n",
      "16 \u0010\n",
      "17 \u0011\n",
      "18 \u0012\n",
      "19 \u0013\n",
      "20 \u0014\n",
      "21 \u0015\n",
      "22 \u0016\n",
      "23 \u0017\n",
      "24 \u0018\n",
      "25 \u0019\n",
      "26 \u001a\n",
      "27 \u001b\n",
      "28 \u001c",
      "\n",
      "29 \u001d",
      "\n",
      "30 \u001e",
      "\n",
      "31 \u001f\n",
      "32  \n",
      "33 !\n",
      "34 \"\n",
      "35 #\n",
      "36 $\n",
      "37 %\n",
      "38 &\n",
      "39 '\n",
      "40 (\n",
      "41 )\n",
      "42 *\n",
      "43 +\n",
      "44 ,\n",
      "45 -\n",
      "46 .\n",
      "47 /\n",
      "48 0\n",
      "49 1\n",
      "50 2\n",
      "51 3\n",
      "52 4\n",
      "53 5\n",
      "54 6\n",
      "55 7\n",
      "56 8\n",
      "57 9\n",
      "58 :\n",
      "59 ;\n",
      "60 <\n",
      "61 =\n",
      "62 >\n",
      "63 ?\n",
      "64 @\n",
      "65 A\n",
      "66 B\n",
      "67 C\n",
      "68 D\n",
      "69 E\n",
      "70 F\n",
      "71 G\n",
      "72 H\n",
      "73 I\n",
      "74 J\n",
      "75 K\n",
      "76 L\n",
      "77 M\n",
      "78 N\n",
      "79 O\n",
      "80 P\n",
      "81 Q\n",
      "82 R\n",
      "83 S\n",
      "84 T\n",
      "85 U\n",
      "86 V\n",
      "87 W\n",
      "88 X\n",
      "89 Y\n",
      "90 Z\n",
      "91 [\n",
      "92 \\\n",
      "93 ]\n",
      "94 ^\n",
      "95 _\n",
      "96 `\n",
      "97 a\n",
      "98 b\n",
      "99 c\n",
      "100 d\n",
      "101 e\n",
      "102 f\n",
      "103 g\n",
      "104 h\n",
      "105 i\n",
      "106 j\n",
      "107 k\n",
      "108 l\n",
      "109 m\n",
      "110 n\n",
      "111 o\n",
      "112 p\n",
      "113 q\n",
      "114 r\n",
      "115 s\n",
      "116 t\n",
      "117 u\n",
      "118 v\n",
      "119 w\n",
      "120 x\n",
      "121 y\n",
      "122 z\n",
      "123 {\n",
      "124 |\n",
      "125 }\n",
      "126 ~\n",
      "127 \n",
      "128 \n",
      "129 \n",
      "130 \n",
      "131 \n",
      "132 \n",
      "133 ",
      "\n",
      "134 \n",
      "135 \n",
      "136 \n",
      "137 \n",
      "138 \n",
      "139 \n",
      "140 \n",
      "141 \n",
      "142 \n",
      "143 \n",
      "144 \n",
      "145 \n",
      "146 \n",
      "147 \n",
      "148 \n",
      "149 \n",
      "150 \n",
      "151 \n",
      "152 \n",
      "153 \n",
      "154 \n",
      "155 \n",
      "156 \n",
      "157 \n",
      "158 \n",
      "159 \n",
      "160  \n",
      "161 ¡\n",
      "162 ¢\n",
      "163 £\n",
      "164 ¤\n",
      "165 ¥\n",
      "166 ¦\n",
      "167 §\n",
      "168 ¨\n",
      "169 ©\n",
      "170 ª\n",
      "171 «\n",
      "172 ¬\n",
      "173 ­\n",
      "174 ®\n",
      "175 ¯\n",
      "176 °\n",
      "177 ±\n",
      "178 ²\n",
      "179 ³\n",
      "180 ´\n",
      "181 µ\n",
      "182 ¶\n",
      "183 ·\n",
      "184 ¸\n",
      "185 ¹\n",
      "186 º\n",
      "187 »\n",
      "188 ¼\n",
      "189 ½\n",
      "190 ¾\n",
      "191 ¿\n",
      "192 À\n",
      "193 Á\n",
      "194 Â\n",
      "195 Ã\n",
      "196 Ä\n",
      "197 Å\n",
      "198 Æ\n",
      "199 Ç\n",
      "200 È\n",
      "201 É\n",
      "202 Ê\n",
      "203 Ë\n",
      "204 Ì\n",
      "205 Í\n",
      "206 Î\n",
      "207 Ï\n",
      "208 Ð\n",
      "209 Ñ\n",
      "210 Ò\n",
      "211 Ó\n",
      "212 Ô\n",
      "213 Õ\n",
      "214 Ö\n",
      "215 ×\n",
      "216 Ø\n",
      "217 Ù\n",
      "218 Ú\n",
      "219 Û\n",
      "220 Ü\n",
      "221 Ý\n",
      "222 Þ\n",
      "223 ß\n",
      "224 à\n",
      "225 á\n",
      "226 â\n",
      "227 ã\n",
      "228 ä\n",
      "229 å\n",
      "230 æ\n",
      "231 ç\n",
      "232 è\n",
      "233 é\n",
      "234 ê\n",
      "235 ë\n",
      "236 ì\n",
      "237 í\n",
      "238 î\n",
      "239 ï\n",
      "240 ð\n",
      "241 ñ\n",
      "242 ò\n",
      "243 ó\n",
      "244 ô\n",
      "245 õ\n",
      "246 ö\n",
      "247 ÷\n",
      "248 ø\n",
      "249 ù\n",
      "250 ú\n",
      "251 û\n",
      "252 ü\n",
      "253 ý\n",
      "254 þ\n",
      "255 ÿ\n",
      "256 Ā\n",
      "257 ā\n",
      "258 Ă\n",
      "259 ă\n",
      "260 Ą\n",
      "261 ą\n",
      "262 Ć\n",
      "263 ć\n",
      "264 Ĉ\n",
      "265 ĉ\n",
      "266 Ċ\n",
      "267 ċ\n",
      "268 Č\n",
      "269 č\n",
      "270 Ď\n",
      "271 ď\n",
      "272 Đ\n",
      "273 đ\n",
      "274 Ē\n",
      "275 ē\n",
      "276 Ĕ\n",
      "277 ĕ\n",
      "278 Ė\n",
      "279 ė\n",
      "280 Ę\n",
      "281 ę\n",
      "282 Ě\n",
      "283 ě\n",
      "284 Ĝ\n",
      "285 ĝ\n",
      "286 Ğ\n",
      "287 ğ\n",
      "288 Ġ\n",
      "289 ġ\n",
      "290 Ģ\n",
      "291 ģ\n",
      "292 Ĥ\n",
      "293 ĥ\n",
      "294 Ħ\n",
      "295 ħ\n",
      "296 Ĩ\n",
      "297 ĩ\n",
      "298 Ī\n",
      "299 ī\n",
      "300 Ĭ\n",
      "301 ĭ\n",
      "302 Į\n",
      "303 į\n",
      "304 İ\n",
      "305 ı\n",
      "306 Ĳ\n",
      "307 ĳ\n",
      "308 Ĵ\n",
      "309 ĵ\n",
      "310 Ķ\n",
      "311 ķ\n",
      "312 ĸ\n",
      "313 Ĺ\n",
      "314 ĺ\n",
      "315 Ļ\n",
      "316 ļ\n",
      "317 Ľ\n",
      "318 ľ\n",
      "319 Ŀ\n",
      "320 ŀ\n",
      "321 Ł\n",
      "322 ł\n",
      "323 Ń\n",
      "324 ń\n",
      "325 Ņ\n",
      "326 ņ\n",
      "327 Ň\n",
      "328 ň\n",
      "329 ŉ\n",
      "330 Ŋ\n",
      "331 ŋ\n",
      "332 Ō\n",
      "333 ō\n",
      "334 Ŏ\n",
      "335 ŏ\n",
      "336 Ő\n",
      "337 ő\n",
      "338 Œ\n",
      "339 œ\n",
      "340 Ŕ\n",
      "341 ŕ\n",
      "342 Ŗ\n",
      "343 ŗ\n",
      "344 Ř\n",
      "345 ř\n",
      "346 Ś\n",
      "347 ś\n",
      "348 Ŝ\n",
      "349 ŝ\n",
      "350 Ş\n",
      "351 ş\n",
      "352 Š\n",
      "353 š\n",
      "354 Ţ\n",
      "355 ţ\n",
      "356 Ť\n",
      "357 ť\n",
      "358 Ŧ\n",
      "359 ŧ\n",
      "360 Ũ\n",
      "361 ũ\n",
      "362 Ū\n",
      "363 ū\n",
      "364 Ŭ\n",
      "365 ŭ\n",
      "366 Ů\n",
      "367 ů\n",
      "368 Ű\n",
      "369 ű\n",
      "370 Ų\n",
      "371 ų\n",
      "372 Ŵ\n",
      "373 ŵ\n",
      "374 Ŷ\n",
      "375 ŷ\n",
      "376 Ÿ\n",
      "377 Ź\n",
      "378 ź\n",
      "379 Ż\n",
      "380 ż\n",
      "381 Ž\n",
      "382 ž\n",
      "383 ſ\n",
      "384 ƀ\n",
      "385 Ɓ\n",
      "386 Ƃ\n",
      "387 ƃ\n",
      "388 Ƅ\n",
      "389 ƅ\n",
      "390 Ɔ\n",
      "391 Ƈ\n",
      "392 ƈ\n",
      "393 Ɖ\n",
      "394 Ɗ\n",
      "395 Ƌ\n",
      "396 ƌ\n",
      "397 ƍ\n",
      "398 Ǝ\n",
      "399 Ə\n",
      "400 Ɛ\n",
      "401 Ƒ\n",
      "402 ƒ\n",
      "403 Ɠ\n",
      "404 Ɣ\n",
      "405 ƕ\n",
      "406 Ɩ\n",
      "407 Ɨ\n",
      "408 Ƙ\n",
      "409 ƙ\n",
      "410 ƚ\n",
      "411 ƛ\n",
      "412 Ɯ\n",
      "413 Ɲ\n",
      "414 ƞ\n",
      "415 Ɵ\n",
      "416 Ơ\n",
      "417 ơ\n",
      "418 Ƣ\n",
      "419 ƣ\n",
      "420 Ƥ\n",
      "421 ƥ\n",
      "422 Ʀ\n",
      "423 Ƨ\n",
      "424 ƨ\n",
      "425 Ʃ\n",
      "426 ƪ\n",
      "427 ƫ\n",
      "428 Ƭ\n",
      "429 ƭ\n",
      "430 Ʈ\n",
      "431 Ư\n",
      "432 ư\n",
      "433 Ʊ\n",
      "434 Ʋ\n",
      "435 Ƴ\n",
      "436 ƴ\n",
      "437 Ƶ\n",
      "438 ƶ\n",
      "439 Ʒ\n",
      "440 Ƹ\n",
      "441 ƹ\n",
      "442 ƺ\n",
      "443 ƻ\n",
      "444 Ƽ\n",
      "445 ƽ\n",
      "446 ƾ\n",
      "447 ƿ\n",
      "448 ǀ\n",
      "449 ǁ\n",
      "450 ǂ\n",
      "451 ǃ\n",
      "452 Ǆ\n",
      "453 ǅ\n",
      "454 ǆ\n",
      "455 Ǉ\n",
      "456 ǈ\n",
      "457 ǉ\n",
      "458 Ǌ\n",
      "459 ǋ\n",
      "460 ǌ\n",
      "461 Ǎ\n",
      "462 ǎ\n",
      "463 Ǐ\n",
      "464 ǐ\n",
      "465 Ǒ\n",
      "466 ǒ\n",
      "467 Ǔ\n",
      "468 ǔ\n",
      "469 Ǖ\n",
      "470 ǖ\n",
      "471 Ǘ\n",
      "472 ǘ\n",
      "473 Ǚ\n",
      "474 ǚ\n",
      "475 Ǜ\n",
      "476 ǜ\n",
      "477 ǝ\n",
      "478 Ǟ\n",
      "479 ǟ\n",
      "480 Ǡ\n",
      "481 ǡ\n",
      "482 Ǣ\n",
      "483 ǣ\n",
      "484 Ǥ\n",
      "485 ǥ\n",
      "486 Ǧ\n",
      "487 ǧ\n",
      "488 Ǩ\n",
      "489 ǩ\n",
      "490 Ǫ\n",
      "491 ǫ\n",
      "492 Ǭ\n",
      "493 ǭ\n",
      "494 Ǯ\n",
      "495 ǯ\n",
      "496 ǰ\n",
      "497 Ǳ\n",
      "498 ǲ\n",
      "499 ǳ\n",
      "500 Ǵ\n",
      "501 ǵ\n",
      "502 Ƕ\n",
      "503 Ƿ\n",
      "504 Ǹ\n",
      "505 ǹ\n",
      "506 Ǻ\n",
      "507 ǻ\n",
      "508 Ǽ\n",
      "509 ǽ\n",
      "510 Ǿ\n",
      "511 ǿ\n",
      "512 Ȁ\n",
      "513 ȁ\n",
      "514 Ȃ\n",
      "515 ȃ\n",
      "516 Ȅ\n",
      "517 ȅ\n",
      "518 Ȇ\n",
      "519 ȇ\n",
      "520 Ȉ\n",
      "521 ȉ\n",
      "522 Ȋ\n",
      "523 ȋ\n",
      "524 Ȍ\n",
      "525 ȍ\n",
      "526 Ȏ\n",
      "527 ȏ\n",
      "528 Ȑ\n",
      "529 ȑ\n",
      "530 Ȓ\n",
      "531 ȓ\n",
      "532 Ȕ\n",
      "533 ȕ\n",
      "534 Ȗ\n",
      "535 ȗ\n",
      "536 Ș\n",
      "537 ș\n",
      "538 Ț\n",
      "539 ț\n",
      "540 Ȝ\n",
      "541 ȝ\n",
      "542 Ȟ\n",
      "543 ȟ\n",
      "544 Ƞ\n",
      "545 ȡ\n",
      "546 Ȣ\n",
      "547 ȣ\n",
      "548 Ȥ\n",
      "549 ȥ\n",
      "550 Ȧ\n",
      "551 ȧ\n",
      "552 Ȩ\n",
      "553 ȩ\n",
      "554 Ȫ\n",
      "555 ȫ\n",
      "556 Ȭ\n",
      "557 ȭ\n",
      "558 Ȯ\n",
      "559 ȯ\n",
      "560 Ȱ\n",
      "561 ȱ\n",
      "562 Ȳ\n",
      "563 ȳ\n",
      "564 ȴ\n",
      "565 ȵ\n",
      "566 ȶ\n",
      "567 ȷ\n",
      "568 ȸ\n",
      "569 ȹ\n",
      "570 Ⱥ\n",
      "571 Ȼ\n",
      "572 ȼ\n",
      "573 Ƚ\n",
      "574 Ⱦ\n",
      "575 ȿ\n",
      "576 ɀ\n",
      "577 Ɂ\n",
      "578 ɂ\n",
      "579 Ƀ\n",
      "580 Ʉ\n",
      "581 Ʌ\n",
      "582 Ɇ\n",
      "583 ɇ\n",
      "584 Ɉ\n",
      "585 ɉ\n",
      "586 Ɋ\n",
      "587 ɋ\n",
      "588 Ɍ\n",
      "589 ɍ\n",
      "590 Ɏ\n",
      "591 ɏ\n",
      "592 ɐ\n",
      "593 ɑ\n",
      "594 ɒ\n",
      "595 ɓ\n",
      "596 ɔ\n",
      "597 ɕ\n",
      "598 ɖ\n",
      "599 ɗ\n",
      "600 ɘ\n",
      "601 ə\n",
      "602 ɚ\n",
      "603 ɛ\n",
      "604 ɜ\n",
      "605 ɝ\n",
      "606 ɞ\n",
      "607 ɟ\n",
      "608 ɠ\n",
      "609 ɡ\n",
      "610 ɢ\n",
      "611 ɣ\n",
      "612 ɤ\n",
      "613 ɥ\n",
      "614 ɦ\n",
      "615 ɧ\n",
      "616 ɨ\n",
      "617 ɩ\n",
      "618 ɪ\n",
      "619 ɫ\n",
      "620 ɬ\n",
      "621 ɭ\n",
      "622 ɮ\n",
      "623 ɯ\n",
      "624 ɰ\n",
      "625 ɱ\n",
      "626 ɲ\n",
      "627 ɳ\n",
      "628 ɴ\n",
      "629 ɵ\n",
      "630 ɶ\n",
      "631 ɷ\n",
      "632 ɸ\n",
      "633 ɹ\n",
      "634 ɺ\n",
      "635 ɻ\n",
      "636 ɼ\n",
      "637 ɽ\n",
      "638 ɾ\n",
      "639 ɿ\n",
      "640 ʀ\n",
      "641 ʁ\n",
      "642 ʂ\n",
      "643 ʃ\n",
      "644 ʄ\n",
      "645 ʅ\n",
      "646 ʆ\n",
      "647 ʇ\n",
      "648 ʈ\n",
      "649 ʉ\n",
      "650 ʊ\n",
      "651 ʋ\n",
      "652 ʌ\n",
      "653 ʍ\n",
      "654 ʎ\n",
      "655 ʏ\n",
      "656 ʐ\n",
      "657 ʑ\n",
      "658 ʒ\n",
      "659 ʓ\n",
      "660 ʔ\n",
      "661 ʕ\n",
      "662 ʖ\n",
      "663 ʗ\n",
      "664 ʘ\n",
      "665 ʙ\n",
      "666 ʚ\n",
      "667 ʛ\n",
      "668 ʜ\n",
      "669 ʝ\n",
      "670 ʞ\n",
      "671 ʟ\n",
      "672 ʠ\n",
      "673 ʡ\n",
      "674 ʢ\n",
      "675 ʣ\n",
      "676 ʤ\n",
      "677 ʥ\n",
      "678 ʦ\n",
      "679 ʧ\n",
      "680 ʨ\n",
      "681 ʩ\n",
      "682 ʪ\n",
      "683 ʫ\n",
      "684 ʬ\n",
      "685 ʭ\n",
      "686 ʮ\n",
      "687 ʯ\n",
      "688 ʰ\n",
      "689 ʱ\n",
      "690 ʲ\n",
      "691 ʳ\n",
      "692 ʴ\n",
      "693 ʵ\n",
      "694 ʶ\n",
      "695 ʷ\n",
      "696 ʸ\n",
      "697 ʹ\n",
      "698 ʺ\n",
      "699 ʻ\n",
      "700 ʼ\n",
      "701 ʽ\n",
      "702 ʾ\n",
      "703 ʿ\n",
      "704 ˀ\n",
      "705 ˁ\n",
      "706 ˂\n",
      "707 ˃\n",
      "708 ˄\n",
      "709 ˅\n",
      "710 ˆ\n",
      "711 ˇ\n",
      "712 ˈ\n",
      "713 ˉ\n",
      "714 ˊ\n",
      "715 ˋ\n",
      "716 ˌ\n",
      "717 ˍ\n",
      "718 ˎ\n",
      "719 ˏ\n",
      "720 ː\n",
      "721 ˑ\n",
      "722 ˒\n",
      "723 ˓\n",
      "724 ˔\n",
      "725 ˕\n",
      "726 ˖\n",
      "727 ˗\n",
      "728 ˘\n",
      "729 ˙\n",
      "730 ˚\n",
      "731 ˛\n",
      "732 ˜\n",
      "733 ˝\n",
      "734 ˞\n",
      "735 ˟\n",
      "736 ˠ\n",
      "737 ˡ\n",
      "738 ˢ\n",
      "739 ˣ\n",
      "740 ˤ\n",
      "741 ˥\n",
      "742 ˦\n",
      "743 ˧\n",
      "744 ˨\n",
      "745 ˩\n",
      "746 ˪\n",
      "747 ˫\n",
      "748 ˬ\n",
      "749 ˭\n",
      "750 ˮ\n",
      "751 ˯\n",
      "752 ˰\n",
      "753 ˱\n",
      "754 ˲\n",
      "755 ˳\n",
      "756 ˴\n",
      "757 ˵\n",
      "758 ˶\n",
      "759 ˷\n",
      "760 ˸\n",
      "761 ˹\n",
      "762 ˺\n",
      "763 ˻\n",
      "764 ˼\n",
      "765 ˽\n",
      "766 ˾\n",
      "767 ˿\n",
      "768 ̀\n",
      "769 ́\n",
      "770 ̂\n",
      "771 ̃\n",
      "772 ̄\n",
      "773 ̅\n",
      "774 ̆\n",
      "775 ̇\n",
      "776 ̈\n",
      "777 ̉\n",
      "778 ̊\n",
      "779 ̋\n",
      "780 ̌\n",
      "781 ̍\n",
      "782 ̎\n",
      "783 ̏\n",
      "784 ̐\n",
      "785 ̑\n",
      "786 ̒\n",
      "787 ̓\n",
      "788 ̔\n",
      "789 ̕\n",
      "790 ̖\n",
      "791 ̗\n",
      "792 ̘\n",
      "793 ̙\n",
      "794 ̚\n",
      "795 ̛\n",
      "796 ̜\n",
      "797 ̝\n",
      "798 ̞\n",
      "799 ̟\n",
      "800 ̠\n",
      "801 ̡\n",
      "802 ̢\n",
      "803 ̣\n",
      "804 ̤\n",
      "805 ̥\n",
      "806 ̦\n",
      "807 ̧\n",
      "808 ̨\n",
      "809 ̩\n",
      "810 ̪\n",
      "811 ̫\n",
      "812 ̬\n",
      "813 ̭\n",
      "814 ̮\n",
      "815 ̯\n",
      "816 ̰\n",
      "817 ̱\n",
      "818 ̲\n",
      "819 ̳\n",
      "820 ̴\n",
      "821 ̵\n",
      "822 ̶\n",
      "823 ̷\n",
      "824 ̸\n",
      "825 ̹\n",
      "826 ̺\n",
      "827 ̻\n",
      "828 ̼\n",
      "829 ̽\n",
      "830 ̾\n",
      "831 ̿\n",
      "832 ̀\n",
      "833 ́\n",
      "834 ͂\n",
      "835 ̓\n",
      "836 ̈́\n",
      "837 ͅ\n",
      "838 ͆\n",
      "839 ͇\n",
      "840 ͈\n",
      "841 ͉\n",
      "842 ͊\n",
      "843 ͋\n",
      "844 ͌\n",
      "845 ͍\n",
      "846 ͎\n",
      "847 ͏\n",
      "848 ͐\n",
      "849 ͑\n",
      "850 ͒\n",
      "851 ͓\n",
      "852 ͔\n",
      "853 ͕\n",
      "854 ͖\n",
      "855 ͗\n",
      "856 ͘\n",
      "857 ͙\n",
      "858 ͚\n",
      "859 ͛\n",
      "860 ͜\n",
      "861 ͝\n",
      "862 ͞\n",
      "863 ͟\n",
      "864 ͠\n",
      "865 ͡\n",
      "866 ͢\n",
      "867 ͣ\n",
      "868 ͤ\n",
      "869 ͥ\n",
      "870 ͦ\n",
      "871 ͧ\n",
      "872 ͨ\n",
      "873 ͩ\n",
      "874 ͪ\n",
      "875 ͫ\n",
      "876 ͬ\n",
      "877 ͭ\n",
      "878 ͮ\n",
      "879 ͯ\n",
      "880 Ͱ\n",
      "881 ͱ\n",
      "882 Ͳ\n",
      "883 ͳ\n",
      "884 ʹ\n",
      "885 ͵\n",
      "886 Ͷ\n",
      "887 ͷ\n",
      "888 ͸\n",
      "889 ͹\n",
      "890 ͺ\n",
      "891 ͻ\n",
      "892 ͼ\n",
      "893 ͽ\n",
      "894 ;\n",
      "895 Ϳ\n",
      "896 ΀\n",
      "897 ΁\n",
      "898 ΂\n",
      "899 ΃\n",
      "900 ΄\n",
      "901 ΅\n",
      "902 Ά\n",
      "903 ·\n",
      "904 Έ\n",
      "905 Ή\n",
      "906 Ί\n",
      "907 ΋\n",
      "908 Ό\n",
      "909 ΍\n",
      "910 Ύ\n",
      "911 Ώ\n",
      "912 ΐ\n",
      "913 Α\n",
      "914 Β\n",
      "915 Γ\n",
      "916 Δ\n",
      "917 Ε\n",
      "918 Ζ\n",
      "919 Η\n",
      "920 Θ\n",
      "921 Ι\n",
      "922 Κ\n",
      "923 Λ\n",
      "924 Μ\n",
      "925 Ν\n",
      "926 Ξ\n",
      "927 Ο\n",
      "928 Π\n",
      "929 Ρ\n",
      "930 ΢\n",
      "931 Σ\n",
      "932 Τ\n",
      "933 Υ\n",
      "934 Φ\n",
      "935 Χ\n",
      "936 Ψ\n",
      "937 Ω\n",
      "938 Ϊ\n",
      "939 Ϋ\n",
      "940 ά\n",
      "941 έ\n",
      "942 ή\n",
      "943 ί\n",
      "944 ΰ\n",
      "945 α\n",
      "946 β\n",
      "947 γ\n",
      "948 δ\n",
      "949 ε\n",
      "950 ζ\n",
      "951 η\n",
      "952 θ\n",
      "953 ι\n",
      "954 κ\n",
      "955 λ\n",
      "956 μ\n",
      "957 ν\n",
      "958 ξ\n",
      "959 ο\n",
      "960 π\n",
      "961 ρ\n",
      "962 ς\n",
      "963 σ\n",
      "964 τ\n",
      "965 υ\n",
      "966 φ\n",
      "967 χ\n",
      "968 ψ\n",
      "969 ω\n",
      "970 ϊ\n",
      "971 ϋ\n",
      "972 ό\n",
      "973 ύ\n",
      "974 ώ\n",
      "975 Ϗ\n",
      "976 ϐ\n",
      "977 ϑ\n",
      "978 ϒ\n",
      "979 ϓ\n",
      "980 ϔ\n",
      "981 ϕ\n",
      "982 ϖ\n",
      "983 ϗ\n",
      "984 Ϙ\n",
      "985 ϙ\n",
      "986 Ϛ\n",
      "987 ϛ\n",
      "988 Ϝ\n",
      "989 ϝ\n",
      "990 Ϟ\n",
      "991 ϟ\n",
      "992 Ϡ\n",
      "993 ϡ\n",
      "994 Ϣ\n",
      "995 ϣ\n",
      "996 Ϥ\n",
      "997 ϥ\n",
      "998 Ϧ\n",
      "999 ϧ\n",
      "1000 Ϩ\n",
      "1001 ϩ\n",
      "1002 Ϫ\n",
      "1003 ϫ\n",
      "1004 Ϭ\n",
      "1005 ϭ\n",
      "1006 Ϯ\n",
      "1007 ϯ\n",
      "1008 ϰ\n",
      "1009 ϱ\n",
      "1010 ϲ\n",
      "1011 ϳ\n",
      "1012 ϴ\n",
      "1013 ϵ\n",
      "1014 ϶\n",
      "1015 Ϸ\n",
      "1016 ϸ\n",
      "1017 Ϲ\n",
      "1018 Ϻ\n",
      "1019 ϻ\n",
      "1020 ϼ\n",
      "1021 Ͻ\n",
      "1022 Ͼ\n",
      "1023 Ͽ\n",
      "1024 Ѐ\n",
      "1025 Ё\n",
      "1026 Ђ\n",
      "1027 Ѓ\n",
      "1028 Є\n",
      "1029 Ѕ\n",
      "1030 І\n",
      "1031 Ї\n",
      "1032 Ј\n",
      "1033 Љ\n",
      "1034 Њ\n",
      "1035 Ћ\n",
      "1036 Ќ\n",
      "1037 Ѝ\n",
      "1038 Ў\n",
      "1039 Џ\n",
      "1040 А\n",
      "1041 Б\n",
      "1042 В\n",
      "1043 Г\n",
      "1044 Д\n",
      "1045 Е\n",
      "1046 Ж\n",
      "1047 З\n",
      "1048 И\n",
      "1049 Й\n",
      "1050 К\n",
      "1051 Л\n",
      "1052 М\n",
      "1053 Н\n",
      "1054 О\n",
      "1055 П\n",
      "1056 Р\n",
      "1057 С\n",
      "1058 Т\n",
      "1059 У\n",
      "1060 Ф\n",
      "1061 Х\n",
      "1062 Ц\n",
      "1063 Ч\n",
      "1064 Ш\n",
      "1065 Щ\n",
      "1066 Ъ\n",
      "1067 Ы\n",
      "1068 Ь\n",
      "1069 Э\n",
      "1070 Ю\n",
      "1071 Я\n",
      "1072 а\n",
      "1073 б\n",
      "1074 в\n",
      "1075 г\n",
      "1076 д\n",
      "1077 е\n",
      "1078 ж\n",
      "1079 з\n",
      "1080 и\n",
      "1081 й\n",
      "1082 к\n",
      "1083 л\n",
      "1084 м\n",
      "1085 н\n",
      "1086 о\n",
      "1087 п\n",
      "1088 р\n",
      "1089 с\n",
      "1090 т\n",
      "1091 у\n",
      "1092 ф\n",
      "1093 х\n",
      "1094 ц\n",
      "1095 ч\n",
      "1096 ш\n",
      "1097 щ\n",
      "1098 ъ\n",
      "1099 ы\n",
      "1100 ь\n",
      "1101 э\n",
      "1102 ю\n",
      "1103 я\n",
      "1104 ѐ\n",
      "1105 ё\n",
      "1106 ђ\n",
      "1107 ѓ\n",
      "1108 є\n",
      "1109 ѕ\n",
      "1110 і\n",
      "1111 ї\n",
      "1112 ј\n",
      "1113 љ\n",
      "1114 њ\n",
      "1115 ћ\n",
      "1116 ќ\n",
      "1117 ѝ\n",
      "1118 ў\n",
      "1119 џ\n",
      "1120 Ѡ\n",
      "1121 ѡ\n",
      "1122 Ѣ\n",
      "1123 ѣ\n",
      "1124 Ѥ\n",
      "1125 ѥ\n",
      "1126 Ѧ\n",
      "1127 ѧ\n",
      "1128 Ѩ\n",
      "1129 ѩ\n",
      "1130 Ѫ\n",
      "1131 ѫ\n",
      "1132 Ѭ\n",
      "1133 ѭ\n",
      "1134 Ѯ\n",
      "1135 ѯ\n",
      "1136 Ѱ\n",
      "1137 ѱ\n",
      "1138 Ѳ\n",
      "1139 ѳ\n",
      "1140 Ѵ\n",
      "1141 ѵ\n",
      "1142 Ѷ\n",
      "1143 ѷ\n",
      "1144 Ѹ\n",
      "1145 ѹ\n",
      "1146 Ѻ\n",
      "1147 ѻ\n",
      "1148 Ѽ\n",
      "1149 ѽ\n",
      "1150 Ѿ\n",
      "1151 ѿ\n",
      "1152 Ҁ\n",
      "1153 ҁ\n",
      "1154 ҂\n",
      "1155 ҃\n",
      "1156 ҄\n",
      "1157 ҅\n",
      "1158 ҆\n",
      "1159 ҇\n",
      "1160 ҈\n",
      "1161 ҉\n",
      "1162 Ҋ\n",
      "1163 ҋ\n",
      "1164 Ҍ\n",
      "1165 ҍ\n",
      "1166 Ҏ\n",
      "1167 ҏ\n",
      "1168 Ґ\n",
      "1169 ґ\n",
      "1170 Ғ\n",
      "1171 ғ\n",
      "1172 Ҕ\n",
      "1173 ҕ\n",
      "1174 Җ\n",
      "1175 җ\n",
      "1176 Ҙ\n",
      "1177 ҙ\n",
      "1178 Қ\n",
      "1179 қ\n",
      "1180 Ҝ\n",
      "1181 ҝ\n",
      "1182 Ҟ\n",
      "1183 ҟ\n",
      "1184 Ҡ\n",
      "1185 ҡ\n",
      "1186 Ң\n",
      "1187 ң\n",
      "1188 Ҥ\n",
      "1189 ҥ\n",
      "1190 Ҧ\n",
      "1191 ҧ\n",
      "1192 Ҩ\n",
      "1193 ҩ\n",
      "1194 Ҫ\n",
      "1195 ҫ\n",
      "1196 Ҭ\n",
      "1197 ҭ\n",
      "1198 Ү\n",
      "1199 ү\n",
      "1200 Ұ\n",
      "1201 ұ\n",
      "1202 Ҳ\n",
      "1203 ҳ\n",
      "1204 Ҵ\n",
      "1205 ҵ\n",
      "1206 Ҷ\n",
      "1207 ҷ\n",
      "1208 Ҹ\n",
      "1209 ҹ\n",
      "1210 Һ\n",
      "1211 һ\n",
      "1212 Ҽ\n",
      "1213 ҽ\n",
      "1214 Ҿ\n",
      "1215 ҿ\n",
      "1216 Ӏ\n",
      "1217 Ӂ\n",
      "1218 ӂ\n",
      "1219 Ӄ\n",
      "1220 ӄ\n",
      "1221 Ӆ\n",
      "1222 ӆ\n",
      "1223 Ӈ\n",
      "1224 ӈ\n",
      "1225 Ӊ\n",
      "1226 ӊ\n",
      "1227 Ӌ\n",
      "1228 ӌ\n",
      "1229 Ӎ\n",
      "1230 ӎ\n",
      "1231 ӏ\n",
      "1232 Ӑ\n",
      "1233 ӑ\n",
      "1234 Ӓ\n",
      "1235 ӓ\n",
      "1236 Ӕ\n",
      "1237 ӕ\n",
      "1238 Ӗ\n",
      "1239 ӗ\n",
      "1240 Ә\n",
      "1241 ә\n",
      "1242 Ӛ\n",
      "1243 ӛ\n",
      "1244 Ӝ\n",
      "1245 ӝ\n",
      "1246 Ӟ\n",
      "1247 ӟ\n",
      "1248 Ӡ\n",
      "1249 ӡ\n",
      "1250 Ӣ\n",
      "1251 ӣ\n",
      "1252 Ӥ\n",
      "1253 ӥ\n",
      "1254 Ӧ\n",
      "1255 ӧ\n",
      "1256 Ө\n",
      "1257 ө\n",
      "1258 Ӫ\n",
      "1259 ӫ\n",
      "1260 Ӭ\n",
      "1261 ӭ\n",
      "1262 Ӯ\n",
      "1263 ӯ\n",
      "1264 Ӱ\n",
      "1265 ӱ\n",
      "1266 Ӳ\n",
      "1267 ӳ\n",
      "1268 Ӵ\n",
      "1269 ӵ\n",
      "1270 Ӷ\n",
      "1271 ӷ\n",
      "1272 Ӹ\n",
      "1273 ӹ\n",
      "1274 Ӻ\n",
      "1275 ӻ\n",
      "1276 Ӽ\n",
      "1277 ӽ\n",
      "1278 Ӿ\n",
      "1279 ӿ\n",
      "1280 Ԁ\n",
      "1281 ԁ\n",
      "1282 Ԃ\n",
      "1283 ԃ\n",
      "1284 Ԅ\n",
      "1285 ԅ\n",
      "1286 Ԇ\n",
      "1287 ԇ\n",
      "1288 Ԉ\n",
      "1289 ԉ\n",
      "1290 Ԋ\n",
      "1291 ԋ\n",
      "1292 Ԍ\n",
      "1293 ԍ\n",
      "1294 Ԏ\n",
      "1295 ԏ\n",
      "1296 Ԑ\n",
      "1297 ԑ\n",
      "1298 Ԓ\n",
      "1299 ԓ\n",
      "1300 Ԕ\n",
      "1301 ԕ\n",
      "1302 Ԗ\n",
      "1303 ԗ\n",
      "1304 Ԙ\n",
      "1305 ԙ\n",
      "1306 Ԛ\n",
      "1307 ԛ\n",
      "1308 Ԝ\n",
      "1309 ԝ\n",
      "1310 Ԟ\n",
      "1311 ԟ\n",
      "1312 Ԡ\n",
      "1313 ԡ\n",
      "1314 Ԣ\n",
      "1315 ԣ\n",
      "1316 Ԥ\n",
      "1317 ԥ\n",
      "1318 Ԧ\n",
      "1319 ԧ\n",
      "1320 Ԩ\n",
      "1321 ԩ\n",
      "1322 Ԫ\n",
      "1323 ԫ\n",
      "1324 Ԭ\n",
      "1325 ԭ\n",
      "1326 Ԯ\n",
      "1327 ԯ\n",
      "1328 ԰\n",
      "1329 Ա\n",
      "1330 Բ\n",
      "1331 Գ\n",
      "1332 Դ\n",
      "1333 Ե\n",
      "1334 Զ\n",
      "1335 Է\n",
      "1336 Ը\n",
      "1337 Թ\n",
      "1338 Ժ\n",
      "1339 Ի\n",
      "1340 Լ\n",
      "1341 Խ\n",
      "1342 Ծ\n",
      "1343 Կ\n",
      "1344 Հ\n",
      "1345 Ձ\n",
      "1346 Ղ\n",
      "1347 Ճ\n",
      "1348 Մ\n",
      "1349 Յ\n",
      "1350 Ն\n",
      "1351 Շ\n",
      "1352 Ո\n",
      "1353 Չ\n",
      "1354 Պ\n",
      "1355 Ջ\n",
      "1356 Ռ\n",
      "1357 Ս\n",
      "1358 Վ\n",
      "1359 Տ\n",
      "1360 Ր\n",
      "1361 Ց\n",
      "1362 Ւ\n",
      "1363 Փ\n",
      "1364 Ք\n",
      "1365 Օ\n",
      "1366 Ֆ\n",
      "1367 ՗\n",
      "1368 ՘\n",
      "1369 ՙ\n",
      "1370 ՚\n",
      "1371 ՛\n",
      "1372 ՜\n",
      "1373 ՝\n",
      "1374 ՞\n",
      "1375 ՟\n",
      "1376 ՠ\n",
      "1377 ա\n",
      "1378 բ\n",
      "1379 գ\n",
      "1380 դ\n",
      "1381 ե\n",
      "1382 զ\n",
      "1383 է\n",
      "1384 ը\n",
      "1385 թ\n",
      "1386 ժ\n",
      "1387 ի\n",
      "1388 լ\n",
      "1389 խ\n",
      "1390 ծ\n",
      "1391 կ\n",
      "1392 հ\n",
      "1393 ձ\n",
      "1394 ղ\n",
      "1395 ճ\n",
      "1396 մ\n",
      "1397 յ\n",
      "1398 ն\n",
      "1399 շ\n",
      "1400 ո\n",
      "1401 չ\n",
      "1402 պ\n",
      "1403 ջ\n",
      "1404 ռ\n",
      "1405 ս\n",
      "1406 վ\n",
      "1407 տ\n",
      "1408 ր\n",
      "1409 ց\n",
      "1410 ւ\n",
      "1411 փ\n",
      "1412 ք\n",
      "1413 օ\n",
      "1414 ֆ\n",
      "1415 և\n",
      "1416 ֈ\n",
      "1417 ։\n",
      "1418 ֊\n",
      "1419 ֋\n",
      "1420 ֌\n",
      "1421 ֍\n",
      "1422 ֎\n",
      "1423 ֏\n",
      "1424 ֐\n",
      "1425 ֑\n",
      "1426 ֒\n",
      "1427 ֓\n",
      "1428 ֔\n",
      "1429 ֕\n",
      "1430 ֖\n",
      "1431 ֗\n",
      "1432 ֘\n",
      "1433 ֙\n",
      "1434 ֚\n",
      "1435 ֛\n",
      "1436 ֜\n",
      "1437 ֝\n",
      "1438 ֞\n",
      "1439 ֟\n",
      "1440 ֠\n",
      "1441 ֡\n",
      "1442 ֢\n",
      "1443 ֣\n",
      "1444 ֤\n",
      "1445 ֥\n",
      "1446 ֦\n",
      "1447 ֧\n",
      "1448 ֨\n",
      "1449 ֩\n",
      "1450 ֪\n",
      "1451 ֫\n",
      "1452 ֬\n",
      "1453 ֭\n",
      "1454 ֮\n",
      "1455 ֯\n",
      "1456 ְ\n",
      "1457 ֱ\n",
      "1458 ֲ\n",
      "1459 ֳ\n",
      "1460 ִ\n",
      "1461 ֵ\n",
      "1462 ֶ\n",
      "1463 ַ\n",
      "1464 ָ\n",
      "1465 ֹ\n",
      "1466 ֺ\n",
      "1467 ֻ\n",
      "1468 ּ\n",
      "1469 ֽ\n",
      "1470 ־\n",
      "1471 ֿ\n",
      "1472 ׀\n",
      "1473 ׁ\n",
      "1474 ׂ\n",
      "1475 ׃\n",
      "1476 ׄ\n",
      "1477 ׅ\n",
      "1478 ׆\n",
      "1479 ׇ\n",
      "1480 ׈\n",
      "1481 ׉\n",
      "1482 ׊\n",
      "1483 ׋\n",
      "1484 ׌\n",
      "1485 ׍\n",
      "1486 ׎\n",
      "1487 ׏\n",
      "1488 א\n",
      "1489 ב\n",
      "1490 ג\n",
      "1491 ד\n",
      "1492 ה\n",
      "1493 ו\n",
      "1494 ז\n",
      "1495 ח\n",
      "1496 ט\n",
      "1497 י\n",
      "1498 ך\n",
      "1499 כ\n",
      "1500 ל\n",
      "1501 ם\n",
      "1502 מ\n",
      "1503 ן\n",
      "1504 נ\n",
      "1505 ס\n",
      "1506 ע\n",
      "1507 ף\n",
      "1508 פ\n",
      "1509 ץ\n",
      "1510 צ\n",
      "1511 ק\n",
      "1512 ר\n",
      "1513 ש\n",
      "1514 ת\n",
      "1515 ׫\n",
      "1516 ׬\n",
      "1517 ׭\n",
      "1518 ׮\n",
      "1519 ׯ\n",
      "1520 װ\n",
      "1521 ױ\n",
      "1522 ײ\n",
      "1523 ׳\n",
      "1524 ״\n",
      "1525 ׵\n",
      "1526 ׶\n",
      "1527 ׷\n",
      "1528 ׸\n",
      "1529 ׹\n",
      "1530 ׺\n",
      "1531 ׻\n",
      "1532 ׼\n",
      "1533 ׽\n",
      "1534 ׾\n",
      "1535 ׿\n",
      "1536 ؀\n",
      "1537 ؁\n",
      "1538 ؂\n",
      "1539 ؃\n",
      "1540 ؄\n",
      "1541 ؅\n",
      "1542 ؆\n",
      "1543 ؇\n",
      "1544 ؈\n",
      "1545 ؉\n",
      "1546 ؊\n",
      "1547 ؋\n",
      "1548 ،\n",
      "1549 ؍\n",
      "1550 ؎\n",
      "1551 ؏\n",
      "1552 ؐ\n",
      "1553 ؑ\n",
      "1554 ؒ\n",
      "1555 ؓ\n",
      "1556 ؔ\n",
      "1557 ؕ\n",
      "1558 ؖ\n",
      "1559 ؗ\n",
      "1560 ؘ\n",
      "1561 ؙ\n",
      "1562 ؚ\n",
      "1563 ؛\n",
      "1564 ؜\n",
      "1565 ؝\n",
      "1566 ؞\n",
      "1567 ؟\n",
      "1568 ؠ\n",
      "1569 ء\n",
      "1570 آ\n",
      "1571 أ\n",
      "1572 ؤ\n",
      "1573 إ\n",
      "1574 ئ\n",
      "1575 ا\n",
      "1576 ب\n",
      "1577 ة\n",
      "1578 ت\n",
      "1579 ث\n",
      "1580 ج\n",
      "1581 ح\n",
      "1582 خ\n",
      "1583 د\n",
      "1584 ذ\n",
      "1585 ر\n",
      "1586 ز\n",
      "1587 س\n",
      "1588 ش\n",
      "1589 ص\n",
      "1590 ض\n",
      "1591 ط\n",
      "1592 ظ\n",
      "1593 ع\n",
      "1594 غ\n",
      "1595 ػ\n",
      "1596 ؼ\n",
      "1597 ؽ\n",
      "1598 ؾ\n",
      "1599 ؿ\n",
      "1600 ـ\n",
      "1601 ف\n",
      "1602 ق\n",
      "1603 ك\n",
      "1604 ل\n",
      "1605 م\n",
      "1606 ن\n",
      "1607 ه\n",
      "1608 و\n",
      "1609 ى\n",
      "1610 ي\n",
      "1611 ً\n",
      "1612 ٌ\n",
      "1613 ٍ\n",
      "1614 َ\n",
      "1615 ُ\n",
      "1616 ِ\n",
      "1617 ّ\n",
      "1618 ْ\n",
      "1619 ٓ\n",
      "1620 ٔ\n",
      "1621 ٕ\n",
      "1622 ٖ\n",
      "1623 ٗ\n",
      "1624 ٘\n",
      "1625 ٙ\n",
      "1626 ٚ\n",
      "1627 ٛ\n",
      "1628 ٜ\n",
      "1629 ٝ\n",
      "1630 ٞ\n",
      "1631 ٟ\n",
      "1632 ٠\n",
      "1633 ١\n",
      "1634 ٢\n",
      "1635 ٣\n",
      "1636 ٤\n",
      "1637 ٥\n",
      "1638 ٦\n",
      "1639 ٧\n",
      "1640 ٨\n",
      "1641 ٩\n",
      "1642 ٪\n",
      "1643 ٫\n",
      "1644 ٬\n",
      "1645 ٭\n",
      "1646 ٮ\n",
      "1647 ٯ\n",
      "1648 ٰ\n",
      "1649 ٱ\n",
      "1650 ٲ\n",
      "1651 ٳ\n",
      "1652 ٴ\n",
      "1653 ٵ\n",
      "1654 ٶ\n",
      "1655 ٷ\n",
      "1656 ٸ\n",
      "1657 ٹ\n",
      "1658 ٺ\n",
      "1659 ٻ\n",
      "1660 ټ\n",
      "1661 ٽ\n",
      "1662 پ\n",
      "1663 ٿ\n",
      "1664 ڀ\n",
      "1665 ځ\n",
      "1666 ڂ\n",
      "1667 ڃ\n",
      "1668 ڄ\n",
      "1669 څ\n",
      "1670 چ\n",
      "1671 ڇ\n",
      "1672 ڈ\n",
      "1673 ډ\n",
      "1674 ڊ\n",
      "1675 ڋ\n",
      "1676 ڌ\n",
      "1677 ڍ\n",
      "1678 ڎ\n",
      "1679 ڏ\n",
      "1680 ڐ\n",
      "1681 ڑ\n",
      "1682 ڒ\n",
      "1683 ړ\n",
      "1684 ڔ\n",
      "1685 ڕ\n",
      "1686 ږ\n",
      "1687 ڗ\n",
      "1688 ژ\n",
      "1689 ڙ\n",
      "1690 ښ\n",
      "1691 ڛ\n",
      "1692 ڜ\n",
      "1693 ڝ\n",
      "1694 ڞ\n",
      "1695 ڟ\n",
      "1696 ڠ\n",
      "1697 ڡ\n",
      "1698 ڢ\n",
      "1699 ڣ\n",
      "1700 ڤ\n",
      "1701 ڥ\n",
      "1702 ڦ\n",
      "1703 ڧ\n",
      "1704 ڨ\n",
      "1705 ک\n",
      "1706 ڪ\n",
      "1707 ګ\n",
      "1708 ڬ\n",
      "1709 ڭ\n",
      "1710 ڮ\n",
      "1711 گ\n",
      "1712 ڰ\n",
      "1713 ڱ\n",
      "1714 ڲ\n",
      "1715 ڳ\n",
      "1716 ڴ\n",
      "1717 ڵ\n",
      "1718 ڶ\n",
      "1719 ڷ\n",
      "1720 ڸ\n",
      "1721 ڹ\n",
      "1722 ں\n",
      "1723 ڻ\n",
      "1724 ڼ\n",
      "1725 ڽ\n",
      "1726 ھ\n",
      "1727 ڿ\n",
      "1728 ۀ\n",
      "1729 ہ\n",
      "1730 ۂ\n",
      "1731 ۃ\n",
      "1732 ۄ\n",
      "1733 ۅ\n",
      "1734 ۆ\n",
      "1735 ۇ\n",
      "1736 ۈ\n",
      "1737 ۉ\n",
      "1738 ۊ\n",
      "1739 ۋ\n",
      "1740 ی\n",
      "1741 ۍ\n",
      "1742 ێ\n",
      "1743 ۏ\n",
      "1744 ې\n",
      "1745 ۑ\n",
      "1746 ے\n",
      "1747 ۓ\n",
      "1748 ۔\n",
      "1749 ە\n",
      "1750 ۖ\n",
      "1751 ۗ\n",
      "1752 ۘ\n",
      "1753 ۙ\n",
      "1754 ۚ\n",
      "1755 ۛ\n",
      "1756 ۜ\n",
      "1757 ۝\n",
      "1758 ۞\n",
      "1759 ۟\n",
      "1760 ۠\n",
      "1761 ۡ\n",
      "1762 ۢ\n",
      "1763 ۣ\n",
      "1764 ۤ\n",
      "1765 ۥ\n",
      "1766 ۦ\n",
      "1767 ۧ\n",
      "1768 ۨ\n",
      "1769 ۩\n",
      "1770 ۪\n",
      "1771 ۫\n",
      "1772 ۬\n",
      "1773 ۭ\n",
      "1774 ۮ\n",
      "1775 ۯ\n",
      "1776 ۰\n",
      "1777 ۱\n",
      "1778 ۲\n",
      "1779 ۳\n",
      "1780 ۴\n",
      "1781 ۵\n",
      "1782 ۶\n",
      "1783 ۷\n",
      "1784 ۸\n",
      "1785 ۹\n",
      "1786 ۺ\n",
      "1787 ۻ\n",
      "1788 ۼ\n",
      "1789 ۽\n",
      "1790 ۾\n",
      "1791 ۿ\n",
      "1792 ܀\n",
      "1793 ܁\n",
      "1794 ܂\n",
      "1795 ܃\n",
      "1796 ܄\n",
      "1797 ܅\n",
      "1798 ܆\n",
      "1799 ܇\n",
      "1800 ܈\n",
      "1801 ܉\n",
      "1802 ܊\n",
      "1803 ܋\n",
      "1804 ܌\n",
      "1805 ܍\n",
      "1806 ܎\n",
      "1807 ܏\n",
      "1808 ܐ\n",
      "1809 ܑ\n",
      "1810 ܒ\n",
      "1811 ܓ\n",
      "1812 ܔ\n",
      "1813 ܕ\n",
      "1814 ܖ\n",
      "1815 ܗ\n",
      "1816 ܘ\n",
      "1817 ܙ\n",
      "1818 ܚ\n",
      "1819 ܛ\n",
      "1820 ܜ\n",
      "1821 ܝ\n",
      "1822 ܞ\n",
      "1823 ܟ\n",
      "1824 ܠ\n",
      "1825 ܡ\n",
      "1826 ܢ\n",
      "1827 ܣ\n",
      "1828 ܤ\n",
      "1829 ܥ\n",
      "1830 ܦ\n",
      "1831 ܧ\n",
      "1832 ܨ\n",
      "1833 ܩ\n",
      "1834 ܪ\n",
      "1835 ܫ\n",
      "1836 ܬ\n",
      "1837 ܭ\n",
      "1838 ܮ\n",
      "1839 ܯ\n",
      "1840 ܰ\n",
      "1841 ܱ\n",
      "1842 ܲ\n",
      "1843 ܳ\n",
      "1844 ܴ\n",
      "1845 ܵ\n",
      "1846 ܶ\n",
      "1847 ܷ\n",
      "1848 ܸ\n",
      "1849 ܹ\n",
      "1850 ܺ\n",
      "1851 ܻ\n",
      "1852 ܼ\n",
      "1853 ܽ\n",
      "1854 ܾ\n",
      "1855 ܿ\n",
      "1856 ݀\n",
      "1857 ݁\n",
      "1858 ݂\n",
      "1859 ݃\n",
      "1860 ݄\n",
      "1861 ݅\n",
      "1862 ݆\n",
      "1863 ݇\n",
      "1864 ݈\n",
      "1865 ݉\n",
      "1866 ݊\n",
      "1867 ݋\n",
      "1868 ݌\n",
      "1869 ݍ\n",
      "1870 ݎ\n",
      "1871 ݏ\n",
      "1872 ݐ\n",
      "1873 ݑ\n",
      "1874 ݒ\n",
      "1875 ݓ\n",
      "1876 ݔ\n",
      "1877 ݕ\n",
      "1878 ݖ\n",
      "1879 ݗ\n",
      "1880 ݘ\n",
      "1881 ݙ\n",
      "1882 ݚ\n",
      "1883 ݛ\n",
      "1884 ݜ\n",
      "1885 ݝ\n",
      "1886 ݞ\n",
      "1887 ݟ\n",
      "1888 ݠ\n",
      "1889 ݡ\n",
      "1890 ݢ\n",
      "1891 ݣ\n",
      "1892 ݤ\n",
      "1893 ݥ\n",
      "1894 ݦ\n",
      "1895 ݧ\n",
      "1896 ݨ\n",
      "1897 ݩ\n",
      "1898 ݪ\n",
      "1899 ݫ\n",
      "1900 ݬ\n",
      "1901 ݭ\n",
      "1902 ݮ\n",
      "1903 ݯ\n",
      "1904 ݰ\n",
      "1905 ݱ\n",
      "1906 ݲ\n",
      "1907 ݳ\n",
      "1908 ݴ\n",
      "1909 ݵ\n",
      "1910 ݶ\n",
      "1911 ݷ\n",
      "1912 ݸ\n",
      "1913 ݹ\n",
      "1914 ݺ\n",
      "1915 ݻ\n",
      "1916 ݼ\n",
      "1917 ݽ\n",
      "1918 ݾ\n",
      "1919 ݿ\n",
      "1920 ހ\n",
      "1921 ށ\n",
      "1922 ނ\n",
      "1923 ރ\n",
      "1924 ބ\n",
      "1925 ޅ\n",
      "1926 ކ\n",
      "1927 އ\n",
      "1928 ވ\n",
      "1929 މ\n",
      "1930 ފ\n",
      "1931 ދ\n",
      "1932 ތ\n",
      "1933 ލ\n",
      "1934 ގ\n",
      "1935 ޏ\n",
      "1936 ސ\n",
      "1937 ޑ\n",
      "1938 ޒ\n",
      "1939 ޓ\n",
      "1940 ޔ\n",
      "1941 ޕ\n",
      "1942 ޖ\n",
      "1943 ޗ\n",
      "1944 ޘ\n",
      "1945 ޙ\n",
      "1946 ޚ\n",
      "1947 ޛ\n",
      "1948 ޜ\n",
      "1949 ޝ\n",
      "1950 ޞ\n",
      "1951 ޟ\n",
      "1952 ޠ\n",
      "1953 ޡ\n",
      "1954 ޢ\n"
     ]
    },
    {
     "name": "stdout",
     "output_type": "stream",
     "text": [
      "1955 ޣ\n",
      "1956 ޤ\n",
      "1957 ޥ\n",
      "1958 ަ\n",
      "1959 ާ\n",
      "1960 ި\n",
      "1961 ީ\n",
      "1962 ު\n",
      "1963 ޫ\n",
      "1964 ެ\n",
      "1965 ޭ\n",
      "1966 ޮ\n",
      "1967 ޯ\n",
      "1968 ް\n",
      "1969 ޱ\n",
      "1970 ޲\n",
      "1971 ޳\n",
      "1972 ޴\n",
      "1973 ޵\n",
      "1974 ޶\n",
      "1975 ޷\n",
      "1976 ޸\n",
      "1977 ޹\n",
      "1978 ޺\n",
      "1979 ޻\n",
      "1980 ޼\n",
      "1981 ޽\n",
      "1982 ޾\n",
      "1983 ޿\n",
      "1984 ߀\n",
      "1985 ߁\n",
      "1986 ߂\n",
      "1987 ߃\n",
      "1988 ߄\n",
      "1989 ߅\n",
      "1990 ߆\n",
      "1991 ߇\n",
      "1992 ߈\n",
      "1993 ߉\n",
      "1994 ߊ\n",
      "1995 ߋ\n",
      "1996 ߌ\n",
      "1997 ߍ\n",
      "1998 ߎ\n",
      "1999 ߏ\n"
     ]
    }
   ],
   "source": [
    "#we see extended list of characters with their values\n",
    "for i in range(2000):\n",
    "    print(i, chr(i))"
   ]
  },
  {
   "cell_type": "code",
   "execution_count": null,
   "metadata": {
    "collapsed": true
   },
   "outputs": [],
   "source": []
  }
 ],
 "metadata": {
  "kernelspec": {
   "display_name": "Python 3",
   "language": "python",
   "name": "python3"
  },
  "language_info": {
   "codemirror_mode": {
    "name": "ipython",
    "version": 3
   },
   "file_extension": ".py",
   "mimetype": "text/x-python",
   "name": "python",
   "nbconvert_exporter": "python",
   "pygments_lexer": "ipython3",
   "version": "3.6.1"
  }
 },
 "nbformat": 4,
 "nbformat_minor": 2
}
