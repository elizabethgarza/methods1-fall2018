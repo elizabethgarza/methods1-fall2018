{
 "cells": [
  {
   "cell_type": "code",
   "execution_count": 1,
   "metadata": {
    "collapsed": true
   },
   "outputs": [],
   "source": [
    "#what is a class\n",
    "class fridge:\n",
    "    def __init__(self):\n",
    "        self.number_of_items=0 #we can define a variable or an attribute of the class\n",
    "        \n",
    "\n",
    "our_fridge=fridge() #our_fridge is an instance of this class"
   ]
  },
  {
   "cell_type": "code",
   "execution_count": 2,
   "metadata": {},
   "outputs": [
    {
     "data": {
      "text/plain": [
       "0"
      ]
     },
     "execution_count": 2,
     "metadata": {},
     "output_type": "execute_result"
    }
   ],
   "source": [
    "our_fridge.number_of_items #and we can check the value of the class variables"
   ]
  },
  {
   "cell_type": "code",
   "execution_count": 3,
   "metadata": {
    "collapsed": true
   },
   "outputs": [],
   "source": [
    "class fridge:\n",
    "    def __init__(self): #initializing the class\n",
    "        self.number_of_items=0 \n",
    "    def add_item(self): # a method/function to increase the number of items in the class\n",
    "        self.number_of_items+=1\n",
    "        \n",
    "our_fridge=fridge() "
   ]
  },
  {
   "cell_type": "code",
   "execution_count": 4,
   "metadata": {},
   "outputs": [
    {
     "data": {
      "text/plain": [
       "0"
      ]
     },
     "execution_count": 4,
     "metadata": {},
     "output_type": "execute_result"
    }
   ],
   "source": [
    "our_fridge.number_of_items"
   ]
  },
  {
   "cell_type": "code",
   "execution_count": 5,
   "metadata": {
    "collapsed": true
   },
   "outputs": [],
   "source": [
    "our_fridge.add_item() #and this is how we call the class methods"
   ]
  },
  {
   "cell_type": "code",
   "execution_count": 6,
   "metadata": {},
   "outputs": [
    {
     "data": {
      "text/plain": [
       "1"
      ]
     },
     "execution_count": 6,
     "metadata": {},
     "output_type": "execute_result"
    }
   ],
   "source": [
    "our_fridge.number_of_items"
   ]
  },
  {
   "cell_type": "code",
   "execution_count": 7,
   "metadata": {},
   "outputs": [
    {
     "data": {
      "text/plain": [
       "'<__main__.fridge object at 0x109c22c88>'"
      ]
     },
     "execution_count": 7,
     "metadata": {},
     "output_type": "execute_result"
    }
   ],
   "source": [
    "repr(our_fridge) #this is the default representation function of a class instance"
   ]
  },
  {
   "cell_type": "code",
   "execution_count": 12,
   "metadata": {
    "collapsed": true
   },
   "outputs": [],
   "source": [
    "class fridge:\n",
    "    def __init__(self):\n",
    "        self.number_of_items=0\n",
    "    def add_item(self):\n",
    "        self.number_of_items+=1\n",
    "    def __repr__(self): #we are overloading the repr function to give us info about the current state of the class\n",
    "        return f\"this is a class of type fridge, we currently have {self.number_of_items} items\""
   ]
  },
  {
   "cell_type": "code",
   "execution_count": 13,
   "metadata": {
    "collapsed": true
   },
   "outputs": [],
   "source": [
    "our_fridge=fridge()"
   ]
  },
  {
   "cell_type": "code",
   "execution_count": 14,
   "metadata": {},
   "outputs": [
    {
     "data": {
      "text/plain": [
       "'this is a class of type fridge, we currently have 0 items'"
      ]
     },
     "execution_count": 14,
     "metadata": {},
     "output_type": "execute_result"
    }
   ],
   "source": [
    "repr(our_fridge) #run the repr"
   ]
  },
  {
   "cell_type": "code",
   "execution_count": 15,
   "metadata": {
    "collapsed": true
   },
   "outputs": [],
   "source": [
    "our_fridge.add_item()\n",
    "our_fridge.add_item()"
   ]
  },
  {
   "cell_type": "code",
   "execution_count": 16,
   "metadata": {},
   "outputs": [
    {
     "data": {
      "text/plain": [
       "'this is a class of type fridge, we currently have 2 items'"
      ]
     },
     "execution_count": 16,
     "metadata": {},
     "output_type": "execute_result"
    }
   ],
   "source": [
    "repr(our_fridge)"
   ]
  },
  {
   "cell_type": "code",
   "execution_count": 24,
   "metadata": {
    "collapsed": true
   },
   "outputs": [],
   "source": [
    "class fridge:\n",
    "    def __init__(self,model): #we can initialize the class with input parameters/arguments\n",
    "        #raise NotImplementedError\n",
    "        self.number_of_items=0\n",
    "        self.opened=False\n",
    "        self.model=model\n",
    "        \n",
    "    def open_fridge(self): #we can add other methods, such as open and close\n",
    "        self.opened=True\n",
    "    def close_fridge(self):\n",
    "        self.opened=False\n",
    "        \n",
    "    def add_item(self):\n",
    "        self.number_of_items+=1\n",
    "    def __repr__(self):\n",
    "        return f\"this is a class of type fridge model {self.model}, we currently have {self.number_of_items} items\""
   ]
  },
  {
   "cell_type": "code",
   "execution_count": 25,
   "metadata": {
    "collapsed": true
   },
   "outputs": [],
   "source": [
    "our_new_fridge=fridge(\"LG\") "
   ]
  },
  {
   "cell_type": "code",
   "execution_count": 20,
   "metadata": {},
   "outputs": [
    {
     "data": {
      "text/plain": [
       "'this is a class of type fridge model LG, we currently have 0 items'"
      ]
     },
     "execution_count": 20,
     "metadata": {},
     "output_type": "execute_result"
    }
   ],
   "source": [
    "repr(our_new_fridge)"
   ]
  },
  {
   "cell_type": "code",
   "execution_count": 26,
   "metadata": {
    "collapsed": true
   },
   "outputs": [],
   "source": [
    "#now working with text files\n",
    "file_open=open(\"test_file.txt\",\"w\") #we write a text file to the default directory\n",
    "file_open.write(\"I'm a little teapot\") #and add the content to the file\n",
    "file_open.close() #close the file\n"
   ]
  },
  {
   "cell_type": "code",
   "execution_count": 27,
   "metadata": {},
   "outputs": [
    {
     "name": "stdout",
     "output_type": "stream",
     "text": [
      "/Users/hmghaly\n"
     ]
    }
   ],
   "source": [
    "import os #using os (operating system) module\n",
    "print(os.getcwd()) #get the current working directory"
   ]
  },
  {
   "cell_type": "code",
   "execution_count": 28,
   "metadata": {
    "collapsed": true
   },
   "outputs": [],
   "source": [
    "file_open=open(\"/Users/hmghaly/Documents/teapot.txt\",\"w\") #we can specify the full path of the file\n",
    "file_open.write(\"I'm a little teapot\")\n",
    "file_open.close()\n"
   ]
  },
  {
   "cell_type": "code",
   "execution_count": 29,
   "metadata": {
    "collapsed": true
   },
   "outputs": [],
   "source": [
    "os.mkdir(\"/Users/hmghaly/Documents/prc\") #os allows us to make new directories"
   ]
  },
  {
   "cell_type": "code",
   "execution_count": 31,
   "metadata": {},
   "outputs": [
    {
     "name": "stdout",
     "output_type": "stream",
     "text": [
      "/Users/hmghaly/Documents/prc/LP1/cy\n"
     ]
    }
   ],
   "source": [
    "docs_dir=\"/Users/hmghaly/Documents\"\n",
    "prc_dir=os.path.join(docs_dir,\"prc\",\"LP1\",\"cy\") #and to join strings to create a path\n",
    "print(prc_dir)\n"
   ]
  },
  {
   "cell_type": "code",
   "execution_count": 33,
   "metadata": {
    "collapsed": true
   },
   "outputs": [],
   "source": [
    "os.makedirs(prc_dir) #we can use makedirs to create directories inside directories, recursively"
   ]
  },
  {
   "cell_type": "code",
   "execution_count": 34,
   "metadata": {},
   "outputs": [
    {
     "name": "stdout",
     "output_type": "stream",
     "text": [
      "/Users/hmghaly/Documents/prc/LP1/cy/my_file.txt\n"
     ]
    }
   ],
   "source": [
    "new_file_path=os.path.join(prc_dir,\"my_file.txt\")\n",
    "print(new_file_path)\n"
   ]
  },
  {
   "cell_type": "code",
   "execution_count": 37,
   "metadata": {
    "collapsed": true
   },
   "outputs": [],
   "source": [
    "file_open=open(new_file_path,\"w\") #and put this file in the new path\n",
    "file_open.write(\"I'm a little teapot\")\n",
    "file_open.close()"
   ]
  },
  {
   "cell_type": "code",
   "execution_count": 36,
   "metadata": {
    "collapsed": true
   },
   "outputs": [],
   "source": [
    "os.remove(new_file_path) #and we can remove the file using os.remove()"
   ]
  },
  {
   "cell_type": "code",
   "execution_count": 39,
   "metadata": {},
   "outputs": [
    {
     "name": "stdout",
     "output_type": "stream",
     "text": [
      "Chinanski, Henry\n",
      "Postal worker\n",
      "1959\n",
      "\n",
      "Comstock, Anthony\n",
      "Postal inspector\n",
      "1917\n",
      "\n",
      "Newman, Newman\n",
      "Postal worker\n",
      "1995\n",
      "\n",
      "Quill, Dan\n",
      "Postmaster\n",
      "1948\n",
      "\n",
      "Wilson, George\n",
      "Postal worker\n",
      "1951\n"
     ]
    }
   ],
   "source": [
    "new_file_path=os.path.join(prc_dir,\"new_file.txt\")\n",
    "\n",
    "file_open=open(new_file_path,\"r\") #and we can read files using \"r\" parameter\n",
    "content=file_open.read() #and we get the content by using the method .read()\n",
    "file_open.close()\n",
    "print(content)"
   ]
  },
  {
   "cell_type": "code",
   "execution_count": 41,
   "metadata": {},
   "outputs": [
    {
     "name": "stdout",
     "output_type": "stream",
     "text": [
      "['Chinanski, Henry\\n']\n",
      "---\n",
      "['Postal worker\\n']\n",
      "---\n",
      "['1959\\n']\n",
      "---\n",
      "['\\n']\n",
      "---\n",
      "['Comstock, Anthony\\n']\n",
      "---\n",
      "['Postal inspector\\n']\n",
      "---\n",
      "['1917\\n']\n",
      "---\n",
      "['\\n']\n",
      "---\n",
      "['Newman, Newman\\n']\n",
      "---\n",
      "['Postal worker\\n']\n",
      "---\n",
      "['1995\\n']\n",
      "---\n",
      "['\\n']\n",
      "---\n",
      "['Quill, Dan\\n']\n",
      "---\n",
      "['Postmaster\\n']\n",
      "---\n",
      "['1948\\n']\n",
      "---\n",
      "['\\n']\n",
      "---\n",
      "['Wilson, George\\n']\n",
      "---\n",
      "['Postal worker\\n']\n",
      "---\n",
      "['1951']\n",
      "---\n",
      "Chinanski, Henry\n",
      "Postal worker\n",
      "1959\n",
      "\n",
      "Comstock, Anthony\n",
      "Postal inspector\n",
      "1917\n",
      "\n",
      "Newman, Newman\n",
      "Postal worker\n",
      "1995\n",
      "\n",
      "Quill, Dan\n",
      "Postmaster\n",
      "1948\n",
      "\n",
      "Wilson, George\n",
      "Postal worker\n",
      "1951\n"
     ]
    }
   ],
   "source": [
    "new_file_path=os.path.join(prc_dir,\"new_file.txt\")\n",
    "\n",
    "file_open=open(new_file_path,\"r\")\n",
    "#content=file_open.read()\n",
    "for f in file_open: #we can also iterate over the file, line by line\n",
    "    print([f])\n",
    "    print(\"---\")\n",
    "file_open.close()\n",
    "print(content)"
   ]
  },
  {
   "cell_type": "code",
   "execution_count": null,
   "metadata": {
    "collapsed": true
   },
   "outputs": [],
   "source": []
  }
 ],
 "metadata": {
  "kernelspec": {
   "display_name": "Python 3",
   "language": "python",
   "name": "python3"
  },
  "language_info": {
   "codemirror_mode": {
    "name": "ipython",
    "version": 3
   },
   "file_extension": ".py",
   "mimetype": "text/x-python",
   "name": "python",
   "nbconvert_exporter": "python",
   "pygments_lexer": "ipython3",
   "version": "3.6.1"
  }
 },
 "nbformat": 4,
 "nbformat_minor": 2
}
