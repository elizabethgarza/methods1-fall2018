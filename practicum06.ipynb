{
 "cells": [
  {
   "cell_type": "code",
   "execution_count": 1,
   "metadata": {
    "collapsed": true
   },
   "outputs": [],
   "source": [
    "#reviewing last part of the last homework\n",
    "import nltk"
   ]
  },
  {
   "cell_type": "code",
   "execution_count": 2,
   "metadata": {
    "collapsed": true
   },
   "outputs": [],
   "source": [
    "text = nltk.corpus.gutenberg.raw(\"carroll-alice.txt\")"
   ]
  },
  {
   "cell_type": "code",
   "execution_count": 3,
   "metadata": {},
   "outputs": [
    {
     "data": {
      "text/plain": [
       "\"[Alice's Adventures \""
      ]
     },
     "execution_count": 3,
     "metadata": {},
     "output_type": "execute_result"
    }
   ],
   "source": [
    "text[:20]"
   ]
  },
  {
   "cell_type": "code",
   "execution_count": 4,
   "metadata": {
    "collapsed": true
   },
   "outputs": [],
   "source": [
    "sentences=nltk.sent_tokenize(text)"
   ]
  },
  {
   "cell_type": "code",
   "execution_count": 5,
   "metadata": {},
   "outputs": [
    {
     "data": {
      "text/plain": [
       "1625"
      ]
     },
     "execution_count": 5,
     "metadata": {},
     "output_type": "execute_result"
    }
   ],
   "source": [
    "len(sentences)"
   ]
  },
  {
   "cell_type": "code",
   "execution_count": 6,
   "metadata": {},
   "outputs": [
    {
     "data": {
      "text/plain": [
       "'First, she tried to look down and make out what\\nshe was coming to, but it was too dark to see anything; then she\\nlooked at the sides of the well, and noticed that they were filled with\\ncupboards and book-shelves; here and there she saw maps and pictures\\nhung upon pegs.'"
      ]
     },
     "execution_count": 6,
     "metadata": {},
     "output_type": "execute_result"
    }
   ],
   "source": [
    "sentences[10]"
   ]
  },
  {
   "cell_type": "code",
   "execution_count": 7,
   "metadata": {
    "collapsed": true
   },
   "outputs": [],
   "source": [
    "words=nltk.word_tokenize(text)"
   ]
  },
  {
   "cell_type": "code",
   "execution_count": 8,
   "metadata": {},
   "outputs": [
    {
     "data": {
      "text/plain": [
       "33311"
      ]
     },
     "execution_count": 8,
     "metadata": {},
     "output_type": "execute_result"
    }
   ],
   "source": [
    "len(words)"
   ]
  },
  {
   "cell_type": "code",
   "execution_count": 9,
   "metadata": {
    "collapsed": true
   },
   "outputs": [],
   "source": [
    "from collections import Counter\n",
    "my_counter=Counter(words)"
   ]
  },
  {
   "cell_type": "code",
   "execution_count": 10,
   "metadata": {},
   "outputs": [
    {
     "data": {
      "text/plain": [
       "[(',', 2418),\n",
       " ('the', 1516),\n",
       " (\"'\", 1127),\n",
       " ('.', 975),\n",
       " ('and', 757),\n",
       " ('to', 717),\n",
       " ('a', 612),\n",
       " ('it', 512),\n",
       " ('she', 506),\n",
       " ('of', 496),\n",
       " ('said', 456),\n",
       " ('!', 450),\n",
       " ('Alice', 394),\n",
       " ('I', 364),\n",
       " ('was', 361),\n",
       " ('in', 352),\n",
       " ('you', 334),\n",
       " ('that', 267),\n",
       " ('--', 264),\n",
       " ('her', 243)]"
      ]
     },
     "execution_count": 10,
     "metadata": {},
     "output_type": "execute_result"
    }
   ],
   "source": [
    "#top 20 most common words\n",
    "my_counter.most_common(20)"
   ]
  },
  {
   "cell_type": "code",
   "execution_count": 11,
   "metadata": {},
   "outputs": [
    {
     "data": {
      "text/plain": [
       "[('said Alice.', 12),\n",
       " ('thought Alice.', 5),\n",
       " ('said the Caterpillar.', 4),\n",
       " ('Beau--ootiful Soo--oop!', 4),\n",
       " ('said the March Hare.', 3),\n",
       " ('said the King.', 3),\n",
       " ('Oh dear!', 2),\n",
       " ('Down, down, down.', 2),\n",
       " ('she thought.', 2),\n",
       " (\"'Not I!'\", 2),\n",
       " (\"'Here!\", 2),\n",
       " (\"'Who are YOU?'\", 2),\n",
       " (\"'Why?'\", 2),\n",
       " ('said Alice indignantly.', 2),\n",
       " ('CHORUS.', 2),\n",
       " ('wow!', 2),\n",
       " (\"wow!'\", 2),\n",
       " ('said the Cat.', 2),\n",
       " ('said the Hatter.', 2),\n",
       " (\"'Ah!\", 2)]"
      ]
     },
     "execution_count": 11,
     "metadata": {},
     "output_type": "execute_result"
    }
   ],
   "source": [
    "#top 20 most common sentences\n",
    "my_counter2=Counter(sentences)\n",
    "my_counter2.most_common(20)"
   ]
  },
  {
   "cell_type": "code",
   "execution_count": 17,
   "metadata": {
    "collapsed": true
   },
   "outputs": [],
   "source": [
    "#we can split each sentence separately and add the sentence words to the big list of words\n",
    "#using .extent()\n",
    "all_words=[]\n",
    "for s in sentences[:10]:\n",
    "    sent_words=nltk.word_tokenize(s)\n",
    "    #print(s)\n",
    "    #print(sent_words)\n",
    "    #print(\"----\")\n",
    "    all_words.extend(sent_words)\n",
    "    #all_words.append(sent_words)\n",
    "    "
   ]
  },
  {
   "cell_type": "code",
   "execution_count": 16,
   "metadata": {},
   "outputs": [
    {
     "data": {
      "text/plain": [
       "[['[',\n",
       "  'Alice',\n",
       "  \"'s\",\n",
       "  'Adventures',\n",
       "  'in',\n",
       "  'Wonderland',\n",
       "  'by',\n",
       "  'Lewis',\n",
       "  'Carroll',\n",
       "  '1865',\n",
       "  ']',\n",
       "  'CHAPTER',\n",
       "  'I',\n",
       "  '.'],\n",
       " ['Down',\n",
       "  'the',\n",
       "  'Rabbit-Hole',\n",
       "  'Alice',\n",
       "  'was',\n",
       "  'beginning',\n",
       "  'to',\n",
       "  'get',\n",
       "  'very',\n",
       "  'tired',\n",
       "  'of',\n",
       "  'sitting',\n",
       "  'by',\n",
       "  'her',\n",
       "  'sister',\n",
       "  'on',\n",
       "  'the',\n",
       "  'bank',\n",
       "  ',',\n",
       "  'and',\n",
       "  'of',\n",
       "  'having',\n",
       "  'nothing',\n",
       "  'to',\n",
       "  'do',\n",
       "  ':',\n",
       "  'once',\n",
       "  'or',\n",
       "  'twice',\n",
       "  'she',\n",
       "  'had',\n",
       "  'peeped',\n",
       "  'into',\n",
       "  'the',\n",
       "  'book',\n",
       "  'her',\n",
       "  'sister',\n",
       "  'was',\n",
       "  'reading',\n",
       "  ',',\n",
       "  'but',\n",
       "  'it',\n",
       "  'had',\n",
       "  'no',\n",
       "  'pictures',\n",
       "  'or',\n",
       "  'conversations',\n",
       "  'in',\n",
       "  'it',\n",
       "  ',',\n",
       "  \"'and\",\n",
       "  'what',\n",
       "  'is',\n",
       "  'the',\n",
       "  'use',\n",
       "  'of',\n",
       "  'a',\n",
       "  'book',\n",
       "  ',',\n",
       "  \"'\",\n",
       "  'thought',\n",
       "  'Alice',\n",
       "  \"'without\",\n",
       "  'pictures',\n",
       "  'or',\n",
       "  'conversation',\n",
       "  '?',\n",
       "  \"'\"],\n",
       " ['So',\n",
       "  'she',\n",
       "  'was',\n",
       "  'considering',\n",
       "  'in',\n",
       "  'her',\n",
       "  'own',\n",
       "  'mind',\n",
       "  '(',\n",
       "  'as',\n",
       "  'well',\n",
       "  'as',\n",
       "  'she',\n",
       "  'could',\n",
       "  ',',\n",
       "  'for',\n",
       "  'the',\n",
       "  'hot',\n",
       "  'day',\n",
       "  'made',\n",
       "  'her',\n",
       "  'feel',\n",
       "  'very',\n",
       "  'sleepy',\n",
       "  'and',\n",
       "  'stupid',\n",
       "  ')',\n",
       "  ',',\n",
       "  'whether',\n",
       "  'the',\n",
       "  'pleasure',\n",
       "  'of',\n",
       "  'making',\n",
       "  'a',\n",
       "  'daisy-chain',\n",
       "  'would',\n",
       "  'be',\n",
       "  'worth',\n",
       "  'the',\n",
       "  'trouble',\n",
       "  'of',\n",
       "  'getting',\n",
       "  'up',\n",
       "  'and',\n",
       "  'picking',\n",
       "  'the',\n",
       "  'daisies',\n",
       "  ',',\n",
       "  'when',\n",
       "  'suddenly',\n",
       "  'a',\n",
       "  'White',\n",
       "  'Rabbit',\n",
       "  'with',\n",
       "  'pink',\n",
       "  'eyes',\n",
       "  'ran',\n",
       "  'close',\n",
       "  'by',\n",
       "  'her',\n",
       "  '.'],\n",
       " ['There',\n",
       "  'was',\n",
       "  'nothing',\n",
       "  'so',\n",
       "  'VERY',\n",
       "  'remarkable',\n",
       "  'in',\n",
       "  'that',\n",
       "  ';',\n",
       "  'nor',\n",
       "  'did',\n",
       "  'Alice',\n",
       "  'think',\n",
       "  'it',\n",
       "  'so',\n",
       "  'VERY',\n",
       "  'much',\n",
       "  'out',\n",
       "  'of',\n",
       "  'the',\n",
       "  'way',\n",
       "  'to',\n",
       "  'hear',\n",
       "  'the',\n",
       "  'Rabbit',\n",
       "  'say',\n",
       "  'to',\n",
       "  'itself',\n",
       "  ',',\n",
       "  \"'Oh\",\n",
       "  'dear',\n",
       "  '!'],\n",
       " ['Oh', 'dear', '!'],\n",
       " ['I', 'shall', 'be', 'late', '!', \"'\"],\n",
       " ['(',\n",
       "  'when',\n",
       "  'she',\n",
       "  'thought',\n",
       "  'it',\n",
       "  'over',\n",
       "  'afterwards',\n",
       "  ',',\n",
       "  'it',\n",
       "  'occurred',\n",
       "  'to',\n",
       "  'her',\n",
       "  'that',\n",
       "  'she',\n",
       "  'ought',\n",
       "  'to',\n",
       "  'have',\n",
       "  'wondered',\n",
       "  'at',\n",
       "  'this',\n",
       "  ',',\n",
       "  'but',\n",
       "  'at',\n",
       "  'the',\n",
       "  'time',\n",
       "  'it',\n",
       "  'all',\n",
       "  'seemed',\n",
       "  'quite',\n",
       "  'natural',\n",
       "  ')',\n",
       "  ';',\n",
       "  'but',\n",
       "  'when',\n",
       "  'the',\n",
       "  'Rabbit',\n",
       "  'actually',\n",
       "  'TOOK',\n",
       "  'A',\n",
       "  'WATCH',\n",
       "  'OUT',\n",
       "  'OF',\n",
       "  'ITS',\n",
       "  'WAISTCOAT-POCKET',\n",
       "  ',',\n",
       "  'and',\n",
       "  'looked',\n",
       "  'at',\n",
       "  'it',\n",
       "  ',',\n",
       "  'and',\n",
       "  'then',\n",
       "  'hurried',\n",
       "  'on',\n",
       "  ',',\n",
       "  'Alice',\n",
       "  'started',\n",
       "  'to',\n",
       "  'her',\n",
       "  'feet',\n",
       "  ',',\n",
       "  'for',\n",
       "  'it',\n",
       "  'flashed',\n",
       "  'across',\n",
       "  'her',\n",
       "  'mind',\n",
       "  'that',\n",
       "  'she',\n",
       "  'had',\n",
       "  'never',\n",
       "  'before',\n",
       "  'seen',\n",
       "  'a',\n",
       "  'rabbit',\n",
       "  'with',\n",
       "  'either',\n",
       "  'a',\n",
       "  'waistcoat-pocket',\n",
       "  ',',\n",
       "  'or',\n",
       "  'a',\n",
       "  'watch',\n",
       "  'to',\n",
       "  'take',\n",
       "  'out',\n",
       "  'of',\n",
       "  'it',\n",
       "  ',',\n",
       "  'and',\n",
       "  'burning',\n",
       "  'with',\n",
       "  'curiosity',\n",
       "  ',',\n",
       "  'she',\n",
       "  'ran',\n",
       "  'across',\n",
       "  'the',\n",
       "  'field',\n",
       "  'after',\n",
       "  'it',\n",
       "  ',',\n",
       "  'and',\n",
       "  'fortunately',\n",
       "  'was',\n",
       "  'just',\n",
       "  'in',\n",
       "  'time',\n",
       "  'to',\n",
       "  'see',\n",
       "  'it',\n",
       "  'pop',\n",
       "  'down',\n",
       "  'a',\n",
       "  'large',\n",
       "  'rabbit-hole',\n",
       "  'under',\n",
       "  'the',\n",
       "  'hedge',\n",
       "  '.'],\n",
       " ['In',\n",
       "  'another',\n",
       "  'moment',\n",
       "  'down',\n",
       "  'went',\n",
       "  'Alice',\n",
       "  'after',\n",
       "  'it',\n",
       "  ',',\n",
       "  'never',\n",
       "  'once',\n",
       "  'considering',\n",
       "  'how',\n",
       "  'in',\n",
       "  'the',\n",
       "  'world',\n",
       "  'she',\n",
       "  'was',\n",
       "  'to',\n",
       "  'get',\n",
       "  'out',\n",
       "  'again',\n",
       "  '.'],\n",
       " ['The',\n",
       "  'rabbit-hole',\n",
       "  'went',\n",
       "  'straight',\n",
       "  'on',\n",
       "  'like',\n",
       "  'a',\n",
       "  'tunnel',\n",
       "  'for',\n",
       "  'some',\n",
       "  'way',\n",
       "  ',',\n",
       "  'and',\n",
       "  'then',\n",
       "  'dipped',\n",
       "  'suddenly',\n",
       "  'down',\n",
       "  ',',\n",
       "  'so',\n",
       "  'suddenly',\n",
       "  'that',\n",
       "  'Alice',\n",
       "  'had',\n",
       "  'not',\n",
       "  'a',\n",
       "  'moment',\n",
       "  'to',\n",
       "  'think',\n",
       "  'about',\n",
       "  'stopping',\n",
       "  'herself',\n",
       "  'before',\n",
       "  'she',\n",
       "  'found',\n",
       "  'herself',\n",
       "  'falling',\n",
       "  'down',\n",
       "  'a',\n",
       "  'very',\n",
       "  'deep',\n",
       "  'well',\n",
       "  '.'],\n",
       " ['Either',\n",
       "  'the',\n",
       "  'well',\n",
       "  'was',\n",
       "  'very',\n",
       "  'deep',\n",
       "  ',',\n",
       "  'or',\n",
       "  'she',\n",
       "  'fell',\n",
       "  'very',\n",
       "  'slowly',\n",
       "  ',',\n",
       "  'for',\n",
       "  'she',\n",
       "  'had',\n",
       "  'plenty',\n",
       "  'of',\n",
       "  'time',\n",
       "  'as',\n",
       "  'she',\n",
       "  'went',\n",
       "  'down',\n",
       "  'to',\n",
       "  'look',\n",
       "  'about',\n",
       "  'her',\n",
       "  'and',\n",
       "  'to',\n",
       "  'wonder',\n",
       "  'what',\n",
       "  'was',\n",
       "  'going',\n",
       "  'to',\n",
       "  'happen',\n",
       "  'next',\n",
       "  '.']]"
      ]
     },
     "execution_count": 16,
     "metadata": {},
     "output_type": "execute_result"
    }
   ],
   "source": [
    "all_words[:10]"
   ]
  },
  {
   "cell_type": "code",
   "execution_count": 22,
   "metadata": {
    "collapsed": true
   },
   "outputs": [],
   "source": [
    "#for a given text, write a function to count the number of words in the text\n",
    "text=\"here is my text, I want to count things fsd dfsdfsdf fsfdfsd\"\n",
    "text=\"here is my text. I want to count things! what do you think?\"\n",
    "def count_words(input_text):\n",
    "    words=nltk.word_tokenize(input_text)\n",
    "    output=len(words)\n",
    "    return output"
   ]
  },
  {
   "cell_type": "code",
   "execution_count": 23,
   "metadata": {},
   "outputs": [
    {
     "data": {
      "text/plain": [
       "13"
      ]
     },
     "execution_count": 23,
     "metadata": {},
     "output_type": "execute_result"
    }
   ],
   "source": [
    "count_words(text)"
   ]
  },
  {
   "cell_type": "code",
   "execution_count": 30,
   "metadata": {},
   "outputs": [
    {
     "data": {
      "text/plain": [
       "(64, 17, 4, 7)"
      ]
     },
     "execution_count": 30,
     "metadata": {},
     "output_type": "execute_result"
    }
   ],
   "source": [
    "#and another to return number of words, sentences, and other outputs\n",
    "text=\"here is my text. I want to count things! what do you think? eeee\"\n",
    "def count_words(input_text):\n",
    "    words=nltk.word_tokenize(input_text)\n",
    "    sents=nltk.sent_tokenize(input_text)\n",
    "    how_many_es=input_text.count(\"e\")\n",
    "    #output=len(words)\n",
    "    return len(input_text),len(words), len(sents), how_many_es\n",
    "\n",
    "count_words(text)"
   ]
  },
  {
   "cell_type": "code",
   "execution_count": 37,
   "metadata": {},
   "outputs": [
    {
     "name": "stdout",
     "output_type": "stream",
     "text": [
      "19\n",
      "4\n",
      "70\n",
      "here\n",
      "text\n",
      "believe\n"
     ]
    }
   ],
   "source": [
    "#alternatively, we can do this using classes\n",
    "class txt_class:\n",
    "    def __init__(self,input_text):\n",
    "        self.input_text=input_text\n",
    "        self.words=nltk.word_tokenize(input_text)\n",
    "        self.sents=nltk.sent_tokenize(input_text)\n",
    "        self.num_words=len(self.words)\n",
    "        self.num_sents=len(self.sents)\n",
    "        self.num_chars=len(input_text)\n",
    "    def words_with_e(self): #a method to print the words that have the letter \"e\"\n",
    "        for word in self.words:\n",
    "            if \"e\" in word: print(word)\n",
    "    def words_with(self,input_letter): #another method for printing words with a given letter\n",
    "        for word in self.words:\n",
    "            if \"e\" in word: print(word)\n",
    "\n",
    "                #cur_words_with_e=\n",
    "\n",
    "var_text=\"here is my text. I want to count things! what do you think? I believe!\"   #current text      \n",
    "txt_instance=txt_class(var_text) #defining an instance of the class\n",
    "        \n",
    "print(txt_instance.num_words)\n",
    "print(txt_instance.num_sents)\n",
    "print(txt_instance.num_chars)\n",
    "\n",
    "txt_instance.words_with_e() #run the method"
   ]
  },
  {
   "cell_type": "code",
   "execution_count": 41,
   "metadata": {
    "collapsed": true
   },
   "outputs": [],
   "source": [
    "class employee:\n",
    "    def __init__(cls,name,job,bith_date): #we can use cls instead of self\n",
    "        cls.name=name\n",
    "        cls.job=job\n",
    "        cls.bith_date=bith_date\n",
    "    def __repr__(cls):\n",
    "        return f\"{cls.name} - \""
   ]
  },
  {
   "cell_type": "code",
   "execution_count": 42,
   "metadata": {
    "collapsed": true
   },
   "outputs": [],
   "source": [
    "em1=employee(\"Adam\",\"Banker\",\"12-12-76\")"
   ]
  },
  {
   "cell_type": "code",
   "execution_count": 43,
   "metadata": {},
   "outputs": [
    {
     "data": {
      "text/plain": [
       "'Adam - '"
      ]
     },
     "execution_count": 43,
     "metadata": {},
     "output_type": "execute_result"
    }
   ],
   "source": [
    "repr(em1)"
   ]
  },
  {
   "cell_type": "code",
   "execution_count": 44,
   "metadata": {},
   "outputs": [
    {
     "data": {
      "text/plain": [
       "'/Users/hmghaly'"
      ]
     },
     "execution_count": 44,
     "metadata": {},
     "output_type": "execute_result"
    }
   ],
   "source": [
    "#working with files and directories\n",
    "import os\n",
    "os.getcwd() #get the current working directory"
   ]
  },
  {
   "cell_type": "code",
   "execution_count": 50,
   "metadata": {},
   "outputs": [
    {
     "name": "stdout",
     "output_type": "stream",
     "text": [
      "here is my text file. please work with it! and let’s see!\n"
     ]
    }
   ],
   "source": [
    "file_path=\"Downloads/test123.txt\" #we know where the file is\n",
    "#file_open=open(file_path,\"r\")\n",
    "file_open=open(file_path)\n",
    "content=file_open.read() #read content of the file\n",
    "file_open.close()\n",
    "print(content)\n"
   ]
  },
  {
   "cell_type": "code",
   "execution_count": 46,
   "metadata": {
    "collapsed": true
   },
   "outputs": [],
   "source": [
    "file_path=\"Downloads/test_new.txt\"\n",
    "file_open=open(file_path,\"w\") #we can use parameter \"w\" to open the file in write mode\n",
    "#content=file_open.read()\n",
    "file_open.write(\"some content that we add\")\n",
    "file_open.close()\n",
    "#print(content)\n"
   ]
  },
  {
   "cell_type": "code",
   "execution_count": 47,
   "metadata": {
    "collapsed": true
   },
   "outputs": [],
   "source": [
    "file_path=\"Downloads/test_new.txt\"\n",
    "file_open=open(file_path,\"a\") #we can open with \"a\" to append to the end of the file\n",
    "#content=file_open.read()\n",
    "file_open.write(\"---- and some additional content!!\")\n",
    "file_open.close()\n"
   ]
  },
  {
   "cell_type": "code",
   "execution_count": 48,
   "metadata": {
    "collapsed": true
   },
   "outputs": [],
   "source": [
    "file_path=\"Downloads/test_new123.txt\"\n",
    "file_open=open(file_path,\"a\") #if the file doesn't exist, \"a\" works as \"w\"\n",
    "#content=file_open.read()\n",
    "file_open.write(\"---- and some additional content!!\")\n",
    "file_open.close()\n"
   ]
  },
  {
   "cell_type": "code",
   "execution_count": null,
   "metadata": {
    "collapsed": true
   },
   "outputs": [],
   "source": []
  }
 ],
 "metadata": {
  "kernelspec": {
   "display_name": "Python 3",
   "language": "python",
   "name": "python3"
  },
  "language_info": {
   "codemirror_mode": {
    "name": "ipython",
    "version": 3
   },
   "file_extension": ".py",
   "mimetype": "text/x-python",
   "name": "python",
   "nbconvert_exporter": "python",
   "pygments_lexer": "ipython3",
   "version": "3.6.1"
  }
 },
 "nbformat": 4,
 "nbformat_minor": 2
}
