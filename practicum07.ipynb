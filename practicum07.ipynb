{
 "cells": [
  {
   "cell_type": "code",
   "execution_count": 1,
   "metadata": {
    "collapsed": true
   },
   "outputs": [],
   "source": [
    "korean = b\"\\xec\\x83\\x9d\\xec\\x95\\xa0 \\xeb\\x8f\\x99\\xec\\x95\\x88 \\xec\\xbc\\x80\\xed\\x94\\x8c\\xeb\\x9f\\xac\\xeb\\x8a\\x94 \\xec\\x98\\xa4\\xec\\x8a\\xa4\\xed\\x8a\\xb8\\xeb\\xa6\\xac\\xec\\x95\\x84 \\xea\\xb7\\xb8\\xeb\\x9d\\xbc\\xec\\xb8\\xa0 \\xec\\x8b\\xa0\\xed\\x95\\x99\\xea\\xb5\\x90\\xec\\x9d\\x98 \\xec\\x88\\x98\\xed\\x95\\x99 \\xec\\x84\\xa0\\xec\\x83\\x9d, \\xec\\xb2\\x9c\\xeb\\xac\\xb8\\xed\\x95\\x99\\xec\\x9e\\x90 \\xed\\x8a\\x80\\xec\\xbd\\x94 \\xeb\\xb8\\x8c\\xeb\\x9d\\xbc\\xed\\x97\\xa4\\xec\\x9d\\x98 \\xec\\xa1\\xb0\\xec\\x88\\x98, \\xeb\\xa3\\xa8\\xeb\\x8f\\x8c\\xed\\x94\\x84 2\\xec\\x84\\xb8, \\xeb\\xa7\\x88\\xed\\x8b\\xb0\\xec\\x95\\x84\\xec\\x8a\\xa4, \\xed\\x8e\\x98\\xeb\\xa5\\xb4\\xeb\\x94\\x94\\xeb\\x82\\x9c\\xed\\x8a\\xb8 2\\xec\\x84\\xb8 \\xeb\\x93\\xb1 \\xec\\x84\\xb8 \\xed\\x99\\xa9\\xec\\xa0\\x9c\\xeb\\xa5\\xbc \\xeb\\xaa\\xa8\\xec\\x8b\\xa0 \\xec\\x8b\\xa0\\xec\\x84\\xb1 \\xeb\\xa1\\x9c\\xeb\\xa7\\x88 \\xec\\xa0\\x9c\\xea\\xb5\\xad\\xec\\x9d\\x98 \\xec\\xa0\\x9c\\xea\\xb5\\xad \\xec\\x88\\x98\\xed\\x95\\x99\\xec\\x9e\\x90, \\xec\\x98\\xa4\\xec\\x8a\\xa4\\xed\\x8a\\xb8\\xeb\\xa6\\xac\\xec\\x95\\x84 \\xeb\\xa6\\xb0\\xec\\xb8\\xa0\\xec\\x97\\x90\\xec\\x84\\x9c\\xec\\x9d\\x98 \\xec\\x88\\x98\\xed\\x95\\x99 \\xec\\x84\\xa0\\xec\\x83\\x9d, \\xeb\\xb0\\x9c\\xeb\\xa0\\x8c\\xec\\x8a\\x88\\xed\\x83\\x80\\xec\\x9d\\xb8 \\xec\\x9e\\xa5\\xea\\xb5\\xb0\\xec\\x9d\\x98 \\xec\\xa0\\x90\\xec\\x84\\xb1\\xec\\x88\\xa0\\xec\\x82\\xac\\xeb\\x9d\\xbc\\xeb\\x8a\\x94 \\xeb\\x8b\\xa4\\xec\\x96\\x91\\xed\\x95\\x9c \\xea\\xb2\\xbd\\xeb\\xa0\\xa5\\xec\\x9d\\x98 \\xec\\x86\\x8c\\xec\\x9c\\xa0\\xec\\x9e\\x90\\xec\\x98\\x80\\xeb\\x8b\\xa4.\"\n",
    "armenian = b\"\\xd5\\x88\\xd5\\xb2\\xd5\\xb6\\xd5\\xa1\\xd5\\xb7\\xd5\\xa1\\xd6\\x80\\xd5\\xa1\\xd5\\xbe\\xd5\\xb8\\xd6\\x80 \\xd5\\xaf\\xd5\\xa5\\xd5\\xb6\\xd5\\xa4\\xd5\\xa1\\xd5\\xb6\\xd5\\xab\\xd5\\xb6\\xd5\\xa5\\xd6\\x80\\xd5\\xab \\xd5\\xb4\\xd5\\xa5\\xd5\\xae\\xd5\\xa1\\xd5\\xb4\\xd5\\xa1\\xd5\\xbd\\xd5\\xb6\\xd5\\xb8\\xd6\\x82\\xd5\\xa9\\xd5\\xb5\\xd5\\xa1\\xd5\\xb6 \\xd5\\xb7\\xd5\\xb6\\xd5\\xb9\\xd5\\xa1\\xd5\\xbc\\xd5\\xb8\\xd6\\x82\\xd5\\xa9\\xd5\\xb5\\xd5\\xb8\\xd6\\x82\\xd5\\xb6\\xd5\\xa8 \\xd5\\xaf\\xd5\\xa1\\xd5\\xbf\\xd5\\xa1\\xd6\\x80\\xd5\\xbe\\xd5\\xb8\\xd6\\x82\\xd5\\xb4 \\xd5\\xa7 \\xd5\\xa9\\xd5\\xb8\\xd6\\x84\\xd5\\xa5\\xd6\\x80\\xd5\\xab \\xd5\\xb4\\xd5\\xab\\xd5\\xbb\\xd5\\xb8\\xd6\\x81\\xd5\\xb8\\xd5\\xbe, \\xd5\\xaf\\xd5\\xa1\\xd5\\xa6\\xd5\\xb4\\xd5\\xa1\\xd5\\xae \\xd5\\xa7 \\xd5\\xb6\\xd5\\xa5\\xd6\\x80\\xd5\\xb7\\xd5\\xb6\\xd5\\xb9\\xd5\\xb4\\xd5\\xa1\\xd5\\xb6 \\xd6\\x87 \\xd5\\xa1\\xd6\\x80\\xd5\\xbf\\xd5\\xa1\\xd5\\xb7\\xd5\\xb6\\xd5\\xb9\\xd5\\xb4\\xd5\\xa1\\xd5\\xb6 \\xd5\\xb0\\xd5\\xa1\\xd5\\xbb\\xd5\\xb8\\xd6\\x80\\xd5\\xa4\\xd5\\xa1\\xd5\\xaf\\xd5\\xa1\\xd5\\xb6 \\xd6\\x83\\xd5\\xb8\\xd6\\x82\\xd5\\xac\\xd5\\xa5\\xd6\\x80\\xd5\\xab\\xd6\\x81, \\xd5\\xb8\\xd6\\x80\\xd5\\xb8\\xd5\\xb6\\xd6\\x84 \\xd5\\xaf\\xd5\\xa1\\xd5\\xbf\\xd5\\xa1\\xd6\\x80\\xd5\\xbe\\xd5\\xb8\\xd6\\x82\\xd5\\xb4 \\xd5\\xa5\\xd5\\xb6 \\xd6\\x84\\xd5\\xa9\\xd5\\xab \\xd5\\xad\\xd5\\xb8\\xd5\\xbc\\xd5\\xb8\\xd5\\xb9\\xd5\\xab\\xd6\\x81 \\xd5\\xb4\\xd5\\xab\\xd5\\xb6\\xd5\\xb9\\xd6\\x87 \\xd5\\xa1\\xd5\\xac\\xd5\\xbe\\xd5\\xa5\\xd5\\xb8\\xd5\\xac\\xd5\\xb6\\xd5\\xa5\\xd6\\x80 \\xd5\\xbf\\xd5\\xa5\\xd5\\xb2\\xd5\\xa1\\xd6\\x83\\xd5\\xb8\\xd5\\xad\\xd5\\xb8\\xd5\\xb2 \\xd5\\xad\\xd5\\xb8\\xd5\\xb2\\xd5\\xb8\\xd5\\xbe\\xd5\\xa1\\xd5\\xaf\\xd5\\xb6\\xd5\\xa5\\xd6\\x80\\xd5\\xab \\xd5\\xaf\\xd5\\xa1\\xd5\\xb4 \\xd6\\x85\\xd5\\xa4\\xd5\\xb8\\xd6\\x82\\xd5\\xb2\\xd5\\xab\\xd5\\xb6\\xd5\\xa5\\xd6\\x80\\xd5\\xab \\xd5\\xa2\\xd5\\xa1\\xd6\\x80\\xd5\\xb1\\xd6\\x80 \\xd5\\xb3\\xd5\\xb5\\xd5\\xb8\\xd6\\x82\\xd5\\xb2\\xd5\\xa1\\xd5\\xbe\\xd5\\xb8\\xd6\\x80\\xd5\\xbe\\xd5\\xa1\\xd5\\xae \\xd5\\xb0\\xd5\\xa1\\xd5\\xb4\\xd5\\xa1\\xd5\\xaf\\xd5\\xa1\\xd6\\x80\\xd5\\xa3\\xd5\\xab \\xd5\\xb4\\xd5\\xab\\xd5\\xbb\\xd5\\xb8\\xd6\\x81\\xd5\\xb8\\xd5\\xbe\\xd6\\x89\"\n",
    "kreyol = b\"Aim\\xe9 Cesaire se yon ekriven, pow\\xe8t, politisyen matinik\\xe8.\""
   ]
  },
  {
   "cell_type": "code",
   "execution_count": 7,
   "metadata": {},
   "outputs": [
    {
     "data": {
      "text/plain": [
       "97"
      ]
     },
     "execution_count": 7,
     "metadata": {},
     "output_type": "execute_result"
    }
   ],
   "source": [
    "#understanding that characters correspond to numbers\n",
    "ord(\"a\")"
   ]
  },
  {
   "cell_type": "code",
   "execution_count": 8,
   "metadata": {},
   "outputs": [
    {
     "data": {
      "text/plain": [
       "122"
      ]
     },
     "execution_count": 8,
     "metadata": {},
     "output_type": "execute_result"
    }
   ],
   "source": [
    "#ord() converts a character to the corresponding number\n",
    "ord(\"z\")"
   ]
  },
  {
   "cell_type": "code",
   "execution_count": 9,
   "metadata": {},
   "outputs": [
    {
     "data": {
      "text/plain": [
       "45"
      ]
     },
     "execution_count": 9,
     "metadata": {},
     "output_type": "execute_result"
    }
   ],
   "source": [
    "ord(\"-\")"
   ]
  },
  {
   "cell_type": "code",
   "execution_count": 10,
   "metadata": {},
   "outputs": [
    {
     "data": {
      "text/plain": [
       "'%'"
      ]
     },
     "execution_count": 10,
     "metadata": {},
     "output_type": "execute_result"
    }
   ],
   "source": [
    "#chr() converts a number to the corresponding character\n",
    "chr(37)"
   ]
  },
  {
   "cell_type": "code",
   "execution_count": 11,
   "metadata": {},
   "outputs": [
    {
     "data": {
      "text/plain": [
       "'a'"
      ]
     },
     "execution_count": 11,
     "metadata": {},
     "output_type": "execute_result"
    }
   ],
   "source": [
    "chr(97)"
   ]
  },
  {
   "cell_type": "code",
   "execution_count": 14,
   "metadata": {},
   "outputs": [
    {
     "name": "stdout",
     "output_type": "stream",
     "text": [
      "0 ['\\x00'] \u0000\n",
      "1 ['\\x01'] \u0001\n",
      "2 ['\\x02'] \u0002\n",
      "3 ['\\x03'] \u0003\n",
      "4 ['\\x04'] \u0004\n",
      "5 ['\\x05'] \u0005\n",
      "6 ['\\x06'] \u0006\n",
      "7 ['\\x07'] \u0007\n",
      "8 ['\\x08'] \b\n",
      "9 ['\\t'] \t\n",
      "10 ['\\n'] \n",
      "\n",
      "11 ['\\x0b'] \u000b",
      "\n",
      "12 ['\\x0c'] \f",
      "\n",
      "13 ['\\r'] \r\n",
      "14 ['\\x0e'] \u000e\n",
      "15 ['\\x0f'] \u000f\n",
      "16 ['\\x10'] \u0010\n",
      "17 ['\\x11'] \u0011\n",
      "18 ['\\x12'] \u0012\n",
      "19 ['\\x13'] \u0013\n",
      "20 ['\\x14'] \u0014\n",
      "21 ['\\x15'] \u0015\n",
      "22 ['\\x16'] \u0016\n",
      "23 ['\\x17'] \u0017\n",
      "24 ['\\x18'] \u0018\n",
      "25 ['\\x19'] \u0019\n",
      "26 ['\\x1a'] \u001a\n",
      "27 ['\\x1b'] \u001b\n",
      "28 ['\\x1c'] \u001c",
      "\n",
      "29 ['\\x1d'] \u001d",
      "\n",
      "30 ['\\x1e'] \u001e",
      "\n",
      "31 ['\\x1f'] \u001f\n",
      "32 [' ']  \n",
      "33 ['!'] !\n",
      "34 ['\"'] \"\n",
      "35 ['#'] #\n",
      "36 ['$'] $\n",
      "37 ['%'] %\n",
      "38 ['&'] &\n",
      "39 [\"'\"] '\n",
      "40 ['('] (\n",
      "41 [')'] )\n",
      "42 ['*'] *\n",
      "43 ['+'] +\n",
      "44 [','] ,\n",
      "45 ['-'] -\n",
      "46 ['.'] .\n",
      "47 ['/'] /\n",
      "48 ['0'] 0\n",
      "49 ['1'] 1\n",
      "50 ['2'] 2\n",
      "51 ['3'] 3\n",
      "52 ['4'] 4\n",
      "53 ['5'] 5\n",
      "54 ['6'] 6\n",
      "55 ['7'] 7\n",
      "56 ['8'] 8\n",
      "57 ['9'] 9\n",
      "58 [':'] :\n",
      "59 [';'] ;\n",
      "60 ['<'] <\n",
      "61 ['='] =\n",
      "62 ['>'] >\n",
      "63 ['?'] ?\n",
      "64 ['@'] @\n",
      "65 ['A'] A\n",
      "66 ['B'] B\n",
      "67 ['C'] C\n",
      "68 ['D'] D\n",
      "69 ['E'] E\n",
      "70 ['F'] F\n",
      "71 ['G'] G\n",
      "72 ['H'] H\n",
      "73 ['I'] I\n",
      "74 ['J'] J\n",
      "75 ['K'] K\n",
      "76 ['L'] L\n",
      "77 ['M'] M\n",
      "78 ['N'] N\n",
      "79 ['O'] O\n",
      "80 ['P'] P\n",
      "81 ['Q'] Q\n",
      "82 ['R'] R\n",
      "83 ['S'] S\n",
      "84 ['T'] T\n",
      "85 ['U'] U\n",
      "86 ['V'] V\n",
      "87 ['W'] W\n",
      "88 ['X'] X\n",
      "89 ['Y'] Y\n",
      "90 ['Z'] Z\n",
      "91 ['['] [\n",
      "92 ['\\\\'] \\\n",
      "93 [']'] ]\n",
      "94 ['^'] ^\n",
      "95 ['_'] _\n",
      "96 ['`'] `\n",
      "97 ['a'] a\n",
      "98 ['b'] b\n",
      "99 ['c'] c\n",
      "100 ['d'] d\n",
      "101 ['e'] e\n",
      "102 ['f'] f\n",
      "103 ['g'] g\n",
      "104 ['h'] h\n",
      "105 ['i'] i\n",
      "106 ['j'] j\n",
      "107 ['k'] k\n",
      "108 ['l'] l\n",
      "109 ['m'] m\n",
      "110 ['n'] n\n",
      "111 ['o'] o\n",
      "112 ['p'] p\n",
      "113 ['q'] q\n",
      "114 ['r'] r\n",
      "115 ['s'] s\n",
      "116 ['t'] t\n",
      "117 ['u'] u\n",
      "118 ['v'] v\n",
      "119 ['w'] w\n",
      "120 ['x'] x\n",
      "121 ['y'] y\n",
      "122 ['z'] z\n",
      "123 ['{'] {\n",
      "124 ['|'] |\n",
      "125 ['}'] }\n",
      "126 ['~'] ~\n",
      "127 ['\\x7f'] \n",
      "128 ['\\x80'] \n",
      "129 ['\\x81'] \n",
      "130 ['\\x82'] \n",
      "131 ['\\x83'] \n",
      "132 ['\\x84'] \n",
      "133 ['\\x85'] ",
      "\n",
      "134 ['\\x86'] \n",
      "135 ['\\x87'] \n",
      "136 ['\\x88'] \n",
      "137 ['\\x89'] \n",
      "138 ['\\x8a'] \n",
      "139 ['\\x8b'] \n",
      "140 ['\\x8c'] \n",
      "141 ['\\x8d'] \n",
      "142 ['\\x8e'] \n",
      "143 ['\\x8f'] \n",
      "144 ['\\x90'] \n",
      "145 ['\\x91'] \n",
      "146 ['\\x92'] \n",
      "147 ['\\x93'] \n",
      "148 ['\\x94'] \n",
      "149 ['\\x95'] \n"
     ]
    }
   ],
   "source": [
    "for i in range(150): #the first 150 characters\n",
    "    print(i,[chr(i)],chr(i))"
   ]
  },
  {
   "cell_type": "code",
   "execution_count": 15,
   "metadata": {},
   "outputs": [
    {
     "name": "stdout",
     "output_type": "stream",
     "text": [
      "ا 1575\n",
      "ل 1604\n",
      "س 1587\n",
      "ن 1606\n",
      "و 1608\n",
      "ا 1575\n",
      "ت 1578\n"
     ]
    }
   ],
   "source": [
    "#get the ascii value for each letter in words in different languages\n",
    "word=\"sound\"\n",
    "word=\"السنوات\"\n",
    "for char in word:\n",
    "    print(char,ord(char))\n"
   ]
  },
  {
   "cell_type": "code",
   "execution_count": 16,
   "metadata": {
    "collapsed": true
   },
   "outputs": [],
   "source": [
    "import unicodedata\n"
   ]
  },
  {
   "cell_type": "code",
   "execution_count": 17,
   "metadata": {},
   "outputs": [
    {
     "data": {
      "text/plain": [
       "['UCD',\n",
       " '__doc__',\n",
       " '__file__',\n",
       " '__loader__',\n",
       " '__name__',\n",
       " '__package__',\n",
       " '__spec__',\n",
       " 'bidirectional',\n",
       " 'category',\n",
       " 'combining',\n",
       " 'decimal',\n",
       " 'decomposition',\n",
       " 'digit',\n",
       " 'east_asian_width',\n",
       " 'lookup',\n",
       " 'mirrored',\n",
       " 'name',\n",
       " 'normalize',\n",
       " 'numeric',\n",
       " 'ucd_3_2_0',\n",
       " 'ucnhash_CAPI',\n",
       " 'unidata_version']"
      ]
     },
     "execution_count": 17,
     "metadata": {},
     "output_type": "execute_result"
    }
   ],
   "source": [
    "dir(unicodedata) #the different methods we can use with unicodedata library"
   ]
  },
  {
   "cell_type": "code",
   "execution_count": 18,
   "metadata": {},
   "outputs": [
    {
     "data": {
      "text/plain": [
       "'LATIN SMALL LETTER A'"
      ]
     },
     "execution_count": 18,
     "metadata": {},
     "output_type": "execute_result"
    }
   ],
   "source": [
    "unicodedata.name(\"a\") #we can get the name of the unicode character"
   ]
  },
  {
   "cell_type": "code",
   "execution_count": 20,
   "metadata": {},
   "outputs": [
    {
     "data": {
      "text/plain": [
       "'Ll'"
      ]
     },
     "execution_count": 20,
     "metadata": {},
     "output_type": "execute_result"
    }
   ],
   "source": [
    "unicodedata.category(\"a\") #and the category"
   ]
  },
  {
   "cell_type": "code",
   "execution_count": 22,
   "metadata": {},
   "outputs": [
    {
     "data": {
      "text/plain": [
       "'{'"
      ]
     },
     "execution_count": 22,
     "metadata": {},
     "output_type": "execute_result"
    }
   ],
   "source": [
    "unicodedata.lookup('LEFT CURLY BRACKET') #or we can lookup a certain character\n"
   ]
  },
  {
   "cell_type": "code",
   "execution_count": 24,
   "metadata": {},
   "outputs": [
    {
     "name": "stdout",
     "output_type": "stream",
     "text": [
      "ا 1575 ARABIC LETTER ALEF\n",
      "ل 1604 ARABIC LETTER LAM\n",
      "س 1587 ARABIC LETTER SEEN\n",
      "ن 1606 ARABIC LETTER NOON\n",
      "و 1608 ARABIC LETTER WAW\n",
      "ا 1575 ARABIC LETTER ALEF\n",
      "ت 1578 ARABIC LETTER TEH\n"
     ]
    }
   ],
   "source": [
    "#print ech character, the ord value, and the name of the character\n",
    "word=\"السنوات\"\n",
    "for char in word:\n",
    "    print(char,ord(char),unicodedata.name(char))\n"
   ]
  },
  {
   "cell_type": "code",
   "execution_count": 25,
   "metadata": {},
   "outputs": [
    {
     "name": "stdout",
     "output_type": "stream",
     "text": [
      "A LATIN CAPITAL LETTER A\n",
      "i LATIN SMALL LETTER I\n",
      "m LATIN SMALL LETTER M\n",
      "é LATIN SMALL LETTER E WITH ACUTE\n"
     ]
    }
   ],
   "source": [
    "fr_word=\"Aimé\"\n",
    "for f in fr_word:\n",
    "    print(f, unicodedata.name(f))"
   ]
  },
  {
   "cell_type": "code",
   "execution_count": 37,
   "metadata": {},
   "outputs": [
    {
     "data": {
      "text/plain": [
       "0"
      ]
     },
     "execution_count": 37,
     "metadata": {},
     "output_type": "execute_result"
    }
   ],
   "source": [
    "e_a=\"é\"\n",
    "unicodedata.combining(e_a)\n",
    "#chr(65)"
   ]
  },
  {
   "cell_type": "code",
   "execution_count": 29,
   "metadata": {},
   "outputs": [],
   "source": [
    "norm_e=unicodedata.normalize(\"NFD\",e_a) #we can normalize a character using different parameters"
   ]
  },
  {
   "cell_type": "code",
   "execution_count": 30,
   "metadata": {},
   "outputs": [
    {
     "data": {
      "text/plain": [
       "2"
      ]
     },
     "execution_count": 30,
     "metadata": {},
     "output_type": "execute_result"
    }
   ],
   "source": [
    "len(norm_e)"
   ]
  },
  {
   "cell_type": "code",
   "execution_count": 31,
   "metadata": {},
   "outputs": [
    {
     "name": "stdout",
     "output_type": "stream",
     "text": [
      "e\n",
      "́\n"
     ]
    }
   ],
   "source": [
    "for a in norm_e: #this é is made of 2 characters with this normalization\n",
    "    print(a)"
   ]
  },
  {
   "cell_type": "code",
   "execution_count": 32,
   "metadata": {},
   "outputs": [
    {
     "name": "stdout",
     "output_type": "stream",
     "text": [
      "e LATIN SMALL LETTER E\n",
      "́ COMBINING ACUTE ACCENT\n"
     ]
    }
   ],
   "source": [
    "for a in norm_e:\n",
    "    print(a,unicodedata.name(a)) #one is the letter e and the other is the accent"
   ]
  },
  {
   "cell_type": "code",
   "execution_count": 45,
   "metadata": {},
   "outputs": [
    {
     "name": "stdout",
     "output_type": "stream",
     "text": [
      "option: NFC length 1\n",
      "é LATIN SMALL LETTER E WITH ACUTE\n",
      "-----\n",
      "option: NFD length 2\n",
      "e LATIN SMALL LETTER E\n",
      "́ COMBINING ACUTE ACCENT\n",
      "-----\n",
      "option: NFKD length 2\n",
      "e LATIN SMALL LETTER E\n",
      "́ COMBINING ACUTE ACCENT\n",
      "-----\n",
      "option: NFKC length 1\n",
      "é LATIN SMALL LETTER E WITH ACUTE\n",
      "-----\n"
     ]
    }
   ],
   "source": [
    "our_char=\"é\"\n",
    "#our_char=\"أ\"\n",
    "options=[\"NFC\",\"NFD\",\"NFKD\",\"NFKC\"] #we try different parameters in normalizing\n",
    "for op in options:\n",
    "    norm_nf=unicodedata.normalize(op,our_char)\n",
    "    print(\"option:\",op, \"length\", len(norm_nf))\n",
    "    for a in norm_nf:\n",
    "        print(a,unicodedata.name(a))\n",
    "    print(\"-----\")\n"
   ]
  },
  {
   "cell_type": "code",
   "execution_count": 112,
   "metadata": {},
   "outputs": [
    {
     "name": "stdout",
     "output_type": "stream",
     "text": [
      "48000\n",
      "option: NFD length 3 charachter 뮀\n",
      "name HANGUL SYLLABLE MWESS\n",
      "ᄆ HANGUL CHOSEONG MIEUM\n",
      "ᅰ HANGUL JUNGSEONG WE\n",
      "ᆻ HANGUL JONGSEONG SSANGSIOS\n",
      "-----\n",
      "48001\n",
      "option: NFD length 3 charachter 뮁\n",
      "name HANGUL SYLLABLE MWENG\n",
      "ᄆ HANGUL CHOSEONG MIEUM\n",
      "ᅰ HANGUL JUNGSEONG WE\n",
      "ᆼ HANGUL JONGSEONG IEUNG\n",
      "-----\n",
      "48002\n",
      "option: NFD length 3 charachter 뮂\n",
      "name HANGUL SYLLABLE MWEJ\n",
      "ᄆ HANGUL CHOSEONG MIEUM\n",
      "ᅰ HANGUL JUNGSEONG WE\n",
      "ᆽ HANGUL JONGSEONG CIEUC\n",
      "-----\n",
      "48003\n",
      "option: NFD length 3 charachter 뮃\n",
      "name HANGUL SYLLABLE MWEC\n",
      "ᄆ HANGUL CHOSEONG MIEUM\n",
      "ᅰ HANGUL JUNGSEONG WE\n",
      "ᆾ HANGUL JONGSEONG CHIEUCH\n",
      "-----\n",
      "48004\n",
      "option: NFD length 3 charachter 뮄\n",
      "name HANGUL SYLLABLE MWEK\n",
      "ᄆ HANGUL CHOSEONG MIEUM\n",
      "ᅰ HANGUL JUNGSEONG WE\n",
      "ᆿ HANGUL JONGSEONG KHIEUKH\n",
      "-----\n",
      "48005\n",
      "option: NFD length 3 charachter 뮅\n",
      "name HANGUL SYLLABLE MWET\n",
      "ᄆ HANGUL CHOSEONG MIEUM\n",
      "ᅰ HANGUL JUNGSEONG WE\n",
      "ᇀ HANGUL JONGSEONG THIEUTH\n",
      "-----\n",
      "48006\n",
      "option: NFD length 3 charachter 뮆\n",
      "name HANGUL SYLLABLE MWEP\n",
      "ᄆ HANGUL CHOSEONG MIEUM\n",
      "ᅰ HANGUL JUNGSEONG WE\n",
      "ᇁ HANGUL JONGSEONG PHIEUPH\n",
      "-----\n",
      "48007\n",
      "option: NFD length 3 charachter 뮇\n",
      "name HANGUL SYLLABLE MWEH\n",
      "ᄆ HANGUL CHOSEONG MIEUM\n",
      "ᅰ HANGUL JUNGSEONG WE\n",
      "ᇂ HANGUL JONGSEONG HIEUH\n",
      "-----\n",
      "48008\n",
      "option: NFD length 2 charachter 뮈\n",
      "name HANGUL SYLLABLE MWI\n",
      "ᄆ HANGUL CHOSEONG MIEUM\n",
      "ᅱ HANGUL JUNGSEONG WI\n",
      "-----\n",
      "48009\n",
      "option: NFD length 3 charachter 뮉\n",
      "name HANGUL SYLLABLE MWIG\n",
      "ᄆ HANGUL CHOSEONG MIEUM\n",
      "ᅱ HANGUL JUNGSEONG WI\n",
      "ᆨ HANGUL JONGSEONG KIYEOK\n",
      "-----\n",
      "48010\n",
      "option: NFD length 3 charachter 뮊\n",
      "name HANGUL SYLLABLE MWIGG\n",
      "ᄆ HANGUL CHOSEONG MIEUM\n",
      "ᅱ HANGUL JUNGSEONG WI\n",
      "ᆩ HANGUL JONGSEONG SSANGKIYEOK\n",
      "-----\n",
      "48011\n",
      "option: NFD length 3 charachter 뮋\n",
      "name HANGUL SYLLABLE MWIGS\n",
      "ᄆ HANGUL CHOSEONG MIEUM\n",
      "ᅱ HANGUL JUNGSEONG WI\n",
      "ᆪ HANGUL JONGSEONG KIYEOK-SIOS\n",
      "-----\n",
      "48012\n",
      "option: NFD length 3 charachter 뮌\n",
      "name HANGUL SYLLABLE MWIN\n",
      "ᄆ HANGUL CHOSEONG MIEUM\n",
      "ᅱ HANGUL JUNGSEONG WI\n",
      "ᆫ HANGUL JONGSEONG NIEUN\n",
      "-----\n",
      "48013\n",
      "option: NFD length 3 charachter 뮍\n",
      "name HANGUL SYLLABLE MWINJ\n",
      "ᄆ HANGUL CHOSEONG MIEUM\n",
      "ᅱ HANGUL JUNGSEONG WI\n",
      "ᆬ HANGUL JONGSEONG NIEUN-CIEUC\n",
      "-----\n",
      "48014\n",
      "option: NFD length 3 charachter 뮎\n",
      "name HANGUL SYLLABLE MWINH\n",
      "ᄆ HANGUL CHOSEONG MIEUM\n",
      "ᅱ HANGUL JUNGSEONG WI\n",
      "ᆭ HANGUL JONGSEONG NIEUN-HIEUH\n",
      "-----\n",
      "48015\n",
      "option: NFD length 3 charachter 뮏\n",
      "name HANGUL SYLLABLE MWID\n",
      "ᄆ HANGUL CHOSEONG MIEUM\n",
      "ᅱ HANGUL JUNGSEONG WI\n",
      "ᆮ HANGUL JONGSEONG TIKEUT\n",
      "-----\n",
      "48016\n",
      "option: NFD length 3 charachter 뮐\n",
      "name HANGUL SYLLABLE MWIL\n",
      "ᄆ HANGUL CHOSEONG MIEUM\n",
      "ᅱ HANGUL JUNGSEONG WI\n",
      "ᆯ HANGUL JONGSEONG RIEUL\n",
      "-----\n",
      "48017\n",
      "option: NFD length 3 charachter 뮑\n",
      "name HANGUL SYLLABLE MWILG\n",
      "ᄆ HANGUL CHOSEONG MIEUM\n",
      "ᅱ HANGUL JUNGSEONG WI\n",
      "ᆰ HANGUL JONGSEONG RIEUL-KIYEOK\n",
      "-----\n",
      "48018\n",
      "option: NFD length 3 charachter 뮒\n",
      "name HANGUL SYLLABLE MWILM\n",
      "ᄆ HANGUL CHOSEONG MIEUM\n",
      "ᅱ HANGUL JUNGSEONG WI\n",
      "ᆱ HANGUL JONGSEONG RIEUL-MIEUM\n",
      "-----\n",
      "48019\n",
      "option: NFD length 3 charachter 뮓\n",
      "name HANGUL SYLLABLE MWILB\n",
      "ᄆ HANGUL CHOSEONG MIEUM\n",
      "ᅱ HANGUL JUNGSEONG WI\n",
      "ᆲ HANGUL JONGSEONG RIEUL-PIEUP\n",
      "-----\n",
      "48020\n",
      "option: NFD length 3 charachter 뮔\n",
      "name HANGUL SYLLABLE MWILS\n",
      "ᄆ HANGUL CHOSEONG MIEUM\n",
      "ᅱ HANGUL JUNGSEONG WI\n",
      "ᆳ HANGUL JONGSEONG RIEUL-SIOS\n",
      "-----\n",
      "48021\n",
      "option: NFD length 3 charachter 뮕\n",
      "name HANGUL SYLLABLE MWILT\n",
      "ᄆ HANGUL CHOSEONG MIEUM\n",
      "ᅱ HANGUL JUNGSEONG WI\n",
      "ᆴ HANGUL JONGSEONG RIEUL-THIEUTH\n",
      "-----\n",
      "48022\n",
      "option: NFD length 3 charachter 뮖\n",
      "name HANGUL SYLLABLE MWILP\n",
      "ᄆ HANGUL CHOSEONG MIEUM\n",
      "ᅱ HANGUL JUNGSEONG WI\n",
      "ᆵ HANGUL JONGSEONG RIEUL-PHIEUPH\n",
      "-----\n",
      "48023\n",
      "option: NFD length 3 charachter 뮗\n",
      "name HANGUL SYLLABLE MWILH\n",
      "ᄆ HANGUL CHOSEONG MIEUM\n",
      "ᅱ HANGUL JUNGSEONG WI\n",
      "ᆶ HANGUL JONGSEONG RIEUL-HIEUH\n",
      "-----\n",
      "48024\n",
      "option: NFD length 3 charachter 뮘\n",
      "name HANGUL SYLLABLE MWIM\n",
      "ᄆ HANGUL CHOSEONG MIEUM\n",
      "ᅱ HANGUL JUNGSEONG WI\n",
      "ᆷ HANGUL JONGSEONG MIEUM\n",
      "-----\n",
      "48025\n",
      "option: NFD length 3 charachter 뮙\n",
      "name HANGUL SYLLABLE MWIB\n",
      "ᄆ HANGUL CHOSEONG MIEUM\n",
      "ᅱ HANGUL JUNGSEONG WI\n",
      "ᆸ HANGUL JONGSEONG PIEUP\n",
      "-----\n",
      "48026\n",
      "option: NFD length 3 charachter 뮚\n",
      "name HANGUL SYLLABLE MWIBS\n",
      "ᄆ HANGUL CHOSEONG MIEUM\n",
      "ᅱ HANGUL JUNGSEONG WI\n",
      "ᆹ HANGUL JONGSEONG PIEUP-SIOS\n",
      "-----\n",
      "48027\n",
      "option: NFD length 3 charachter 뮛\n",
      "name HANGUL SYLLABLE MWIS\n",
      "ᄆ HANGUL CHOSEONG MIEUM\n",
      "ᅱ HANGUL JUNGSEONG WI\n",
      "ᆺ HANGUL JONGSEONG SIOS\n",
      "-----\n",
      "48028\n",
      "option: NFD length 3 charachter 뮜\n",
      "name HANGUL SYLLABLE MWISS\n",
      "ᄆ HANGUL CHOSEONG MIEUM\n",
      "ᅱ HANGUL JUNGSEONG WI\n",
      "ᆻ HANGUL JONGSEONG SSANGSIOS\n",
      "-----\n",
      "48029\n",
      "option: NFD length 3 charachter 뮝\n",
      "name HANGUL SYLLABLE MWING\n",
      "ᄆ HANGUL CHOSEONG MIEUM\n",
      "ᅱ HANGUL JUNGSEONG WI\n",
      "ᆼ HANGUL JONGSEONG IEUNG\n",
      "-----\n",
      "48030\n",
      "option: NFD length 3 charachter 뮞\n",
      "name HANGUL SYLLABLE MWIJ\n",
      "ᄆ HANGUL CHOSEONG MIEUM\n",
      "ᅱ HANGUL JUNGSEONG WI\n",
      "ᆽ HANGUL JONGSEONG CIEUC\n",
      "-----\n",
      "48031\n",
      "option: NFD length 3 charachter 뮟\n",
      "name HANGUL SYLLABLE MWIC\n",
      "ᄆ HANGUL CHOSEONG MIEUM\n",
      "ᅱ HANGUL JUNGSEONG WI\n",
      "ᆾ HANGUL JONGSEONG CHIEUCH\n",
      "-----\n",
      "48032\n",
      "option: NFD length 3 charachter 뮠\n",
      "name HANGUL SYLLABLE MWIK\n",
      "ᄆ HANGUL CHOSEONG MIEUM\n",
      "ᅱ HANGUL JUNGSEONG WI\n",
      "ᆿ HANGUL JONGSEONG KHIEUKH\n",
      "-----\n",
      "48033\n",
      "option: NFD length 3 charachter 뮡\n",
      "name HANGUL SYLLABLE MWIT\n",
      "ᄆ HANGUL CHOSEONG MIEUM\n",
      "ᅱ HANGUL JUNGSEONG WI\n",
      "ᇀ HANGUL JONGSEONG THIEUTH\n",
      "-----\n",
      "48034\n",
      "option: NFD length 3 charachter 뮢\n",
      "name HANGUL SYLLABLE MWIP\n",
      "ᄆ HANGUL CHOSEONG MIEUM\n",
      "ᅱ HANGUL JUNGSEONG WI\n",
      "ᇁ HANGUL JONGSEONG PHIEUPH\n",
      "-----\n",
      "48035\n",
      "option: NFD length 3 charachter 뮣\n",
      "name HANGUL SYLLABLE MWIH\n",
      "ᄆ HANGUL CHOSEONG MIEUM\n",
      "ᅱ HANGUL JUNGSEONG WI\n",
      "ᇂ HANGUL JONGSEONG HIEUH\n",
      "-----\n",
      "48036\n",
      "option: NFD length 2 charachter 뮤\n",
      "name HANGUL SYLLABLE MYU\n",
      "ᄆ HANGUL CHOSEONG MIEUM\n",
      "ᅲ HANGUL JUNGSEONG YU\n",
      "-----\n",
      "48037\n",
      "option: NFD length 3 charachter 뮥\n",
      "name HANGUL SYLLABLE MYUG\n",
      "ᄆ HANGUL CHOSEONG MIEUM\n",
      "ᅲ HANGUL JUNGSEONG YU\n",
      "ᆨ HANGUL JONGSEONG KIYEOK\n",
      "-----\n",
      "48038\n",
      "option: NFD length 3 charachter 뮦\n",
      "name HANGUL SYLLABLE MYUGG\n",
      "ᄆ HANGUL CHOSEONG MIEUM\n",
      "ᅲ HANGUL JUNGSEONG YU\n",
      "ᆩ HANGUL JONGSEONG SSANGKIYEOK\n",
      "-----\n",
      "48039\n",
      "option: NFD length 3 charachter 뮧\n",
      "name HANGUL SYLLABLE MYUGS\n",
      "ᄆ HANGUL CHOSEONG MIEUM\n",
      "ᅲ HANGUL JUNGSEONG YU\n",
      "ᆪ HANGUL JONGSEONG KIYEOK-SIOS\n",
      "-----\n",
      "48040\n",
      "option: NFD length 3 charachter 뮨\n",
      "name HANGUL SYLLABLE MYUN\n",
      "ᄆ HANGUL CHOSEONG MIEUM\n",
      "ᅲ HANGUL JUNGSEONG YU\n",
      "ᆫ HANGUL JONGSEONG NIEUN\n",
      "-----\n",
      "48041\n",
      "option: NFD length 3 charachter 뮩\n",
      "name HANGUL SYLLABLE MYUNJ\n",
      "ᄆ HANGUL CHOSEONG MIEUM\n",
      "ᅲ HANGUL JUNGSEONG YU\n",
      "ᆬ HANGUL JONGSEONG NIEUN-CIEUC\n",
      "-----\n",
      "48042\n",
      "option: NFD length 3 charachter 뮪\n",
      "name HANGUL SYLLABLE MYUNH\n",
      "ᄆ HANGUL CHOSEONG MIEUM\n",
      "ᅲ HANGUL JUNGSEONG YU\n",
      "ᆭ HANGUL JONGSEONG NIEUN-HIEUH\n",
      "-----\n",
      "48043\n",
      "option: NFD length 3 charachter 뮫\n",
      "name HANGUL SYLLABLE MYUD\n",
      "ᄆ HANGUL CHOSEONG MIEUM\n",
      "ᅲ HANGUL JUNGSEONG YU\n",
      "ᆮ HANGUL JONGSEONG TIKEUT\n",
      "-----\n",
      "48044\n",
      "option: NFD length 3 charachter 뮬\n",
      "name HANGUL SYLLABLE MYUL\n",
      "ᄆ HANGUL CHOSEONG MIEUM\n",
      "ᅲ HANGUL JUNGSEONG YU\n",
      "ᆯ HANGUL JONGSEONG RIEUL\n",
      "-----\n",
      "48045\n",
      "option: NFD length 3 charachter 뮭\n",
      "name HANGUL SYLLABLE MYULG\n",
      "ᄆ HANGUL CHOSEONG MIEUM\n",
      "ᅲ HANGUL JUNGSEONG YU\n",
      "ᆰ HANGUL JONGSEONG RIEUL-KIYEOK\n",
      "-----\n",
      "48046\n",
      "option: NFD length 3 charachter 뮮\n",
      "name HANGUL SYLLABLE MYULM\n",
      "ᄆ HANGUL CHOSEONG MIEUM\n",
      "ᅲ HANGUL JUNGSEONG YU\n",
      "ᆱ HANGUL JONGSEONG RIEUL-MIEUM\n",
      "-----\n",
      "48047\n",
      "option: NFD length 3 charachter 뮯\n",
      "name HANGUL SYLLABLE MYULB\n",
      "ᄆ HANGUL CHOSEONG MIEUM\n",
      "ᅲ HANGUL JUNGSEONG YU\n",
      "ᆲ HANGUL JONGSEONG RIEUL-PIEUP\n",
      "-----\n",
      "48048\n",
      "option: NFD length 3 charachter 뮰\n",
      "name HANGUL SYLLABLE MYULS\n",
      "ᄆ HANGUL CHOSEONG MIEUM\n",
      "ᅲ HANGUL JUNGSEONG YU\n",
      "ᆳ HANGUL JONGSEONG RIEUL-SIOS\n",
      "-----\n",
      "48049\n",
      "option: NFD length 3 charachter 뮱\n",
      "name HANGUL SYLLABLE MYULT\n",
      "ᄆ HANGUL CHOSEONG MIEUM\n",
      "ᅲ HANGUL JUNGSEONG YU\n",
      "ᆴ HANGUL JONGSEONG RIEUL-THIEUTH\n",
      "-----\n"
     ]
    }
   ],
   "source": [
    "#code for analyzing a range of characters, showing how they split, their names, etc\n",
    "for i in range(48000,48050): #korean range\n",
    "    print(i)\n",
    "    kr_char=chr(i)\n",
    "    options=[\"NFC\",\"NFD\",\"NFKD\",\"NFKC\"] #different normalization schemes\n",
    "    options=[\"NFD\"]\n",
    "    for op in options:\n",
    "        norm_nf=unicodedata.normalize(op,kr_char)\n",
    "        print(\"option:\",op, \"length\", len(norm_nf), \"charachter\", kr_char)\n",
    "        try: print(\"name\", unicodedata.name(kr_char))\n",
    "        except: print(\"name not found\")\n",
    "        for a in norm_nf: #show the splitting of characters\n",
    "            try: print(a,unicodedata.name(a))\n",
    "            except: print(\"name not found\")\n",
    "            \n",
    "        print(\"-----\")\n"
   ]
  },
  {
   "cell_type": "code",
   "execution_count": 60,
   "metadata": {},
   "outputs": [],
   "source": [
    "#we can write the bytes string into a file, when we open the file in \"wb\" (write binary) mode\n",
    "korean = b\"\\xec\\x83\\x9d\\xec\\x95\\xa0 \\xeb\\x8f\\x99\\xec\\x95\\x88 \\xec\\xbc\\x80\\xed\\x94\\x8c\\xeb\\x9f\\xac\\xeb\\x8a\\x94 \\xec\\x98\\xa4\\xec\\x8a\\xa4\\xed\\x8a\\xb8\\xeb\\xa6\\xac\\xec\\x95\\x84 \\xea\\xb7\\xb8\\xeb\\x9d\\xbc\\xec\\xb8\\xa0 \\xec\\x8b\\xa0\\xed\\x95\\x99\\xea\\xb5\\x90\\xec\\x9d\\x98 \\xec\\x88\\x98\\xed\\x95\\x99 \\xec\\x84\\xa0\\xec\\x83\\x9d, \\xec\\xb2\\x9c\\xeb\\xac\\xb8\\xed\\x95\\x99\\xec\\x9e\\x90 \\xed\\x8a\\x80\\xec\\xbd\\x94 \\xeb\\xb8\\x8c\\xeb\\x9d\\xbc\\xed\\x97\\xa4\\xec\\x9d\\x98 \\xec\\xa1\\xb0\\xec\\x88\\x98, \\xeb\\xa3\\xa8\\xeb\\x8f\\x8c\\xed\\x94\\x84 2\\xec\\x84\\xb8, \\xeb\\xa7\\x88\\xed\\x8b\\xb0\\xec\\x95\\x84\\xec\\x8a\\xa4, \\xed\\x8e\\x98\\xeb\\xa5\\xb4\\xeb\\x94\\x94\\xeb\\x82\\x9c\\xed\\x8a\\xb8 2\\xec\\x84\\xb8 \\xeb\\x93\\xb1 \\xec\\x84\\xb8 \\xed\\x99\\xa9\\xec\\xa0\\x9c\\xeb\\xa5\\xbc \\xeb\\xaa\\xa8\\xec\\x8b\\xa0 \\xec\\x8b\\xa0\\xec\\x84\\xb1 \\xeb\\xa1\\x9c\\xeb\\xa7\\x88 \\xec\\xa0\\x9c\\xea\\xb5\\xad\\xec\\x9d\\x98 \\xec\\xa0\\x9c\\xea\\xb5\\xad \\xec\\x88\\x98\\xed\\x95\\x99\\xec\\x9e\\x90, \\xec\\x98\\xa4\\xec\\x8a\\xa4\\xed\\x8a\\xb8\\xeb\\xa6\\xac\\xec\\x95\\x84 \\xeb\\xa6\\xb0\\xec\\xb8\\xa0\\xec\\x97\\x90\\xec\\x84\\x9c\\xec\\x9d\\x98 \\xec\\x88\\x98\\xed\\x95\\x99 \\xec\\x84\\xa0\\xec\\x83\\x9d, \\xeb\\xb0\\x9c\\xeb\\xa0\\x8c\\xec\\x8a\\x88\\xed\\x83\\x80\\xec\\x9d\\xb8 \\xec\\x9e\\xa5\\xea\\xb5\\xb0\\xec\\x9d\\x98 \\xec\\xa0\\x90\\xec\\x84\\xb1\\xec\\x88\\xa0\\xec\\x82\\xac\\xeb\\x9d\\xbc\\xeb\\x8a\\x94 \\xeb\\x8b\\xa4\\xec\\x96\\x91\\xed\\x95\\x9c \\xea\\xb2\\xbd\\xeb\\xa0\\xa5\\xec\\x9d\\x98 \\xec\\x86\\x8c\\xec\\x9c\\xa0\\xec\\x9e\\x90\\xec\\x98\\x80\\xeb\\x8b\\xa4.\"\n",
    "fopen=open(\"korean.txt\",\"wb\")\n",
    "fopen.write(korean)\n",
    "fopen.close()\n"
   ]
  },
  {
   "cell_type": "code",
   "execution_count": 61,
   "metadata": {
    "collapsed": true
   },
   "outputs": [],
   "source": [
    "fopen=open(\"korean.txt\",\"rb\") #when we open it like this, we get the binary/byte content of the file\n",
    "content=fopen.read()\n",
    "fopen.close()"
   ]
  },
  {
   "cell_type": "code",
   "execution_count": 62,
   "metadata": {},
   "outputs": [
    {
     "data": {
      "text/plain": [
       "b'\\xec\\x83\\x9d\\xec\\x95\\xa0 \\xeb\\x8f\\x99\\xec\\x95\\x88 \\xec\\xbc\\x80\\xed\\x94\\x8c\\xeb\\x9f\\xac\\xeb\\x8a\\x94 \\xec\\x98\\xa4\\xec\\x8a\\xa4\\xed\\x8a\\xb8\\xeb\\xa6\\xac\\xec\\x95\\x84 \\xea\\xb7\\xb8\\xeb\\x9d\\xbc\\xec\\xb8\\xa0 \\xec\\x8b\\xa0\\xed\\x95\\x99\\xea\\xb5\\x90\\xec\\x9d\\x98 \\xec\\x88\\x98\\xed\\x95\\x99 \\xec\\x84\\xa0\\xec\\x83\\x9d, \\xec\\xb2\\x9c\\xeb\\xac\\xb8\\xed\\x95\\x99\\xec\\x9e\\x90 \\xed\\x8a\\x80\\xec\\xbd\\x94 \\xeb\\xb8\\x8c\\xeb\\x9d\\xbc\\xed\\x97\\xa4\\xec\\x9d\\x98 \\xec\\xa1\\xb0\\xec\\x88\\x98, \\xeb\\xa3\\xa8\\xeb\\x8f\\x8c\\xed\\x94\\x84 2\\xec\\x84\\xb8, \\xeb\\xa7\\x88\\xed\\x8b\\xb0\\xec\\x95\\x84\\xec\\x8a\\xa4, \\xed\\x8e\\x98\\xeb\\xa5\\xb4\\xeb\\x94\\x94\\xeb\\x82\\x9c\\xed\\x8a\\xb8 2\\xec\\x84\\xb8 \\xeb\\x93\\xb1 \\xec\\x84\\xb8 \\xed\\x99\\xa9\\xec\\xa0\\x9c\\xeb\\xa5\\xbc \\xeb\\xaa\\xa8\\xec\\x8b\\xa0 \\xec\\x8b\\xa0\\xec\\x84\\xb1 \\xeb\\xa1\\x9c\\xeb\\xa7\\x88 \\xec\\xa0\\x9c\\xea\\xb5\\xad\\xec\\x9d\\x98 \\xec\\xa0\\x9c\\xea\\xb5\\xad \\xec\\x88\\x98\\xed\\x95\\x99\\xec\\x9e\\x90, \\xec\\x98\\xa4\\xec\\x8a\\xa4\\xed\\x8a\\xb8\\xeb\\xa6\\xac\\xec\\x95\\x84 \\xeb\\xa6\\xb0\\xec\\xb8\\xa0\\xec\\x97\\x90\\xec\\x84\\x9c\\xec\\x9d\\x98 \\xec\\x88\\x98\\xed\\x95\\x99 \\xec\\x84\\xa0\\xec\\x83\\x9d, \\xeb\\xb0\\x9c\\xeb\\xa0\\x8c\\xec\\x8a\\x88\\xed\\x83\\x80\\xec\\x9d\\xb8 \\xec\\x9e\\xa5\\xea\\xb5\\xb0\\xec\\x9d\\x98 \\xec\\xa0\\x90\\xec\\x84\\xb1\\xec\\x88\\xa0\\xec\\x82\\xac\\xeb\\x9d\\xbc\\xeb\\x8a\\x94 \\xeb\\x8b\\xa4\\xec\\x96\\x91\\xed\\x95\\x9c \\xea\\xb2\\xbd\\xeb\\xa0\\xa5\\xec\\x9d\\x98 \\xec\\x86\\x8c\\xec\\x9c\\xa0\\xec\\x9e\\x90\\xec\\x98\\x80\\xeb\\x8b\\xa4.'"
      ]
     },
     "execution_count": 62,
     "metadata": {},
     "output_type": "execute_result"
    }
   ],
   "source": [
    "content #binary content"
   ]
  },
  {
   "cell_type": "code",
   "execution_count": 63,
   "metadata": {
    "collapsed": true
   },
   "outputs": [],
   "source": [
    "import chardet"
   ]
  },
  {
   "cell_type": "code",
   "execution_count": 64,
   "metadata": {},
   "outputs": [
    {
     "data": {
      "text/plain": [
       "{'confidence': 0.99, 'encoding': 'utf-8', 'language': ''}"
      ]
     },
     "execution_count": 64,
     "metadata": {},
     "output_type": "execute_result"
    }
   ],
   "source": [
    "chardet.detect(content) #we can use chardet to detect the encoding of a bytes string"
   ]
  },
  {
   "cell_type": "code",
   "execution_count": 65,
   "metadata": {
    "collapsed": true
   },
   "outputs": [],
   "source": [
    "#once we know the encoding, we can use normal \"r\", with the correct encoding, to get the content in unicode\n",
    "fopen=open(\"korean.txt\",\"r\",encoding=\"utf-8\")\n",
    "content_new=fopen.read()\n",
    "fopen.close()"
   ]
  },
  {
   "cell_type": "code",
   "execution_count": 66,
   "metadata": {},
   "outputs": [
    {
     "data": {
      "text/plain": [
       "'생애 동안 케플러는 오스트리아 그라츠 신학교의 수학 선생, 천문학자 튀코 브라헤의 조수, 루돌프 2세, 마티아스, 페르디난트 2세 등 세 황제를 모신 신성 로마 제국의 제국 수학자, 오스트리아 린츠에서의 수학 선생, 발렌슈타인 장군의 점성술사라는 다양한 경력의 소유자였다.'"
      ]
     },
     "execution_count": 66,
     "metadata": {},
     "output_type": "execute_result"
    }
   ],
   "source": [
    "content_new"
   ]
  },
  {
   "cell_type": "code",
   "execution_count": 67,
   "metadata": {},
   "outputs": [
    {
     "data": {
      "text/plain": [
       "b'\\xec\\x83\\x9d\\xec\\x95\\xa0 \\xeb\\x8f\\x99\\xec\\x95\\x88 \\xec\\xbc\\x80\\xed\\x94\\x8c\\xeb\\x9f\\xac\\xeb\\x8a\\x94 \\xec\\x98\\xa4\\xec\\x8a\\xa4\\xed\\x8a\\xb8\\xeb\\xa6\\xac\\xec\\x95\\x84 \\xea\\xb7\\xb8\\xeb\\x9d\\xbc\\xec\\xb8\\xa0 \\xec\\x8b\\xa0\\xed\\x95\\x99\\xea\\xb5\\x90\\xec\\x9d\\x98 \\xec\\x88\\x98\\xed\\x95\\x99 \\xec\\x84\\xa0\\xec\\x83\\x9d, \\xec\\xb2\\x9c\\xeb\\xac\\xb8\\xed\\x95\\x99\\xec\\x9e\\x90 \\xed\\x8a\\x80\\xec\\xbd\\x94 \\xeb\\xb8\\x8c\\xeb\\x9d\\xbc\\xed\\x97\\xa4\\xec\\x9d\\x98 \\xec\\xa1\\xb0\\xec\\x88\\x98, \\xeb\\xa3\\xa8\\xeb\\x8f\\x8c\\xed\\x94\\x84 2\\xec\\x84\\xb8, \\xeb\\xa7\\x88\\xed\\x8b\\xb0\\xec\\x95\\x84\\xec\\x8a\\xa4, \\xed\\x8e\\x98\\xeb\\xa5\\xb4\\xeb\\x94\\x94\\xeb\\x82\\x9c\\xed\\x8a\\xb8 2\\xec\\x84\\xb8 \\xeb\\x93\\xb1 \\xec\\x84\\xb8 \\xed\\x99\\xa9\\xec\\xa0\\x9c\\xeb\\xa5\\xbc \\xeb\\xaa\\xa8\\xec\\x8b\\xa0 \\xec\\x8b\\xa0\\xec\\x84\\xb1 \\xeb\\xa1\\x9c\\xeb\\xa7\\x88 \\xec\\xa0\\x9c\\xea\\xb5\\xad\\xec\\x9d\\x98 \\xec\\xa0\\x9c\\xea\\xb5\\xad \\xec\\x88\\x98\\xed\\x95\\x99\\xec\\x9e\\x90, \\xec\\x98\\xa4\\xec\\x8a\\xa4\\xed\\x8a\\xb8\\xeb\\xa6\\xac\\xec\\x95\\x84 \\xeb\\xa6\\xb0\\xec\\xb8\\xa0\\xec\\x97\\x90\\xec\\x84\\x9c\\xec\\x9d\\x98 \\xec\\x88\\x98\\xed\\x95\\x99 \\xec\\x84\\xa0\\xec\\x83\\x9d, \\xeb\\xb0\\x9c\\xeb\\xa0\\x8c\\xec\\x8a\\x88\\xed\\x83\\x80\\xec\\x9d\\xb8 \\xec\\x9e\\xa5\\xea\\xb5\\xb0\\xec\\x9d\\x98 \\xec\\xa0\\x90\\xec\\x84\\xb1\\xec\\x88\\xa0\\xec\\x82\\xac\\xeb\\x9d\\xbc\\xeb\\x8a\\x94 \\xeb\\x8b\\xa4\\xec\\x96\\x91\\xed\\x95\\x9c \\xea\\xb2\\xbd\\xeb\\xa0\\xa5\\xec\\x9d\\x98 \\xec\\x86\\x8c\\xec\\x9c\\xa0\\xec\\x9e\\x90\\xec\\x98\\x80\\xeb\\x8b\\xa4.'"
      ]
     },
     "execution_count": 67,
     "metadata": {},
     "output_type": "execute_result"
    }
   ],
   "source": [
    "content"
   ]
  },
  {
   "cell_type": "code",
   "execution_count": 77,
   "metadata": {},
   "outputs": [
    {
     "name": "stdout",
     "output_type": "stream",
     "text": [
      "생애 동안 케플러는 오스트리아 그라츠 신학교의 수학 선생, 천문학자 튀코 브라헤의 조수, 루돌프 2세, 마티아스, 페르디난트 2세 등 세 황제를 모신 신성 로마 제국의 제국 수학자, 오스트리아 린츠에서의 수학 선생, 발렌슈타인 장군의 점성술사라는 다양한 경력의 소유자였다.\n",
      "b'\\xec\\x83\\x9d\\xec\\x95\\xa0 \\xeb\\x8f\\x99\\xec\\x95\\x88 \\xec\\xbc\\x80\\xed\\x94\\x8c\\xeb\\x9f\\xac\\xeb\\x8a\\x94 \\xec\\x98\\xa4\\xec\\x8a\\xa4\\xed\\x8a\\xb8\\xeb\\xa6\\xac\\xec\\x95\\x84 \\xea\\xb7\\xb8\\xeb\\x9d\\xbc\\xec\\xb8\\xa0 \\xec\\x8b\\xa0\\xed\\x95\\x99\\xea\\xb5\\x90\\xec\\x9d\\x98 \\xec\\x88\\x98\\xed\\x95\\x99 \\xec\\x84\\xa0\\xec\\x83\\x9d, \\xec\\xb2\\x9c\\xeb\\xac\\xb8\\xed\\x95\\x99\\xec\\x9e\\x90 \\xed\\x8a\\x80\\xec\\xbd\\x94 \\xeb\\xb8\\x8c\\xeb\\x9d\\xbc\\xed\\x97\\xa4\\xec\\x9d\\x98 \\xec\\xa1\\xb0\\xec\\x88\\x98, \\xeb\\xa3\\xa8\\xeb\\x8f\\x8c\\xed\\x94\\x84 2\\xec\\x84\\xb8, \\xeb\\xa7\\x88\\xed\\x8b\\xb0\\xec\\x95\\x84\\xec\\x8a\\xa4, \\xed\\x8e\\x98\\xeb\\xa5\\xb4\\xeb\\x94\\x94\\xeb\\x82\\x9c\\xed\\x8a\\xb8 2\\xec\\x84\\xb8 \\xeb\\x93\\xb1 \\xec\\x84\\xb8 \\xed\\x99\\xa9\\xec\\xa0\\x9c\\xeb\\xa5\\xbc \\xeb\\xaa\\xa8\\xec\\x8b\\xa0 \\xec\\x8b\\xa0\\xec\\x84\\xb1 \\xeb\\xa1\\x9c\\xeb\\xa7\\x88 \\xec\\xa0\\x9c\\xea\\xb5\\xad\\xec\\x9d\\x98 \\xec\\xa0\\x9c\\xea\\xb5\\xad \\xec\\x88\\x98\\xed\\x95\\x99\\xec\\x9e\\x90, \\xec\\x98\\xa4\\xec\\x8a\\xa4\\xed\\x8a\\xb8\\xeb\\xa6\\xac\\xec\\x95\\x84 \\xeb\\xa6\\xb0\\xec\\xb8\\xa0\\xec\\x97\\x90\\xec\\x84\\x9c\\xec\\x9d\\x98 \\xec\\x88\\x98\\xed\\x95\\x99 \\xec\\x84\\xa0\\xec\\x83\\x9d, \\xeb\\xb0\\x9c\\xeb\\xa0\\x8c\\xec\\x8a\\x88\\xed\\x83\\x80\\xec\\x9d\\xb8 \\xec\\x9e\\xa5\\xea\\xb5\\xb0\\xec\\x9d\\x98 \\xec\\xa0\\x90\\xec\\x84\\xb1\\xec\\x88\\xa0\\xec\\x82\\xac\\xeb\\x9d\\xbc\\xeb\\x8a\\x94 \\xeb\\x8b\\xa4\\xec\\x96\\x91\\xed\\x95\\x9c \\xea\\xb2\\xbd\\xeb\\xa0\\xa5\\xec\\x9d\\x98 \\xec\\x86\\x8c\\xec\\x9c\\xa0\\xec\\x9e\\x90\\xec\\x98\\x80\\xeb\\x8b\\xa4.'\n"
     ]
    }
   ],
   "source": [
    "#we can encode and decode back and forth\n",
    "korean_unicode=korean.decode(\"utf-8\")\n",
    "print(korean_unicode)\n",
    "korean_utf=korean_unicode.encode(\"utf-8\")\n",
    "print(korean_utf)\n",
    "\n",
    "\n",
    "\n",
    "\n",
    "#korean_utf=korean_unicode.encode(\"iso-8859-1\")\n",
    "#print(korean_utf)\n",
    "\n",
    "\n",
    "#fopen=open(\"korean-b.txt\",\"w\")\n",
    "#fopen.write(korean)\n",
    "#fopen.close()\n"
   ]
  },
  {
   "cell_type": "code",
   "execution_count": 78,
   "metadata": {},
   "outputs": [
    {
     "name": "stdout",
     "output_type": "stream",
     "text": [
      "ìì \n"
     ]
    }
   ],
   "source": [
    "like_bytes=\"\\xec\\x83\\x9d\\xec\\x95\\xa0\"\n",
    "print(like_bytes)\n"
   ]
  },
  {
   "cell_type": "code",
   "execution_count": 80,
   "metadata": {},
   "outputs": [],
   "source": [
    "#anything is written in Jupyter is treated as unicode, so we can encode it to \"utf-8\" or anything\n",
    "arabic=\"السلام\"\n",
    "arabic_utf=arabic.encode(\"utf-8\")\n"
   ]
  },
  {
   "cell_type": "code",
   "execution_count": 81,
   "metadata": {},
   "outputs": [
    {
     "data": {
      "text/plain": [
       "bytes"
      ]
     },
     "execution_count": 81,
     "metadata": {},
     "output_type": "execute_result"
    }
   ],
   "source": [
    "type(arabic_utf) #the encoded text is of type bytes"
   ]
  },
  {
   "cell_type": "code",
   "execution_count": 82,
   "metadata": {},
   "outputs": [
    {
     "data": {
      "text/plain": [
       "str"
      ]
     },
     "execution_count": 82,
     "metadata": {},
     "output_type": "execute_result"
    }
   ],
   "source": [
    "type(arabic) #the original text is of type string (str)"
   ]
  },
  {
   "cell_type": "code",
   "execution_count": 84,
   "metadata": {},
   "outputs": [
    {
     "data": {
      "text/plain": [
       "b'\\xd8\\xa7\\xd9\\x84\\xd8\\xb3\\xd9\\x84\\xd8\\xa7\\xd9\\x85'"
      ]
     },
     "execution_count": 84,
     "metadata": {},
     "output_type": "execute_result"
    }
   ],
   "source": [
    "bytes(\"السلام\",\"utf-8\") #and we can use bytes(text,\"utf-8\") instead of  text.encode(\"utf-8\")"
   ]
  },
  {
   "cell_type": "code",
   "execution_count": 85,
   "metadata": {},
   "outputs": [
    {
     "data": {
      "text/plain": [
       "6"
      ]
     },
     "execution_count": 85,
     "metadata": {},
     "output_type": "execute_result"
    }
   ],
   "source": [
    "len(arabic) #the length of the unicode string"
   ]
  },
  {
   "cell_type": "code",
   "execution_count": 86,
   "metadata": {},
   "outputs": [
    {
     "data": {
      "text/plain": [
       "12"
      ]
     },
     "execution_count": 86,
     "metadata": {},
     "output_type": "execute_result"
    }
   ],
   "source": [
    "len(arabic_utf) #the length of utf-8/bytes string"
   ]
  },
  {
   "cell_type": "code",
   "execution_count": 88,
   "metadata": {},
   "outputs": [
    {
     "name": "stdout",
     "output_type": "stream",
     "text": [
      "ا b'\\xd8\\xa7'\n",
      "ل b'\\xd9\\x84'\n",
      "س b'\\xd8\\xb3'\n",
      "ل b'\\xd9\\x84'\n",
      "ا b'\\xd8\\xa7'\n",
      "م b'\\xd9\\x85'\n"
     ]
    }
   ],
   "source": [
    "for ac in arabic:\n",
    "    print(ac,bytes(ac,\"utf-8\")) #we see that each arabic unicode character corresponds to 2 bytes"
   ]
  },
  {
   "cell_type": "code",
   "execution_count": 89,
   "metadata": {},
   "outputs": [
    {
     "data": {
      "text/plain": [
       "'السلام'"
      ]
     },
     "execution_count": 89,
     "metadata": {},
     "output_type": "execute_result"
    }
   ],
   "source": [
    "str(arabic_utf,\"utf-8\") #we can convert back to unicode using str()"
   ]
  },
  {
   "cell_type": "code",
   "execution_count": 92,
   "metadata": {},
   "outputs": [
    {
     "name": "stdout",
     "output_type": "stream",
     "text": [
      "뮀 b'\\xeb\\xae\\x80'\n",
      "뮁 b'\\xeb\\xae\\x81'\n",
      "뮂 b'\\xeb\\xae\\x82'\n",
      "뮃 b'\\xeb\\xae\\x83'\n",
      "뮄 b'\\xeb\\xae\\x84'\n",
      "뮅 b'\\xeb\\xae\\x85'\n",
      "뮆 b'\\xeb\\xae\\x86'\n",
      "뮇 b'\\xeb\\xae\\x87'\n",
      "뮈 b'\\xeb\\xae\\x88'\n",
      "뮉 b'\\xeb\\xae\\x89'\n",
      "뮊 b'\\xeb\\xae\\x8a'\n",
      "뮋 b'\\xeb\\xae\\x8b'\n",
      "뮌 b'\\xeb\\xae\\x8c'\n",
      "뮍 b'\\xeb\\xae\\x8d'\n",
      "뮎 b'\\xeb\\xae\\x8e'\n",
      "뮏 b'\\xeb\\xae\\x8f'\n",
      "뮐 b'\\xeb\\xae\\x90'\n",
      "뮑 b'\\xeb\\xae\\x91'\n",
      "뮒 b'\\xeb\\xae\\x92'\n",
      "뮓 b'\\xeb\\xae\\x93'\n",
      "뮔 b'\\xeb\\xae\\x94'\n",
      "뮕 b'\\xeb\\xae\\x95'\n",
      "뮖 b'\\xeb\\xae\\x96'\n",
      "뮗 b'\\xeb\\xae\\x97'\n",
      "뮘 b'\\xeb\\xae\\x98'\n",
      "뮙 b'\\xeb\\xae\\x99'\n",
      "뮚 b'\\xeb\\xae\\x9a'\n",
      "뮛 b'\\xeb\\xae\\x9b'\n",
      "뮜 b'\\xeb\\xae\\x9c'\n",
      "뮝 b'\\xeb\\xae\\x9d'\n",
      "뮞 b'\\xeb\\xae\\x9e'\n",
      "뮟 b'\\xeb\\xae\\x9f'\n",
      "뮠 b'\\xeb\\xae\\xa0'\n",
      "뮡 b'\\xeb\\xae\\xa1'\n",
      "뮢 b'\\xeb\\xae\\xa2'\n",
      "뮣 b'\\xeb\\xae\\xa3'\n",
      "뮤 b'\\xeb\\xae\\xa4'\n",
      "뮥 b'\\xeb\\xae\\xa5'\n",
      "뮦 b'\\xeb\\xae\\xa6'\n",
      "뮧 b'\\xeb\\xae\\xa7'\n",
      "뮨 b'\\xeb\\xae\\xa8'\n",
      "뮩 b'\\xeb\\xae\\xa9'\n",
      "뮪 b'\\xeb\\xae\\xaa'\n",
      "뮫 b'\\xeb\\xae\\xab'\n",
      "뮬 b'\\xeb\\xae\\xac'\n",
      "뮭 b'\\xeb\\xae\\xad'\n",
      "뮮 b'\\xeb\\xae\\xae'\n",
      "뮯 b'\\xeb\\xae\\xaf'\n",
      "뮰 b'\\xeb\\xae\\xb0'\n",
      "뮱 b'\\xeb\\xae\\xb1'\n"
     ]
    }
   ],
   "source": [
    "for i in range(48000,48050): #characters corrsponding to higher numbers can have 3 bytes\n",
    "    print(chr(i),bytes(chr(i),\"utf-8\")) "
   ]
  },
  {
   "cell_type": "code",
   "execution_count": 93,
   "metadata": {},
   "outputs": [
    {
     "data": {
      "text/plain": [
       "'aimé cesaire se yon ekriven, powèt, politisyen matinikè.'"
      ]
     },
     "execution_count": 93,
     "metadata": {},
     "output_type": "execute_result"
    }
   ],
   "source": [
    "fr=\"Aimé Cesaire se yon ekriven, powèt, politisyen matinikè.\"\n",
    "fr.lower() #lower case, we can use case folding"
   ]
  },
  {
   "cell_type": "code",
   "execution_count": 94,
   "metadata": {
    "collapsed": true
   },
   "outputs": [],
   "source": [
    "encoded=\"Aimé Cesaire se yon ekriven, powèt, politisyen matinikè.\".encode(\"iso-8859-1\") #change the condin"
   ]
  },
  {
   "cell_type": "code",
   "execution_count": 95,
   "metadata": {},
   "outputs": [
    {
     "data": {
      "text/plain": [
       "b'Aim\\xe9 Cesaire se yon ekriven, pow\\xe8t, politisyen matinik\\xe8.'"
      ]
     },
     "execution_count": 95,
     "metadata": {},
     "output_type": "execute_result"
    }
   ],
   "source": [
    "encoded"
   ]
  },
  {
   "cell_type": "code",
   "execution_count": 96,
   "metadata": {},
   "outputs": [
    {
     "data": {
      "text/plain": [
       "b'aim\\xe9 cesaire se yon ekriven, pow\\xe8t, politisyen matinik\\xe8.'"
      ]
     },
     "execution_count": 96,
     "metadata": {},
     "output_type": "execute_result"
    }
   ],
   "source": [
    "encoded.lower()"
   ]
  },
  {
   "cell_type": "code",
   "execution_count": 97,
   "metadata": {
    "collapsed": true
   },
   "outputs": [],
   "source": [
    "fopen=open(\"iso-test.txt\",\"wb\") #when we write the file this way, there will be encoding problems\n",
    "fopen.write(encoded)#because files are saved as UTF-8 by default, but the encoded was actually \"iso-8859-1\"\n",
    "fopen.close()\n"
   ]
  },
  {
   "cell_type": "code",
   "execution_count": 98,
   "metadata": {
    "collapsed": true
   },
   "outputs": [],
   "source": [
    "encoded_utf8=\"Aimé Cesaire se yon ekriven, powèt, politisyen matinikè.\".encode(\"utf-8\")"
   ]
  },
  {
   "cell_type": "code",
   "execution_count": 99,
   "metadata": {
    "collapsed": true
   },
   "outputs": [],
   "source": [
    "fopen=open(\"utf-test.txt\",\"wb\") \n",
    "fopen.write(encoded_utf8) #but it works well when we encode with \"utf-8\"\n",
    "fopen.close()"
   ]
  },
  {
   "cell_type": "code",
   "execution_count": 100,
   "metadata": {},
   "outputs": [
    {
     "data": {
      "text/plain": [
       "{'confidence': 0.73, 'encoding': 'ISO-8859-1', 'language': ''}"
      ]
     },
     "execution_count": 100,
     "metadata": {},
     "output_type": "execute_result"
    }
   ],
   "source": [
    "chardet.detect(encoded) #using chardet to detect the encoding"
   ]
  },
  {
   "cell_type": "code",
   "execution_count": 101,
   "metadata": {
    "collapsed": true
   },
   "outputs": [],
   "source": [
    "korean = b\"\\xec\\x83\\x9d\\xec\\x95\\xa0 \\xeb\\x8f\\x99\\xec\\x95\\x88 \\xec\\xbc\\x80\\xed\\x94\\x8c\\xeb\\x9f\\xac\\xeb\\x8a\\x94 \\xec\\x98\\xa4\\xec\\x8a\\xa4\\xed\\x8a\\xb8\\xeb\\xa6\\xac\\xec\\x95\\x84 \\xea\\xb7\\xb8\\xeb\\x9d\\xbc\\xec\\xb8\\xa0 \\xec\\x8b\\xa0\\xed\\x95\\x99\\xea\\xb5\\x90\\xec\\x9d\\x98 \\xec\\x88\\x98\\xed\\x95\\x99 \\xec\\x84\\xa0\\xec\\x83\\x9d, \\xec\\xb2\\x9c\\xeb\\xac\\xb8\\xed\\x95\\x99\\xec\\x9e\\x90 \\xed\\x8a\\x80\\xec\\xbd\\x94 \\xeb\\xb8\\x8c\\xeb\\x9d\\xbc\\xed\\x97\\xa4\\xec\\x9d\\x98 \\xec\\xa1\\xb0\\xec\\x88\\x98, \\xeb\\xa3\\xa8\\xeb\\x8f\\x8c\\xed\\x94\\x84 2\\xec\\x84\\xb8, \\xeb\\xa7\\x88\\xed\\x8b\\xb0\\xec\\x95\\x84\\xec\\x8a\\xa4, \\xed\\x8e\\x98\\xeb\\xa5\\xb4\\xeb\\x94\\x94\\xeb\\x82\\x9c\\xed\\x8a\\xb8 2\\xec\\x84\\xb8 \\xeb\\x93\\xb1 \\xec\\x84\\xb8 \\xed\\x99\\xa9\\xec\\xa0\\x9c\\xeb\\xa5\\xbc \\xeb\\xaa\\xa8\\xec\\x8b\\xa0 \\xec\\x8b\\xa0\\xec\\x84\\xb1 \\xeb\\xa1\\x9c\\xeb\\xa7\\x88 \\xec\\xa0\\x9c\\xea\\xb5\\xad\\xec\\x9d\\x98 \\xec\\xa0\\x9c\\xea\\xb5\\xad \\xec\\x88\\x98\\xed\\x95\\x99\\xec\\x9e\\x90, \\xec\\x98\\xa4\\xec\\x8a\\xa4\\xed\\x8a\\xb8\\xeb\\xa6\\xac\\xec\\x95\\x84 \\xeb\\xa6\\xb0\\xec\\xb8\\xa0\\xec\\x97\\x90\\xec\\x84\\x9c\\xec\\x9d\\x98 \\xec\\x88\\x98\\xed\\x95\\x99 \\xec\\x84\\xa0\\xec\\x83\\x9d, \\xeb\\xb0\\x9c\\xeb\\xa0\\x8c\\xec\\x8a\\x88\\xed\\x83\\x80\\xec\\x9d\\xb8 \\xec\\x9e\\xa5\\xea\\xb5\\xb0\\xec\\x9d\\x98 \\xec\\xa0\\x90\\xec\\x84\\xb1\\xec\\x88\\xa0\\xec\\x82\\xac\\xeb\\x9d\\xbc\\xeb\\x8a\\x94 \\xeb\\x8b\\xa4\\xec\\x96\\x91\\xed\\x95\\x9c \\xea\\xb2\\xbd\\xeb\\xa0\\xa5\\xec\\x9d\\x98 \\xec\\x86\\x8c\\xec\\x9c\\xa0\\xec\\x9e\\x90\\xec\\x98\\x80\\xeb\\x8b\\xa4.\"\n",
    "kkkk = b\"\\xd5\\x88\\xd5\\xb2\\xd5\\xb6\\xd5\\xa1\\xd5\\xb7\\xd5\\xa1\\xd6\\x80\\xd5\\xa1\\xd5\\xbe\\xd5\\xb8\\xd6\\x80 \\xd5\\xaf\\xd5\\xa5\\xd5\\xb6\\xd5\\xa4\\xd5\\xa1\\xd5\\xb6\\xd5\\xab\\xd5\\xb6\\xd5\\xa5\\xd6\\x80\\xd5\\xab \\xd5\\xb4\\xd5\\xa5\\xd5\\xae\\xd5\\xa1\\xd5\\xb4\\xd5\\xa1\\xd5\\xbd\\xd5\\xb6\\xd5\\xb8\\xd6\\x82\\xd5\\xa9\\xd5\\xb5\\xd5\\xa1\\xd5\\xb6 \\xd5\\xb7\\xd5\\xb6\\xd5\\xb9\\xd5\\xa1\\xd5\\xbc\\xd5\\xb8\\xd6\\x82\\xd5\\xa9\\xd5\\xb5\\xd5\\xb8\\xd6\\x82\\xd5\\xb6\\xd5\\xa8 \\xd5\\xaf\\xd5\\xa1\\xd5\\xbf\\xd5\\xa1\\xd6\\x80\\xd5\\xbe\\xd5\\xb8\\xd6\\x82\\xd5\\xb4 \\xd5\\xa7 \\xd5\\xa9\\xd5\\xb8\\xd6\\x84\\xd5\\xa5\\xd6\\x80\\xd5\\xab \\xd5\\xb4\\xd5\\xab\\xd5\\xbb\\xd5\\xb8\\xd6\\x81\\xd5\\xb8\\xd5\\xbe, \\xd5\\xaf\\xd5\\xa1\\xd5\\xa6\\xd5\\xb4\\xd5\\xa1\\xd5\\xae \\xd5\\xa7 \\xd5\\xb6\\xd5\\xa5\\xd6\\x80\\xd5\\xb7\\xd5\\xb6\\xd5\\xb9\\xd5\\xb4\\xd5\\xa1\\xd5\\xb6 \\xd6\\x87 \\xd5\\xa1\\xd6\\x80\\xd5\\xbf\\xd5\\xa1\\xd5\\xb7\\xd5\\xb6\\xd5\\xb9\\xd5\\xb4\\xd5\\xa1\\xd5\\xb6 \\xd5\\xb0\\xd5\\xa1\\xd5\\xbb\\xd5\\xb8\\xd6\\x80\\xd5\\xa4\\xd5\\xa1\\xd5\\xaf\\xd5\\xa1\\xd5\\xb6 \\xd6\\x83\\xd5\\xb8\\xd6\\x82\\xd5\\xac\\xd5\\xa5\\xd6\\x80\\xd5\\xab\\xd6\\x81, \\xd5\\xb8\\xd6\\x80\\xd5\\xb8\\xd5\\xb6\\xd6\\x84 \\xd5\\xaf\\xd5\\xa1\\xd5\\xbf\\xd5\\xa1\\xd6\\x80\\xd5\\xbe\\xd5\\xb8\\xd6\\x82\\xd5\\xb4 \\xd5\\xa5\\xd5\\xb6 \\xd6\\x84\\xd5\\xa9\\xd5\\xab \\xd5\\xad\\xd5\\xb8\\xd5\\xbc\\xd5\\xb8\\xd5\\xb9\\xd5\\xab\\xd6\\x81 \\xd5\\xb4\\xd5\\xab\\xd5\\xb6\\xd5\\xb9\\xd6\\x87 \\xd5\\xa1\\xd5\\xac\\xd5\\xbe\\xd5\\xa5\\xd5\\xb8\\xd5\\xac\\xd5\\xb6\\xd5\\xa5\\xd6\\x80 \\xd5\\xbf\\xd5\\xa5\\xd5\\xb2\\xd5\\xa1\\xd6\\x83\\xd5\\xb8\\xd5\\xad\\xd5\\xb8\\xd5\\xb2 \\xd5\\xad\\xd5\\xb8\\xd5\\xb2\\xd5\\xb8\\xd5\\xbe\\xd5\\xa1\\xd5\\xaf\\xd5\\xb6\\xd5\\xa5\\xd6\\x80\\xd5\\xab \\xd5\\xaf\\xd5\\xa1\\xd5\\xb4 \\xd6\\x85\\xd5\\xa4\\xd5\\xb8\\xd6\\x82\\xd5\\xb2\\xd5\\xab\\xd5\\xb6\\xd5\\xa5\\xd6\\x80\\xd5\\xab \\xd5\\xa2\\xd5\\xa1\\xd6\\x80\\xd5\\xb1\\xd6\\x80 \\xd5\\xb3\\xd5\\xb5\\xd5\\xb8\\xd6\\x82\\xd5\\xb2\\xd5\\xa1\\xd5\\xbe\\xd5\\xb8\\xd6\\x80\\xd5\\xbe\\xd5\\xa1\\xd5\\xae \\xd5\\xb0\\xd5\\xa1\\xd5\\xb4\\xd5\\xa1\\xd5\\xaf\\xd5\\xa1\\xd6\\x80\\xd5\\xa3\\xd5\\xab \\xd5\\xb4\\xd5\\xab\\xd5\\xbb\\xd5\\xb8\\xd6\\x81\\xd5\\xb8\\xd5\\xbe\\xd6\\x89\"\n",
    "kreyol = b\"Aim\\xe9 Cesaire se yon ekriven, pow\\xe8t, politisyen matinik\\xe8.\""
   ]
  },
  {
   "cell_type": "code",
   "execution_count": 102,
   "metadata": {},
   "outputs": [
    {
     "data": {
      "text/plain": [
       "{'confidence': 0.99, 'encoding': 'utf-8', 'language': ''}"
      ]
     },
     "execution_count": 102,
     "metadata": {},
     "output_type": "execute_result"
    }
   ],
   "source": [
    "chardet.detect(korean)"
   ]
  },
  {
   "cell_type": "code",
   "execution_count": 103,
   "metadata": {},
   "outputs": [
    {
     "data": {
      "text/plain": [
       "{'confidence': 0.99, 'encoding': 'utf-8', 'language': ''}"
      ]
     },
     "execution_count": 103,
     "metadata": {},
     "output_type": "execute_result"
    }
   ],
   "source": [
    "chardet.detect(armenian)"
   ]
  },
  {
   "cell_type": "code",
   "execution_count": 104,
   "metadata": {},
   "outputs": [
    {
     "data": {
      "text/plain": [
       "{'confidence': 0.73, 'encoding': 'ISO-8859-1', 'language': ''}"
      ]
     },
     "execution_count": 104,
     "metadata": {},
     "output_type": "execute_result"
    }
   ],
   "source": [
    "chardet.detect(kreyol)"
   ]
  },
  {
   "cell_type": "code",
   "execution_count": 105,
   "metadata": {
    "collapsed": true
   },
   "outputs": [],
   "source": [
    "ar_str=\"نعم\"\n",
    "ar_bytes=bytes(ar_str,\"utf-8\")"
   ]
  },
  {
   "cell_type": "code",
   "execution_count": 106,
   "metadata": {},
   "outputs": [
    {
     "data": {
      "text/plain": [
       "{'confidence': 0.87625, 'encoding': 'utf-8', 'language': ''}"
      ]
     },
     "execution_count": 106,
     "metadata": {},
     "output_type": "execute_result"
    }
   ],
   "source": [
    "kkkk = b\"\\xd5\\x88\\xd5\\xb2\\xd5\\xb6\\xd5\\xa1\\xd5\\xb7\\xd5\\xa1\\xd6\\x80\\xd5\\xa1\\xd5\\xbe\\xd5\\xb8\\xd6\\x80 \\xd5\\xaf\\xd5\\xa5\\xd5\\xb6\\xd5\\xa4\\xd5\\xa1\\xd5\\xb6\\xd5\\xab\\xd5\\xb6\\xd5\\xa5\\xd6\\x80\\xd5\\xab \\xd5\\xb4\\xd5\\xa5\\xd5\\xae\\xd5\\xa1\\xd5\\xb4\\xd5\\xa1\\xd5\\xbd\\xd5\\xb6\\xd5\\xb8\\xd6\\x82\\xd5\\xa9\\xd5\\xb5\\xd5\\xa1\\xd5\\xb6 \\xd5\\xb7\\xd5\\xb6\\xd5\\xb9\\xd5\\xa1\\xd5\\xbc\\xd5\\xb8\\xd6\\x82\\xd5\\xa9\\xd5\\xb5\\xd5\\xb8\\xd6\\x82\\xd5\\xb6\\xd5\\xa8 \\xd5\\xaf\\xd5\\xa1\\xd5\\xbf\\xd5\\xa1\\xd6\\x80\\xd5\\xbe\\xd5\\xb8\\xd6\\x82\\xd5\\xb4 \\xd5\\xa7 \\xd5\\xa9\\xd5\\xb8\\xd6\\x84\\xd5\\xa5\\xd6\\x80\\xd5\\xab \\xd5\\xb4\\xd5\\xab\\xd5\\xbb\\xd5\\xb8\\xd6\\x81\\xd5\\xb8\\xd5\\xbe, \\xd5\\xaf\\xd5\\xa1\\xd5\\xa6\\xd5\\xb4\\xd5\\xa1\\xd5\\xae \\xd5\\xa7 \\xd5\\xb6\\xd5\\xa5\\xd6\\x80\\xd5\\xb7\\xd5\\xb6\\xd5\\xb9\\xd5\\xb4\\xd5\\xa1\\xd5\\xb6 \\xd6\\x87 \\xd5\\xa1\\xd6\\x80\\xd5\\xbf\\xd5\\xa1\\xd5\\xb7\\xd5\\xb6\\xd5\\xb9\\xd5\\xb4\\xd5\\xa1\\xd5\\xb6 \\xd5\\xb0\\xd5\\xa1\\xd5\\xbb\\xd5\\xb8\\xd6\\x80\\xd5\\xa4\\xd5\\xa1\\xd5\\xaf\\xd5\\xa1\\xd5\\xb6 \\xd6\\x83\\xd5\\xb8\\xd6\\x82\\xd5\\xac\\xd5\\xa5\\xd6\\x80\\xd5\\xab\\xd6\\x81, \\xd5\\xb8\\xd6\\x80\\xd5\\xb8\\xd5\\xb6\\xd6\\x84 \\xd5\\xaf\\xd5\\xa1\\xd5\\xbf\\xd5\\xa1\\xd6\\x80\\xd5\\xbe\\xd5\\xb8\\xd6\\x82\\xd5\\xb4 \\xd5\\xa5\\xd5\\xb6 \\xd6\\x84\\xd5\\xa9\\xd5\\xab \\xd5\\xad\\xd5\\xb8\\xd5\\xbc\\xd5\\xb8\\xd5\\xb9\\xd5\\xab\\xd6\\x81 \\xd5\\xb4\\xd5\\xab\\xd5\\xb6\\xd5\\xb9\\xd6\\x87 \\xd5\\xa1\\xd5\\xac\\xd5\\xbe\\xd5\\xa5\\xd5\\xb8\\xd5\\xac\\xd5\\xb6\\xd5\\xa5\\xd6\\x80 \\xd5\\xbf\\xd5\\xa5\\xd5\\xb2\\xd5\\xa1\\xd6\\x83\\xd5\\xb8\\xd5\\xad\\xd5\\xb8\\xd5\\xb2 \\xd5\\xad\\xd5\\xb8\\xd5\\xb2\\xd5\\xb8\\xd5\\xbe\\xd5\\xa1\\xd5\\xaf\\xd5\\xb6\\xd5\\xa5\\xd6\\x80\\xd5\\xab \\xd5\\xaf\\xd5\\xa1\\xd5\\xb4 \\xd6\\x85\\xd5\\xa4\\xd5\\xb8\\xd6\\x82\\xd5\\xb2\\xd5\\xab\\xd5\\xb6\\xd5\\xa5\\xd6\\x80\\xd5\\xab \\xd5\\xa2\\xd5\\xa1\\xd6\\x80\\xd5\\xb1\\xd6\\x80 \\xd5\\xb3\\xd5\\xb5\\xd5\\xb8\\xd6\\x82\\xd5\\xb2\\xd5\\xa1\\xd5\\xbe\\xd5\\xb8\\xd6\\x80\\xd5\\xbe\\xd5\\xa1\\xd5\\xae \\xd5\\xb0\\xd5\\xa1\\xd5\\xb4\\xd5\\xa1\\xd5\\xaf\\xd5\\xa1\\xd6\\x80\\xd5\\xa3\\xd5\\xab \\xd5\\xb4\\xd5\\xab\\xd5\\xbb\\xd5\\xb8\\xd6\\x81\\xd5\\xb8\\xd5\\xbe\\xd6\\x89\"\n",
    "chardet.detect(ar_bytes)"
   ]
  },
  {
   "cell_type": "code",
   "execution_count": 108,
   "metadata": {},
   "outputs": [],
   "source": [
    "k_str=kkkk.decode(\"utf-8\")"
   ]
  },
  {
   "cell_type": "code",
   "execution_count": 109,
   "metadata": {},
   "outputs": [
    {
     "data": {
      "text/plain": [
       "'ողնաշարավոր կենդանիների մեծամասնության շնչառությունը կատարվում է թոքերի միջոցով, կազմած է ներշնչման և արտաշնչման հաջորդական փուլերից, որոնք կատարվում են քթի խոռոչից մինչև ալվեոլներ տեղափոխող խողովակների կամ օդուղիների բարձր ճյուղավորված համակարգի միջոցով։'"
      ]
     },
     "execution_count": 109,
     "metadata": {},
     "output_type": "execute_result"
    }
   ],
   "source": [
    "k_str.lower()"
   ]
  },
  {
   "cell_type": "code",
   "execution_count": 110,
   "metadata": {},
   "outputs": [
    {
     "data": {
      "text/plain": [
       "'ողնաշարավոր կենդանիների մեծամասնության շնչառությունը կատարվում է թոքերի միջոցով, կազմած է ներշնչման եւ արտաշնչման հաջորդական փուլերից, որոնք կատարվում են քթի խոռոչից մինչեւ ալվեոլներ տեղափոխող խողովակների կամ օդուղիների բարձր ճյուղավորված համակարգի միջոցով։'"
      ]
     },
     "execution_count": 110,
     "metadata": {},
     "output_type": "execute_result"
    }
   ],
   "source": [
    "k_str.casefold() #casefold doesn't give different output"
   ]
  },
  {
   "cell_type": "code",
   "execution_count": null,
   "metadata": {
    "collapsed": true
   },
   "outputs": [],
   "source": []
  }
 ],
 "metadata": {
  "kernelspec": {
   "display_name": "Python 3",
   "language": "python",
   "name": "python3"
  },
  "language_info": {
   "codemirror_mode": {
    "name": "ipython",
    "version": 3
   },
   "file_extension": ".py",
   "mimetype": "text/x-python",
   "name": "python",
   "nbconvert_exporter": "python",
   "pygments_lexer": "ipython3",
   "version": "3.6.1"
  }
 },
 "nbformat": 4,
 "nbformat_minor": 2
}
