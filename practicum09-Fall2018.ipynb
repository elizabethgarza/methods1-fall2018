{
 "cells": [
  {
   "cell_type": "code",
   "execution_count": 1,
   "metadata": {
    "collapsed": true
   },
   "outputs": [],
   "source": [
    "import csv"
   ]
  },
  {
   "cell_type": "code",
   "execution_count": 2,
   "metadata": {},
   "outputs": [
    {
     "name": "stdout",
     "output_type": "stream",
     "text": [
      "Word\tFREQcount\tCDcount\tFREQlow\tCdlow\tSUBTLWF\tLg10WF\tSUBTLCD\tLg10CD\n",
      "\n"
     ]
    }
   ],
   "source": [
    "#we open file, and read one line\n",
    "fopen=open(\"Downloads/subtlex.txt\")\n",
    "\n",
    "line1=fopen.readline()\n",
    "print(line1)\n",
    "fopen.close()\n"
   ]
  },
  {
   "cell_type": "code",
   "execution_count": 3,
   "metadata": {},
   "outputs": [
    {
     "name": "stdout",
     "output_type": "stream",
     "text": [
      "Word\tFREQcount\tCDcount\tFREQlow\tCdlow\tSUBTLWF\tLg10WF\tSUBTLCD\tLg10CD\n",
      "\n",
      "the\t1501908\t8388\t1339811\t8388\t29449.18\t6.1766\t100.00\t3.9237\n",
      "\n",
      "to\t1156570\t8383\t1138435\t8380\t22677.84\t6.0632\t99.94\t3.9235\n",
      "\n",
      "a\t1041179\t8382\t976941\t8380\t20415.27\t6.0175\t99.93\t3.9234\n",
      "\n",
      "you\t2134713\t8381\t1595028\t8376\t41857.12\t6.3293\t99.92\t3.9233\n",
      "\n",
      "and\t682780\t8379\t515365\t8374\t13387.84\t5.8343\t99.89\t3.9232\n",
      "\n",
      "it\t963712\t8377\t685089\t8370\t18896.31\t5.9839\t99.87\t3.9231\n",
      "\n",
      "s\t1057301\t8377\t1052788\t8373\t20731.39\t6.0242\t99.87\t3.9231\n",
      "\n",
      "of\t590439\t8375\t573021\t8372\t11577.24\t5.7712\t99.85\t3.9230\n",
      "\n",
      "for\t351650\t8374\t332686\t8370\t6895.10\t5.5461\t99.83\t3.9230\n",
      "\n",
      "I\t2038529\t8372\t5147\t350\t39971.16\t6.3093\t99.81\t3.9229\n",
      "\n"
     ]
    }
   ],
   "source": [
    "#we open file, and read it line by line\n",
    "fopen=open(\"Downloads/subtlex.txt\")\n",
    "counter=0\n",
    "for line in fopen:\n",
    "    print(line)\n",
    "    counter+=1\n",
    "    if counter>10: break\n",
    "fopen.close()\n"
   ]
  },
  {
   "cell_type": "code",
   "execution_count": 6,
   "metadata": {},
   "outputs": [
    {
     "name": "stdout",
     "output_type": "stream",
     "text": [
      "OrderedDict([('Word', 'flatter'), ('FREQcount', '200'), ('CDcount', '184'), ('FREQlow', '190'), ('Cdlow', '177'), ('SUBTLWF', '3.92'), ('Lg10WF', '2.3032'), ('SUBTLCD', '2.19'), ('Lg10CD', '2.2672')])\n",
      "flatter 200\n",
      "OrderedDict([('Word', 'detailed'), ('FREQcount', '200'), ('CDcount', '182'), ('FREQlow', '195'), ('Cdlow', '178'), ('SUBTLWF', '3.92'), ('Lg10WF', '2.3032'), ('SUBTLCD', '2.17'), ('Lg10CD', '2.2625')])\n",
      "detailed 200\n",
      "OrderedDict([('Word', 'favorites'), ('FREQcount', '200'), ('CDcount', '182'), ('FREQlow', '199'), ('Cdlow', '181'), ('SUBTLWF', '3.92'), ('Lg10WF', '2.3032'), ('SUBTLCD', '2.17'), ('Lg10CD', '2.2625')])\n",
      "favorites 200\n",
      "OrderedDict([('Word', 'remarks'), ('FREQcount', '200'), ('CDcount', '177'), ('FREQlow', '197'), ('Cdlow', '174'), ('SUBTLWF', '3.92'), ('Lg10WF', '2.3032'), ('SUBTLCD', '2.11'), ('Lg10CD', '2.2504')])\n",
      "remarks 200\n",
      "OrderedDict([('Word', 'associated'), ('FREQcount', '200'), ('CDcount', '176'), ('FREQlow', '176'), ('Cdlow', '162'), ('SUBTLWF', '3.92'), ('Lg10WF', '2.3032'), ('SUBTLCD', '2.10'), ('Lg10CD', '2.2480')])\n",
      "associated 200\n",
      "OrderedDict([('Word', 'flirt'), ('FREQcount', '200'), ('CDcount', '170'), ('FREQlow', '198'), ('Cdlow', '168'), ('SUBTLWF', '3.92'), ('Lg10WF', '2.3032'), ('SUBTLCD', '2.03'), ('Lg10CD', '2.2330')])\n",
      "flirt 200\n",
      "OrderedDict([('Word', 'dislike'), ('FREQcount', '200'), ('CDcount', '169'), ('FREQlow', '197'), ('Cdlow', '169'), ('SUBTLWF', '3.92'), ('Lg10WF', '2.3032'), ('SUBTLCD', '2.01'), ('Lg10CD', '2.2304')])\n",
      "dislike 200\n",
      "OrderedDict([('Word', 'distraction'), ('FREQcount', '200'), ('CDcount', '160'), ('FREQlow', '196'), ('Cdlow', '157'), ('SUBTLWF', '3.92'), ('Lg10WF', '2.3032'), ('SUBTLCD', '1.91'), ('Lg10CD', '2.2068')])\n",
      "distraction 200\n",
      "OrderedDict([('Word', 'clam'), ('FREQcount', '200'), ('CDcount', '158'), ('FREQlow', '165'), ('Cdlow', '134'), ('SUBTLWF', '3.92'), ('Lg10WF', '2.3032'), ('SUBTLCD', '1.88'), ('Lg10CD', '2.2014')])\n",
      "clam 200\n",
      "OrderedDict([('Word', 'righteous'), ('FREQcount', '200'), ('CDcount', '157'), ('FREQlow', '167'), ('Cdlow', '137'), ('SUBTLWF', '3.92'), ('Lg10WF', '2.3032'), ('SUBTLCD', '1.87'), ('Lg10CD', '2.1987')])\n",
      "righteous 200\n",
      "OrderedDict([('Word', 'bricks'), ('FREQcount', '200'), ('CDcount', '149'), ('FREQlow', '190'), ('Cdlow', '145'), ('SUBTLWF', '3.92'), ('Lg10WF', '2.3032'), ('SUBTLCD', '1.78'), ('Lg10CD', '2.1761')])\n",
      "bricks 200\n",
      "OrderedDict([('Word', 'bulb'), ('FREQcount', '200'), ('CDcount', '148'), ('FREQlow', '193'), ('Cdlow', '142'), ('SUBTLWF', '3.92'), ('Lg10WF', '2.3032'), ('SUBTLCD', '1.76'), ('Lg10CD', '2.1732')])\n",
      "bulb 200\n",
      "OrderedDict([('Word', 'forensic'), ('FREQcount', '200'), ('CDcount', '147'), ('FREQlow', '172'), ('Cdlow', '129'), ('SUBTLWF', '3.92'), ('Lg10WF', '2.3032'), ('SUBTLCD', '1.75'), ('Lg10CD', '2.1703')])\n",
      "forensic 200\n",
      "OrderedDict([('Word', 'litter'), ('FREQcount', '200'), ('CDcount', '146'), ('FREQlow', '177'), ('Cdlow', '135'), ('SUBTLWF', '3.92'), ('Lg10WF', '2.3032'), ('SUBTLCD', '1.74'), ('Lg10CD', '2.1673')])\n",
      "litter 200\n",
      "OrderedDict([('Word', 'Swedish'), ('FREQcount', '200'), ('CDcount', '142'), ('FREQlow', '4'), ('Cdlow', '3'), ('SUBTLWF', '3.92'), ('Lg10WF', '2.3032'), ('SUBTLCD', '1.69'), ('Lg10CD', '2.1553')])\n",
      "Swedish 200\n",
      "OrderedDict([('Word', 'erotic'), ('FREQcount', '200'), ('CDcount', '133'), ('FREQlow', '178'), ('Cdlow', '125'), ('SUBTLWF', '3.92'), ('Lg10WF', '2.3032'), ('SUBTLCD', '1.59'), ('Lg10CD', '2.1271')])\n",
      "erotic 200\n",
      "OrderedDict([('Word', 'royalty'), ('FREQcount', '200'), ('CDcount', '133'), ('FREQlow', '154'), ('Cdlow', '120'), ('SUBTLWF', '3.92'), ('Lg10WF', '2.3032'), ('SUBTLCD', '1.59'), ('Lg10CD', '2.1271')])\n",
      "royalty 200\n",
      "OrderedDict([('Word', 'bookstore'), ('FREQcount', '200'), ('CDcount', '132'), ('FREQlow', '186'), ('Cdlow', '124'), ('SUBTLWF', '3.92'), ('Lg10WF', '2.3032'), ('SUBTLCD', '1.57'), ('Lg10CD', '2.1239')])\n",
      "bookstore 200\n",
      "OrderedDict([('Word', 'server'), ('FREQcount', '200'), ('CDcount', '121'), ('FREQlow', '191'), ('Cdlow', '115'), ('SUBTLWF', '3.92'), ('Lg10WF', '2.3032'), ('SUBTLCD', '1.44'), ('Lg10CD', '2.0864')])\n",
      "server 200\n",
      "OrderedDict([('Word', 'strawberries'), ('FREQcount', '200'), ('CDcount', '106'), ('FREQlow', '164'), ('Cdlow', '90'), ('SUBTLWF', '3.92'), ('Lg10WF', '2.3032'), ('SUBTLCD', '1.26'), ('Lg10CD', '2.0294')])\n",
      "strawberries 200\n",
      "OrderedDict([('Word', 'Naomi'), ('FREQcount', '200'), ('CDcount', '33'), ('FREQlow', '4'), ('Cdlow', '1'), ('SUBTLWF', '3.92'), ('Lg10WF', '2.3032'), ('SUBTLCD', '0.39'), ('Lg10CD', '1.5315')])\n",
      "Naomi 200\n"
     ]
    }
   ],
   "source": [
    "with open(\"Downloads/subtlex.txt\", \"r\") as source:\n",
    "    for row in csv.DictReader(source, delimiter=\"\\t\"):\n",
    "        freq = int(row[\"FREQcount\"])\n",
    "        if freq == 200:\n",
    "            print(row)\n",
    "            print(row[\"Word\"],freq)"
   ]
  },
  {
   "cell_type": "code",
   "execution_count": 8,
   "metadata": {},
   "outputs": [
    {
     "name": "stdout",
     "output_type": "stream",
     "text": [
      "the 1501908\n",
      "to 1156570\n",
      "that 719677\n",
      "this 406915\n",
      "t 733338\n",
      "there 221754\n",
      "they 209250\n",
      "time 99890\n",
      "think 137261\n",
      "take 96443\n",
      "then 75966\n",
      "too 69950\n",
      "them 90720\n",
      "tell 87949\n",
      "thing 55522\n",
      "two 54384\n",
      "these 46104\n",
      "thought 41232\n",
      "Thank 56877\n",
      "than 37679\n",
      "those 38404\n",
      "talk 43605\n",
      "told 35679\n",
      "things 35337\n",
      "through 28026\n",
      "their 33413\n",
      "Thanks 31789\n",
      "try 24314\n",
      "talking 25385\n",
      "three 27654\n",
      "trying 22849\n",
      "today 22124\n",
      "together 19553\n",
      "took 17454\n",
      "turn 15630\n",
      "tonight 21047\n",
      "thinking 14353\n",
      "tomorrow 17134\n",
      "taking 12263\n",
      "true 12921\n",
      "times 11221\n",
      "tried 9529\n",
      "telling 9730\n",
      "trouble 11401\n",
      "though 9279\n",
      "trust 9087\n",
      "truth 9801\n",
      "till 8503\n",
      "town 12644\n",
      "taken 7071\n",
      "touch 7534\n",
      "throw 6570\n",
      "takes 5986\n",
      "top 6805\n",
      "turned 5388\n",
      "thinks 5235\n",
      "ten 7395\n",
      "talked 5226\n",
      "tired 5745\n",
      "table 5387\n",
      "terrible 4795\n",
      "tough 4616\n",
      "team 7528\n",
      "trip 4202\n",
      "third 3801\n",
      "th 4989\n",
      "twice 3191\n",
      "totally 4377\n",
      "Tv 5199\n",
      "teach 3715\n",
      "test 4288\n",
      "tells 2665\n",
      "type 3093\n",
      "turns 2552\n",
      "treat 2646\n",
      "taste 2617\n",
      "tight 2597\n",
      "thousand 3534\n",
      "track 2843\n",
      "themselves 2343\n",
      "train 4848\n",
      "turning 2061\n",
      "teeth 2440\n",
      "tree 3315\n",
      "truck 3716\n",
      "threw 2082\n",
      "taught 2236\n",
      "trick 2411\n",
      "tape 3511\n",
      "tie 2266\n",
      "total 1920\n",
      "tea 2990\n",
      "truly 1830\n",
      "ticket 2324\n",
      "teacher 2842\n",
      "terrific 2138\n",
      "throat 1837\n",
      "throwing 1488\n",
      "thoughts 1703\n",
      "travel 1702\n",
      "tickets 2211\n",
      "touched 1505\n",
      "tall 1649\n",
      "trade 1795\n",
      "tongue 1589\n",
      "Tom 5588\n",
      "towards 1399\n",
      "toast 1707\n",
      "training 1792\n",
      "tiny 1643\n",
      "tied 1364\n",
      "tear 1377\n",
      "tip 1409\n",
      "thousands 1410\n",
      "traffic 1454\n",
      "treated 1219\n",
      "talks 1216\n",
      "telephone 1651\n",
      "trees 1565\n",
      "theory 1459\n",
      "trial 2518\n",
      "toilet 1474\n",
      "target 1936\n",
      "television 1729\n",
      "tour 1571\n",
      "Twenty 1378\n",
      "talent 1332\n",
      "thrown 1047\n",
      "toward 1169\n",
      "terms 1138\n",
      "tail 1219\n",
      "tears 1140\n",
      "trap 1216\n",
      "trash 1146\n",
      "thin 1029\n",
      "terribly 1205\n",
      "Thursday 1232\n",
      "tests 1197\n",
      "trapped 1030\n",
      "Tuesday 1206\n",
      "threat 1059\n",
      "teaching 1010\n",
      "therefore 1058\n",
      "thief 1238\n",
      "transfer 1048\n",
      "tank 1306\n",
      "taxi 1318\n",
      "Tony 3503\n",
      "theater 1226\n",
      "turkey 1153\n",
      "trunk 1010\n",
      "tower 1165\n",
      "Thomas 1636\n",
      "Texas 1429\n",
      "Tommy 2459\n",
      "thy 1243\n",
      "thee 1327\n",
      "thou 1144\n",
      "Ted 2228\n",
      "Tim 1867\n",
      "Terry 1123\n",
      "Teli 1010\n"
     ]
    }
   ],
   "source": [
    "#find words that start with \"t\" and FREQcount>1000\n",
    "with open(\"Downloads/subtlex.txt\", \"r\") as source:\n",
    "    for row in csv.DictReader(source, delimiter=\"\\t\"):\n",
    "        freq = int(row[\"FREQcount\"])\n",
    "        word= row[\"Word\"]\n",
    "        if freq > 1000 and word[0].lower()==\"t\":\n",
    "            #print(row)\n",
    "            print(row[\"Word\"],freq)"
   ]
  },
  {
   "cell_type": "code",
   "execution_count": 14,
   "metadata": {},
   "outputs": [],
   "source": [
    "#now working with json\n",
    "import requests\n",
    "url=\"http://wellformedness.com/courses/LING78100/Data/tweet.json\"\n",
    "#url=\"http://wellformedness.com\"\n",
    "request = requests.get(url)\n",
    "assert request.ok, \"Request failed\"\n",
    "raw_json = request.text  # Type `str`."
   ]
  },
  {
   "cell_type": "code",
   "execution_count": 12,
   "metadata": {},
   "outputs": [
    {
     "data": {
      "text/plain": [
       "'{\"created_at\": \"Wed Aug 13 04:37:51 +0000 2014\", \"id\": 499414504632229888, \"id_str\": \"499414504632229888\", \"text\": \"MTV, I am Werner Herzog and this is my crib. It is but temporary refuge from nature\\'s fury. The walls were once trees. I made them traitors.\", \"truncated\": false, \"entities\": {\"hashtags\": [], \"symbols\": [], \"user_mentions\": [], \"urls\": []}, \"source\": \"<a href=\\\\\"http://twitter.com/download/iphone\\\\\" rel=\\\\\"nofollow\\\\\">Twitter for iPhone</a>\", \"in_reply_to_status_id\": null, \"in_reply_to_status_id_str\": null, \"in_reply_to_user_id\": null, \"in_reply_to_user_id_str\": null, \"in_reply_to_screen_name\": null, \"user\": {\"id\": 172139485, \"id_str\": \"172139485\", \"name\": \"Chris Worthington\", \"screen_name\": \"SomeChrisTweets\", \"location\": \"Los Angeles / The Moon\", \"description\": \"Writer, editor, sea ghost on shore leave.\", \"url\": \"https://t.co/vdM5OXccp4\", \"entities\": {\"url\": {\"urls\": [{\"url\": \"https://t.co/vdM5OXccp4\", \"expanded_url\": \"http://ko-fi.com/chrisworthington\", \"display_url\": \"ko-fi.com/chrisworthingt\\\\u2026\", \"indices\": [0, 23]}]}, \"description\": {\"urls\": []}}, \"protected\": false, \"followers_count\": 12894, \"friends_count\": 562, \"listed_count\": 349, \"created_at\": \"Thu Jul 29 00:33:23 +0000 2010\", \"favourites_count\": 30914, \"utc_offset\": null, \"time_zone\": null, \"geo_enabled\": false, \"verified\": false, \"statuses_count\": 2781, \"lang\": \"en\", \"contributors_enabled\": false, \"is_translator\": false, \"is_translation_enabled\": false, \"profile_background_color\": \"1A1B1F\", \"profile_background_image_url\": \"http://abs.twimg.com/images/themes/theme6/bg.gif\", \"profile_background_image_url_https\": \"https://abs.twimg.com/images/themes/theme6/bg.gif\", \"profile_background_tile\": true, \"profile_image_url\": \"http://pbs.twimg.com/profile_images/1052050967837851648/gmCvv4TW_normal.jpg\", \"profile_image_url_https\": \"https://pbs.twimg.com/profile_images/1052050967837851648/gmCvv4TW_normal.jpg\", \"profile_banner_url\": \"https://pbs.twimg.com/profile_banners/172139485/1534802029\", \"profile_link_color\": \"3D4C66\", \"profile_sidebar_border_color\": \"181A1E\", \"profile_sidebar_fill_color\": \"252429\", \"profile_text_color\": \"666666\", \"profile_use_background_image\": true, \"has_extended_profile\": true, \"default_profile\": false, \"default_profile_image\": false, \"following\": false, \"follow_request_sent\": false, \"notifications\": false, \"translator_type\": \"none\"}, \"geo\": null, \"coordinates\": null, \"place\": null, \"contributors\": null, \"is_quote_status\": false, \"retweet_count\": 5992, \"favorite_count\": 12767, \"favorited\": false, \"retweeted\": false, \"lang\": \"en\"}\\n'"
      ]
     },
     "execution_count": 12,
     "metadata": {},
     "output_type": "execute_result"
    }
   ],
   "source": [
    "raw_json"
   ]
  },
  {
   "cell_type": "code",
   "execution_count": 15,
   "metadata": {
    "collapsed": true
   },
   "outputs": [],
   "source": [
    "import json\n",
    "json_dictioanry=json.loads(raw_json)"
   ]
  },
  {
   "cell_type": "code",
   "execution_count": 16,
   "metadata": {},
   "outputs": [
    {
     "data": {
      "text/plain": [
       "{'contributors': None,\n",
       " 'coordinates': None,\n",
       " 'created_at': 'Wed Aug 13 04:37:51 +0000 2014',\n",
       " 'entities': {'hashtags': [], 'symbols': [], 'urls': [], 'user_mentions': []},\n",
       " 'favorite_count': 12767,\n",
       " 'favorited': False,\n",
       " 'geo': None,\n",
       " 'id': 499414504632229888,\n",
       " 'id_str': '499414504632229888',\n",
       " 'in_reply_to_screen_name': None,\n",
       " 'in_reply_to_status_id': None,\n",
       " 'in_reply_to_status_id_str': None,\n",
       " 'in_reply_to_user_id': None,\n",
       " 'in_reply_to_user_id_str': None,\n",
       " 'is_quote_status': False,\n",
       " 'lang': 'en',\n",
       " 'place': None,\n",
       " 'retweet_count': 5992,\n",
       " 'retweeted': False,\n",
       " 'source': '<a href=\"http://twitter.com/download/iphone\" rel=\"nofollow\">Twitter for iPhone</a>',\n",
       " 'text': \"MTV, I am Werner Herzog and this is my crib. It is but temporary refuge from nature's fury. The walls were once trees. I made them traitors.\",\n",
       " 'truncated': False,\n",
       " 'user': {'contributors_enabled': False,\n",
       "  'created_at': 'Thu Jul 29 00:33:23 +0000 2010',\n",
       "  'default_profile': False,\n",
       "  'default_profile_image': False,\n",
       "  'description': 'Writer, editor, sea ghost on shore leave.',\n",
       "  'entities': {'description': {'urls': []},\n",
       "   'url': {'urls': [{'display_url': 'ko-fi.com/chrisworthingt…',\n",
       "      'expanded_url': 'http://ko-fi.com/chrisworthington',\n",
       "      'indices': [0, 23],\n",
       "      'url': 'https://t.co/vdM5OXccp4'}]}},\n",
       "  'favourites_count': 30914,\n",
       "  'follow_request_sent': False,\n",
       "  'followers_count': 12894,\n",
       "  'following': False,\n",
       "  'friends_count': 562,\n",
       "  'geo_enabled': False,\n",
       "  'has_extended_profile': True,\n",
       "  'id': 172139485,\n",
       "  'id_str': '172139485',\n",
       "  'is_translation_enabled': False,\n",
       "  'is_translator': False,\n",
       "  'lang': 'en',\n",
       "  'listed_count': 349,\n",
       "  'location': 'Los Angeles / The Moon',\n",
       "  'name': 'Chris Worthington',\n",
       "  'notifications': False,\n",
       "  'profile_background_color': '1A1B1F',\n",
       "  'profile_background_image_url': 'http://abs.twimg.com/images/themes/theme6/bg.gif',\n",
       "  'profile_background_image_url_https': 'https://abs.twimg.com/images/themes/theme6/bg.gif',\n",
       "  'profile_background_tile': True,\n",
       "  'profile_banner_url': 'https://pbs.twimg.com/profile_banners/172139485/1534802029',\n",
       "  'profile_image_url': 'http://pbs.twimg.com/profile_images/1052050967837851648/gmCvv4TW_normal.jpg',\n",
       "  'profile_image_url_https': 'https://pbs.twimg.com/profile_images/1052050967837851648/gmCvv4TW_normal.jpg',\n",
       "  'profile_link_color': '3D4C66',\n",
       "  'profile_sidebar_border_color': '181A1E',\n",
       "  'profile_sidebar_fill_color': '252429',\n",
       "  'profile_text_color': '666666',\n",
       "  'profile_use_background_image': True,\n",
       "  'protected': False,\n",
       "  'screen_name': 'SomeChrisTweets',\n",
       "  'statuses_count': 2781,\n",
       "  'time_zone': None,\n",
       "  'translator_type': 'none',\n",
       "  'url': 'https://t.co/vdM5OXccp4',\n",
       "  'utc_offset': None,\n",
       "  'verified': False}}"
      ]
     },
     "execution_count": 16,
     "metadata": {},
     "output_type": "execute_result"
    }
   ],
   "source": [
    "json_dictioanry"
   ]
  },
  {
   "cell_type": "code",
   "execution_count": 17,
   "metadata": {},
   "outputs": [
    {
     "data": {
      "text/plain": [
       "\"MTV, I am Werner Herzog and this is my crib. It is but temporary refuge from nature's fury. The walls were once trees. I made them traitors.\""
      ]
     },
     "execution_count": 17,
     "metadata": {},
     "output_type": "execute_result"
    }
   ],
   "source": [
    "json_dictioanry[\"text\"]"
   ]
  },
  {
   "cell_type": "code",
   "execution_count": 18,
   "metadata": {},
   "outputs": [
    {
     "data": {
      "text/plain": [
       "{'contributors_enabled': False,\n",
       " 'created_at': 'Thu Jul 29 00:33:23 +0000 2010',\n",
       " 'default_profile': False,\n",
       " 'default_profile_image': False,\n",
       " 'description': 'Writer, editor, sea ghost on shore leave.',\n",
       " 'entities': {'description': {'urls': []},\n",
       "  'url': {'urls': [{'display_url': 'ko-fi.com/chrisworthingt…',\n",
       "     'expanded_url': 'http://ko-fi.com/chrisworthington',\n",
       "     'indices': [0, 23],\n",
       "     'url': 'https://t.co/vdM5OXccp4'}]}},\n",
       " 'favourites_count': 30914,\n",
       " 'follow_request_sent': False,\n",
       " 'followers_count': 12894,\n",
       " 'following': False,\n",
       " 'friends_count': 562,\n",
       " 'geo_enabled': False,\n",
       " 'has_extended_profile': True,\n",
       " 'id': 172139485,\n",
       " 'id_str': '172139485',\n",
       " 'is_translation_enabled': False,\n",
       " 'is_translator': False,\n",
       " 'lang': 'en',\n",
       " 'listed_count': 349,\n",
       " 'location': 'Los Angeles / The Moon',\n",
       " 'name': 'Chris Worthington',\n",
       " 'notifications': False,\n",
       " 'profile_background_color': '1A1B1F',\n",
       " 'profile_background_image_url': 'http://abs.twimg.com/images/themes/theme6/bg.gif',\n",
       " 'profile_background_image_url_https': 'https://abs.twimg.com/images/themes/theme6/bg.gif',\n",
       " 'profile_background_tile': True,\n",
       " 'profile_banner_url': 'https://pbs.twimg.com/profile_banners/172139485/1534802029',\n",
       " 'profile_image_url': 'http://pbs.twimg.com/profile_images/1052050967837851648/gmCvv4TW_normal.jpg',\n",
       " 'profile_image_url_https': 'https://pbs.twimg.com/profile_images/1052050967837851648/gmCvv4TW_normal.jpg',\n",
       " 'profile_link_color': '3D4C66',\n",
       " 'profile_sidebar_border_color': '181A1E',\n",
       " 'profile_sidebar_fill_color': '252429',\n",
       " 'profile_text_color': '666666',\n",
       " 'profile_use_background_image': True,\n",
       " 'protected': False,\n",
       " 'screen_name': 'SomeChrisTweets',\n",
       " 'statuses_count': 2781,\n",
       " 'time_zone': None,\n",
       " 'translator_type': 'none',\n",
       " 'url': 'https://t.co/vdM5OXccp4',\n",
       " 'utc_offset': None,\n",
       " 'verified': False}"
      ]
     },
     "execution_count": 18,
     "metadata": {},
     "output_type": "execute_result"
    }
   ],
   "source": [
    "json_dictioanry[\"user\"]"
   ]
  },
  {
   "cell_type": "code",
   "execution_count": 19,
   "metadata": {},
   "outputs": [
    {
     "data": {
      "text/plain": [
       "'https://t.co/vdM5OXccp4'"
      ]
     },
     "execution_count": 19,
     "metadata": {},
     "output_type": "execute_result"
    }
   ],
   "source": [
    "json_dictioanry[\"user\"][\"url\"]"
   ]
  },
  {
   "cell_type": "code",
   "execution_count": 20,
   "metadata": {},
   "outputs": [
    {
     "name": "stdout",
     "output_type": "stream",
     "text": [
      "{'name': 'John Adams', 'year': 1970, 'city': 'London'}\n"
     ]
    }
   ],
   "source": [
    "person_dict={}\n",
    "person_dict[\"name\"]=\"John Adams\"\n",
    "person_dict[\"year\"]=1970\n",
    "person_dict[\"city\"]=\"London\"\n",
    "\n",
    "print(person_dict)\n",
    "\n",
    "#http://arbsq.net/pr.html"
   ]
  },
  {
   "cell_type": "code",
   "execution_count": 21,
   "metadata": {
    "collapsed": true
   },
   "outputs": [],
   "source": [
    "json_str=json.dumps(person_dict)"
   ]
  },
  {
   "cell_type": "code",
   "execution_count": 22,
   "metadata": {},
   "outputs": [
    {
     "name": "stdout",
     "output_type": "stream",
     "text": [
      "{\"name\": \"John Adams\", \"year\": 1970, \"city\": \"London\"}\n"
     ]
    }
   ],
   "source": [
    "print(json_str)"
   ]
  },
  {
   "cell_type": "code",
   "execution_count": 23,
   "metadata": {},
   "outputs": [
    {
     "data": {
      "text/plain": [
       "dict"
      ]
     },
     "execution_count": 23,
     "metadata": {},
     "output_type": "execute_result"
    }
   ],
   "source": [
    "type(person_dict)"
   ]
  },
  {
   "cell_type": "code",
   "execution_count": 24,
   "metadata": {},
   "outputs": [
    {
     "data": {
      "text/plain": [
       "str"
      ]
     },
     "execution_count": 24,
     "metadata": {},
     "output_type": "execute_result"
    }
   ],
   "source": [
    "type(json_str)"
   ]
  },
  {
   "cell_type": "code",
   "execution_count": 25,
   "metadata": {
    "collapsed": true
   },
   "outputs": [],
   "source": [
    "person_dict[\"spouse\"]=\"Anna Adams\""
   ]
  },
  {
   "cell_type": "code",
   "execution_count": 26,
   "metadata": {
    "collapsed": true
   },
   "outputs": [],
   "source": [
    "json_str=json.dumps(person_dict)"
   ]
  },
  {
   "cell_type": "code",
   "execution_count": 27,
   "metadata": {},
   "outputs": [
    {
     "name": "stdout",
     "output_type": "stream",
     "text": [
      "{\"name\": \"John Adams\", \"year\": 1970, \"city\": \"London\", \"spouse\": \"Anna Adams\"}\n"
     ]
    }
   ],
   "source": [
    "print(json_str)"
   ]
  },
  {
   "cell_type": "code",
   "execution_count": null,
   "metadata": {
    "collapsed": true
   },
   "outputs": [],
   "source": [
    "#then we can use it in Javascript on the site http://arbsq.net/pr.html\n",
    "#we open developer tool, make sure we're on console, then input these\n",
    "\"\"\"\n",
    "json_str='{\"name\": \"John Adams\", \"year\": 1970, \"city\": \"London\", \"spouse\": \"Anna Adams\"}'\n",
    "\"{\"name\": \"John Adams\", \"year\": 1970, \"city\": \"London\", \"spouse\": \"Anna Adams\"}\"\n",
    "element=document.getElementById(\"hello\")\n",
    "<div id=​\"hello\">​Hello World​</div>​\n",
    "js_dict=JSON.parse(json_str)\n",
    "{name: \"John Adams\", year: 1970, city: \"London\", spouse: \"Anna Adams\"}\n",
    "element.innerHTML=js_dict.name\n",
    "\"John Adams\"\n",
    "element.innerHTML=\"let's go outside\"\n",
    "\"let's go outside\"\n",
    "element.innerHTML=\"Hello\"+ js_dict.name\n",
    "\"HelloJohn Adams\"\n",
    "element.innerHTML=\"Hello \"+ js_dict.name\n",
    "\"Hello John Adams\"\n",
    "\"\"\""
   ]
  }
 ],
 "metadata": {
  "kernelspec": {
   "display_name": "Python 3",
   "language": "python",
   "name": "python3"
  },
  "language_info": {
   "codemirror_mode": {
    "name": "ipython",
    "version": 3
   },
   "file_extension": ".py",
   "mimetype": "text/x-python",
   "name": "python",
   "nbconvert_exporter": "python",
   "pygments_lexer": "ipython3",
   "version": "3.6.1"
  }
 },
 "nbformat": 4,
 "nbformat_minor": 2
}
