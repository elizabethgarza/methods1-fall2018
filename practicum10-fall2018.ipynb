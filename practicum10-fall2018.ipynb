{
 "cells": [
  {
   "cell_type": "code",
   "execution_count": 1,
   "metadata": {},
   "outputs": [
    {
     "data": {
      "text/plain": [
       "True"
      ]
     },
     "execution_count": 1,
     "metadata": {},
     "output_type": "execute_result"
    }
   ],
   "source": [
    "#check if a substring exists within a larger string\n",
    "substr=\"input\"\n",
    "big_string=\"please input the data\"\n",
    "substr in big_string\n",
    "\n"
   ]
  },
  {
   "cell_type": "code",
   "execution_count": 2,
   "metadata": {},
   "outputs": [
    {
     "name": "stdout",
     "output_type": "stream",
     "text": [
      "please output the data\n"
     ]
    }
   ],
   "source": [
    "#replace word with another word\n",
    "replacement=\"output\"\n",
    "new_str=big_string.replace(substr,replacement)\n",
    "print(new_str)\n"
   ]
  },
  {
   "cell_type": "code",
   "execution_count": 3,
   "metadata": {},
   "outputs": [
    {
     "data": {
      "text/plain": [
       "True"
      ]
     },
     "execution_count": 3,
     "metadata": {},
     "output_type": "execute_result"
    }
   ],
   "source": [
    "#check if a substring exists within a larger string\n",
    "substr=\"in\"\n",
    "big_string=\"please input the data in the inside box\"\n",
    "substr in big_string\n"
   ]
  },
  {
   "cell_type": "code",
   "execution_count": 4,
   "metadata": {},
   "outputs": [
    {
     "name": "stdout",
     "output_type": "stream",
     "text": [
      "please onput the data on the onside box\n"
     ]
    }
   ],
   "source": [
    "#replace word with another word\n",
    "replacement=\"on\"\n",
    "new_str=big_string.replace(substr,replacement)\n",
    "print(new_str)\n"
   ]
  },
  {
   "cell_type": "code",
   "execution_count": 5,
   "metadata": {},
   "outputs": [
    {
     "name": "stdout",
     "output_type": "stream",
     "text": [
      "please onput the data on the onside box\n"
     ]
    }
   ],
   "source": [
    "#now using regular expression\n",
    "import re\n",
    "new_str=re.sub(\"in\",\"on\",big_string)\n",
    "print(new_str)"
   ]
  },
  {
   "cell_type": "code",
   "execution_count": 8,
   "metadata": {},
   "outputs": [
    {
     "name": "stdout",
     "output_type": "stream",
     "text": [
      "please input the data on the inside box\n"
     ]
    }
   ],
   "source": [
    "new_str=re.sub(r\"\\bin\\b\",\"on\",big_string) #make sure to put r before string\n",
    "print(new_str)"
   ]
  },
  {
   "cell_type": "code",
   "execution_count": 9,
   "metadata": {},
   "outputs": [
    {
     "name": "stdout",
     "output_type": "stream",
     "text": [
      "please input the data on the inside box on masse\n"
     ]
    }
   ],
   "source": [
    "#we can also specify more than one possible character\n",
    "big_string=\"please input the data in the inside box en masse\"\n",
    "new_str=re.sub(r\"\\b[ie]n\\b\",\"on\",big_string) #make sure to put r before string\n",
    "print(new_str)"
   ]
  },
  {
   "cell_type": "code",
   "execution_count": 12,
   "metadata": {},
   "outputs": [
    {
     "name": "stdout",
     "output_type": "stream",
     "text": [
      "['in', 'in', 'in', 'en']\n",
      "4\n"
     ]
    }
   ],
   "source": [
    "#to count the number of occurances of a certain string in a big string\n",
    "occurances=re.findall(r\"\\b[ie]n\\b\",big_string) #make sure to put r before string\n",
    "#occurances=re.findall(r\"[ie]n\",big_string) #make sure to put r before string\n",
    "print(occurances)\n",
    "print(len(occurances))"
   ]
  },
  {
   "cell_type": "code",
   "execution_count": 16,
   "metadata": {},
   "outputs": [
    {
     "name": "stdout",
     "output_type": "stream",
     "text": [
      "['inp', 'ins']\n"
     ]
    }
   ],
   "source": [
    "#learn how to use \\w operator\n",
    "occurances=re.findall(r\"\\b[ie]n\\w\",big_string)\n",
    "print(occurances)"
   ]
  },
  {
   "cell_type": "code",
   "execution_count": 17,
   "metadata": {},
   "outputs": [
    {
     "name": "stdout",
     "output_type": "stream",
     "text": [
      "['input', 'in', 'inside', 'en']\n"
     ]
    }
   ],
   "source": [
    "occurances=re.findall(r\"\\b[ie]n\\w*\",big_string)\n",
    "print(occurances)"
   ]
  },
  {
   "cell_type": "code",
   "execution_count": 19,
   "metadata": {},
   "outputs": [
    {
     "name": "stdout",
     "output_type": "stream",
     "text": [
      "['input', 'inside']\n"
     ]
    }
   ],
   "source": [
    "occurances=re.findall(r\"\\b[ie]n\\w+\",big_string)\n",
    "print(occurances)"
   ]
  },
  {
   "cell_type": "code",
   "execution_count": 21,
   "metadata": {},
   "outputs": [
    {
     "name": "stdout",
     "output_type": "stream",
     "text": [
      "['he', 'hebrew', 'helped', 'him', 'his']\n"
     ]
    }
   ],
   "source": [
    "#find all the words that start with \"he/hi\"\n",
    "sent=\"he wanted to learn hebrew and she helped him have his way\"\n",
    "occurances=re.findall(r\"\\bh[ie]\\w*\",sent)\n",
    "print(occurances)"
   ]
  },
  {
   "cell_type": "code",
   "execution_count": 25,
   "metadata": {},
   "outputs": [
    {
     "name": "stdout",
     "output_type": "stream",
     "text": [
      "['He', 'Hebrew', 'helped', 'HIM', 'his']\n"
     ]
    }
   ],
   "source": [
    "#find all the words that start with \"he/hi\" - case folding\n",
    "sent=\"He wanted to learn Hebrew and she helped HIM have his way\"\n",
    "occurances=re.findall(r\"(?i)\\bh[ie]\\w*\",sent)\n",
    "print(occurances)"
   ]
  },
  {
   "cell_type": "code",
   "execution_count": 33,
   "metadata": {},
   "outputs": [
    {
     "name": "stdout",
     "output_type": "stream",
     "text": [
      "['I', 'am', 'sure,', 'that', 'others', 'asked:', 'what', 'about', 'the', '2', 'of', 'us?', 'and', 'no', '123!', '#metoo', '#yolo']\n"
     ]
    }
   ],
   "source": [
    "sent=\"I am sure, that others asked: what about the 2 of us? and no 123! #metoo #yolo\"\n",
    "tokens=sent.split()\n",
    "print(tokens)"
   ]
  },
  {
   "cell_type": "code",
   "execution_count": 34,
   "metadata": {},
   "outputs": [
    {
     "name": "stdout",
     "output_type": "stream",
     "text": [
      "['I', 'am', 'sure', 'that', 'others', 'asked', 'what', 'about', 'the', '2', 'of', 'us', 'and', 'no', '123', 'metoo', 'yolo']\n"
     ]
    }
   ],
   "source": [
    "tokens=re.findall(\"\\w+\",sent)\n",
    "print(tokens)"
   ]
  },
  {
   "cell_type": "code",
   "execution_count": 35,
   "metadata": {},
   "outputs": [
    {
     "name": "stdout",
     "output_type": "stream",
     "text": [
      "['#metoo', '#yolo']\n"
     ]
    }
   ],
   "source": [
    "hashtags=re.findall(\"#\\w+\",sent)\n",
    "print(hashtags)"
   ]
  },
  {
   "cell_type": "code",
   "execution_count": 37,
   "metadata": {},
   "outputs": [
    {
     "name": "stdout",
     "output_type": "stream",
     "text": [
      "['123', '100', '25', '98', '09', '23']\n"
     ]
    }
   ],
   "source": [
    "str1=\"and 123 and 100 about 25 98.09 and 23\"\n",
    "numbers=re.findall(\"\\d+\",str1)\n",
    "print(numbers)"
   ]
  },
  {
   "cell_type": "code",
   "execution_count": 41,
   "metadata": {},
   "outputs": [
    {
     "name": "stdout",
     "output_type": "stream",
     "text": [
      "['123 ', '100 ', '25 98', '09 ', '23']\n"
     ]
    }
   ],
   "source": [
    "numbers=re.findall(\"\\d+\\W?\\d*\",str1)\n",
    "print(numbers)"
   ]
  },
  {
   "cell_type": "code",
   "execution_count": 44,
   "metadata": {},
   "outputs": [
    {
     "name": "stdout",
     "output_type": "stream",
     "text": [
      "['123', '100', '25', '98.09', '23', '.']\n"
     ]
    }
   ],
   "source": [
    "str1=\"and 123 and 100 about 25 98.09 and 23 and one.\"\n",
    "\n",
    "numbers=re.findall(\"[\\d\\.]+\",str1)\n",
    "print(numbers)"
   ]
  },
  {
   "cell_type": "code",
   "execution_count": 47,
   "metadata": {},
   "outputs": [
    {
     "name": "stdout",
     "output_type": "stream",
     "text": [
      "['12:30', '2:00', '3:29']\n"
     ]
    }
   ],
   "source": [
    "#match a time\n",
    "sent=\"I came here at 12:30 and left at 2:00 but most others left at 3:29\"\n",
    "times=re.findall(\"\\d+\\:\\d*\",sent)\n",
    "print(times)"
   ]
  },
  {
   "cell_type": "code",
   "execution_count": 65,
   "metadata": {},
   "outputs": [
    {
     "name": "stdout",
     "output_type": "stream",
     "text": [
      "<_sre.SRE_Match object; span=(0, 3), match='bat'>\n"
     ]
    }
   ],
   "source": [
    "a=re.match(\"b.t\",\"bat\")\n",
    "print(a)"
   ]
  },
  {
   "cell_type": "code",
   "execution_count": 70,
   "metadata": {},
   "outputs": [
    {
     "name": "stdout",
     "output_type": "stream",
     "text": [
      "<_sre.SRE_Match object; span=(0, 3), match='bat'>\n"
     ]
    }
   ],
   "source": [
    "a=re.match(\"b.t\",\"bat\") #this ^ means the expression comes at the beginning\n",
    "print(a)"
   ]
  },
  {
   "cell_type": "code",
   "execution_count": 73,
   "metadata": {},
   "outputs": [
    {
     "name": "stdout",
     "output_type": "stream",
     "text": [
      "<_sre.SRE_Match object; span=(0, 5), match='a bat'>\n"
     ]
    }
   ],
   "source": [
    "a=re.match(\".+b.t$\",\"a bat\") #this ^ means the expression comes at the beginning\n",
    "print(a)"
   ]
  },
  {
   "cell_type": "code",
   "execution_count": 74,
   "metadata": {},
   "outputs": [
    {
     "name": "stdout",
     "output_type": "stream",
     "text": [
      "<_sre.SRE_Match object; span=(0, 5), match='a bat'>\n"
     ]
    }
   ],
   "source": [
    "a=re.match(\".+b.t\",\"a bat\") #this ^ means the expression comes at the beginning\n",
    "print(a)"
   ]
  },
  {
   "cell_type": "code",
   "execution_count": 76,
   "metadata": {},
   "outputs": [
    {
     "name": "stdout",
     "output_type": "stream",
     "text": [
      "None\n"
     ]
    }
   ],
   "source": [
    "a=re.match(\".+b.t$\",\"a bata\") #this ^ means the expression comes at the beginning\n",
    "print(a)"
   ]
  },
  {
   "cell_type": "code",
   "execution_count": 81,
   "metadata": {},
   "outputs": [
    {
     "name": "stdout",
     "output_type": "stream",
     "text": [
      "['heckkkkkkkkk', 'h3ck', 'hecking', 'heckt']\n"
     ]
    }
   ],
   "source": [
    "#replace any instance of these with [censored]\n",
    "\"heckkkkkkkkk\"\n",
    "\"heeeck!\"\n",
    "\"h3ck\"\n",
    "\"hecking\"\n",
    "\"heckt\"\n",
    "\"H.E.C.K\"\n",
    "stupid=\"H.E.C.K heckkkkkkkkk and heeeck you and h3ck that hecking there heckt hack hacking\"\n",
    "h_words=re.findall(\"h[e3]ck\\w*\",stupid)\n",
    "print(h_words)\n"
   ]
  },
  {
   "cell_type": "code",
   "execution_count": 82,
   "metadata": {},
   "outputs": [
    {
     "name": "stdout",
     "output_type": "stream",
     "text": [
      "['H.E.C.K', 'heckkkkkkkkk', 'h3ck', 'hecking', 'heckt']\n"
     ]
    }
   ],
   "source": [
    "h_words=re.findall(\"(?:h[e3]ck\\w*|H\\.E\\.C\\.K)\",stupid)\n",
    "print(h_words)\n"
   ]
  },
  {
   "cell_type": "code",
   "execution_count": 89,
   "metadata": {},
   "outputs": [
    {
     "name": "stdout",
     "output_type": "stream",
     "text": [
      "['about', 'in', 'at']\n",
      "I want to ask PREP the topic and PREP the classroom PREP noon\n"
     ]
    }
   ],
   "source": [
    "sent=\"I want to ask about the topic and in the classroom at noon\"\n",
    "#prepositions=re.findall(\"(?:about|in|at)\",sent)\n",
    "prepositions=re.findall(\"about|in|at\",sent)\n",
    "new_sent=re.sub(\"(?:about|in|at)\",\"PREP\", sent)\n",
    "print(prepositions)\n",
    "print(new_sent)"
   ]
  },
  {
   "cell_type": "code",
   "execution_count": 90,
   "metadata": {},
   "outputs": [
    {
     "name": "stdout",
     "output_type": "stream",
     "text": [
      "they VERB and I VERB them why but they wouldn't VERB me an answer\n"
     ]
    }
   ],
   "source": [
    "#replace all verbs with the word \"VERB\"\n",
    "#verbs=[\"fly\",\"ask\",\"give\"]\n",
    "sent=\"they fly and I ask them why but they wouldn't give me an answer\"\n",
    "new_sent=re.sub(\"fly|ask|give\",\"VERB\",sent)\n",
    "print(new_sent)"
   ]
  },
  {
   "cell_type": "code",
   "execution_count": 107,
   "metadata": {},
   "outputs": [
    {
     "name": "stdout",
     "output_type": "stream",
     "text": [
      "3\n"
     ]
    }
   ],
   "source": [
    "#finditer is the preferred way of finding things\n",
    "items=re.finditer(\"fly|ask|give\",sent)\n",
    "print(len(list(items) ))    \n",
    "#print(len(list(items) ))\n",
    "for item in items:\n",
    "    print(item.group(), item.start(), item.end() )\n"
   ]
  },
  {
   "cell_type": "code",
   "execution_count": null,
   "metadata": {
    "collapsed": true
   },
   "outputs": [],
   "source": []
  }
 ],
 "metadata": {
  "kernelspec": {
   "display_name": "Python 3",
   "language": "python",
   "name": "python3"
  },
  "language_info": {
   "codemirror_mode": {
    "name": "ipython",
    "version": 3
   },
   "file_extension": ".py",
   "mimetype": "text/x-python",
   "name": "python",
   "nbconvert_exporter": "python",
   "pygments_lexer": "ipython3",
   "version": "3.6.1"
  }
 },
 "nbformat": 4,
 "nbformat_minor": 2
}
