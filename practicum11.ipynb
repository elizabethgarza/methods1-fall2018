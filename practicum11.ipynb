{
 "cells": [
  {
   "cell_type": "code",
   "execution_count": 2,
   "metadata": {},
   "outputs": [
    {
     "name": "stdout",
     "output_type": "stream",
     "text": [
      "[1, 2, 2, 3, 3, 4, 5, 6, 6, 7, 9]\n",
      "[1, 3, 4, 6, 7, 3, 2, 5, 6, 9, 2]\n"
     ]
    }
   ],
   "source": [
    "#sorted()\n",
    "number_list=[1,3,4,6,7,3,2,5,6,9,2]\n",
    "ordered_list=sorted(number_list)\n",
    "print(ordered_list)\n",
    "print(number_list)\n"
   ]
  },
  {
   "cell_type": "code",
   "execution_count": 5,
   "metadata": {},
   "outputs": [
    {
     "name": "stdout",
     "output_type": "stream",
     "text": [
      "[1, 3, 4, 6, 7, 3, 2, 5, 6, 9, 2]\n",
      "None\n"
     ]
    }
   ],
   "source": [
    "#.sort()\n",
    "number_list=[1,3,4,6,7,3,2,5,6,9,2]\n",
    "print(number_list)\n",
    "ordered_list=number_list.sort()\n",
    "print(ordered_list)"
   ]
  },
  {
   "cell_type": "code",
   "execution_count": 6,
   "metadata": {},
   "outputs": [
    {
     "data": {
      "text/plain": [
       "['Adam', 'Chen', 'David', 'Jack', 'Mamado', 'Sam', 'Sarah']"
      ]
     },
     "execution_count": 6,
     "metadata": {},
     "output_type": "execute_result"
    }
   ],
   "source": [
    "name_list=[\"Sarah\", \"Chen\", \"Mamado\", \"Sam\", \"Jack\", \"Adam\",\"David\"]\n",
    "sorted(name_list)\n"
   ]
  },
  {
   "cell_type": "code",
   "execution_count": 7,
   "metadata": {},
   "outputs": [
    {
     "data": {
      "text/plain": [
       "['Sarah', 'Sam', 'Mamado', 'Jack', 'David', 'Chen', 'Adam']"
      ]
     },
     "execution_count": 7,
     "metadata": {},
     "output_type": "execute_result"
    }
   ],
   "source": [
    "sorted(name_list,reverse=True)"
   ]
  },
  {
   "cell_type": "code",
   "execution_count": 8,
   "metadata": {},
   "outputs": [
    {
     "data": {
      "text/plain": [
       "[9, 7, 6, 6, 5, 4, 3, 3, 2, 2, 1]"
      ]
     },
     "execution_count": 8,
     "metadata": {},
     "output_type": "execute_result"
    }
   ],
   "source": [
    "sorted(number_list,reverse=True)"
   ]
  },
  {
   "cell_type": "code",
   "execution_count": 11,
   "metadata": {},
   "outputs": [],
   "source": [
    "name_list.sort(key=len)"
   ]
  },
  {
   "cell_type": "code",
   "execution_count": 12,
   "metadata": {},
   "outputs": [
    {
     "data": {
      "text/plain": [
       "['Sam', 'Chen', 'Jack', 'Adam', 'Sarah', 'David', 'Mamado']"
      ]
     },
     "execution_count": 12,
     "metadata": {},
     "output_type": "execute_result"
    }
   ],
   "source": [
    "name_list"
   ]
  },
  {
   "cell_type": "code",
   "execution_count": 13,
   "metadata": {},
   "outputs": [
    {
     "data": {
      "text/plain": [
       "['Sam', 'Chen', 'Jack', 'Adam', 'Sarah', 'David', 'Mamado']"
      ]
     },
     "execution_count": 13,
     "metadata": {},
     "output_type": "execute_result"
    }
   ],
   "source": [
    "sorted(name_list,key=len)"
   ]
  },
  {
   "cell_type": "code",
   "execution_count": 14,
   "metadata": {
    "collapsed": true
   },
   "outputs": [],
   "source": [
    "full_name_list=[[\"John\",\"Smith\"],\n",
    "                [\"Sam\",\"Mack\"],\n",
    "                [\"Noah\",\"Jones\"],\n",
    "                [\"Zack\",\"Black\"],\n",
    "                [\"Adam\",\"Zor\"],\n",
    "               ]"
   ]
  },
  {
   "cell_type": "code",
   "execution_count": 15,
   "metadata": {},
   "outputs": [
    {
     "data": {
      "text/plain": [
       "[['Adam', 'Zor'],\n",
       " ['John', 'Smith'],\n",
       " ['Noah', 'Jones'],\n",
       " ['Sam', 'Mack'],\n",
       " ['Zack', 'Black']]"
      ]
     },
     "execution_count": 15,
     "metadata": {},
     "output_type": "execute_result"
    }
   ],
   "source": [
    "sorted(full_name_list)"
   ]
  },
  {
   "cell_type": "code",
   "execution_count": 19,
   "metadata": {},
   "outputs": [
    {
     "data": {
      "text/plain": [
       "[['Zack', 'Black'],\n",
       " ['Noah', 'Jones'],\n",
       " ['Sam', 'Mack'],\n",
       " ['John', 'Smith'],\n",
       " ['Adam', 'Zor']]"
      ]
     },
     "execution_count": 19,
     "metadata": {},
     "output_type": "execute_result"
    }
   ],
   "source": [
    "sorted(full_name_list,key=lambda x:x[1])"
   ]
  },
  {
   "cell_type": "code",
   "execution_count": 21,
   "metadata": {},
   "outputs": [
    {
     "data": {
      "text/plain": [
       "[['Sam', 'Mack'],\n",
       " ['John', 'Smith'],\n",
       " ['Noah', 'Jones'],\n",
       " ['Zack', 'Black'],\n",
       " ['Adam', 'Zor']]"
      ]
     },
     "execution_count": 21,
     "metadata": {},
     "output_type": "execute_result"
    }
   ],
   "source": [
    "sorted(full_name_list,key=lambda x:len(x[0]))"
   ]
  },
  {
   "cell_type": "code",
   "execution_count": 22,
   "metadata": {},
   "outputs": [
    {
     "data": {
      "text/plain": [
       "[['Adam', 'Zor'],\n",
       " ['Sam', 'Mack'],\n",
       " ['John', 'Smith'],\n",
       " ['Noah', 'Jones'],\n",
       " ['Zack', 'Black']]"
      ]
     },
     "execution_count": 22,
     "metadata": {},
     "output_type": "execute_result"
    }
   ],
   "source": [
    "sorted(full_name_list,key=lambda x:len(x[1]))"
   ]
  },
  {
   "cell_type": "code",
   "execution_count": 23,
   "metadata": {},
   "outputs": [
    {
     "data": {
      "text/plain": [
       "[['Noah', 'Paris'],\n",
       " ['Adam', 'Athens'],\n",
       " ['Sam', 'Seattle'],\n",
       " ['John', 'New York'],\n",
       " ['Zack', 'Budapest']]"
      ]
     },
     "execution_count": 23,
     "metadata": {},
     "output_type": "execute_result"
    }
   ],
   "source": [
    "#for a list of first names, and their corresponding city names, \n",
    "#sort by name, len(name), city, len(city)\n",
    "name_city_list=[[\"John\",\"New York\"],\n",
    "                [\"Sam\",\"Seattle\"],\n",
    "                [\"Noah\",\"Paris\"],\n",
    "                [\"Zack\",\"Budapest\"],\n",
    "                [\"Adam\",\"Athens\"],\n",
    "               ]\n",
    "sorted(name_city_list,key=lambda x:len(x[1]))"
   ]
  },
  {
   "cell_type": "code",
   "execution_count": 24,
   "metadata": {},
   "outputs": [
    {
     "data": {
      "text/plain": [
       "5"
      ]
     },
     "execution_count": 24,
     "metadata": {},
     "output_type": "execute_result"
    }
   ],
   "source": [
    "list1=[1, 2, 2, 3, 3, 4, 5, 6, 6, 7, 9]\n",
    "list1.index(4)\n"
   ]
  },
  {
   "cell_type": "code",
   "execution_count": 25,
   "metadata": {},
   "outputs": [
    {
     "data": {
      "text/plain": [
       "4"
      ]
     },
     "execution_count": 25,
     "metadata": {},
     "output_type": "execute_result"
    }
   ],
   "source": [
    "list1[5]"
   ]
  },
  {
   "cell_type": "code",
   "execution_count": 27,
   "metadata": {},
   "outputs": [
    {
     "name": "stdout",
     "output_type": "stream",
     "text": [
      "0 1\n",
      "1 2\n",
      "2 2\n",
      "3 3\n",
      "4 3\n",
      "5 4\n",
      "6 5\n",
      "7 6\n",
      "8 6\n",
      "9 7\n",
      "10 9\n"
     ]
    }
   ],
   "source": [
    "for i in range(len(list1) ):\n",
    "    cur_item=list1[i]\n",
    "    print(i, cur_item)"
   ]
  },
  {
   "cell_type": "code",
   "execution_count": 31,
   "metadata": {},
   "outputs": [
    {
     "name": "stdout",
     "output_type": "stream",
     "text": [
      "9 4\n",
      "elapsed 0.0005931854248046875\n"
     ]
    }
   ],
   "source": [
    "list1=[0,1, 2, 2,2, 3, 3, 3, 3, 4, 5, 6, 6, 7, 9,]\n",
    "import time\n",
    "t0=time.time()\n",
    "for i in range(len(list1) ):\n",
    "    cur_item=list1[i]\n",
    "    if cur_item==4: print(i, cur_item)\n",
    "t1=time.time()    \n",
    "print(\"elapsed\",t1-t0)"
   ]
  },
  {
   "cell_type": "code",
   "execution_count": 32,
   "metadata": {
    "collapsed": true
   },
   "outputs": [],
   "source": [
    "looking_for_value=4\n",
    "list1=[0,1, 2, 2,2, 3, 3, 3, 3, 4, 5, 6, 6, 7, 9]\n"
   ]
  },
  {
   "cell_type": "code",
   "execution_count": 58,
   "metadata": {},
   "outputs": [
    {
     "name": "stdout",
     "output_type": "stream",
     "text": [
      "100  d  0 ['d']\n",
      "66  B  0 ['B', 'd']\n",
      "91  [  1 ['B', '[', 'd']\n",
      "94  ^  2 ['B', '[', '^', 'd']\n",
      "100  d  4 ['B', '[', '^', 'd', 'd']\n",
      "64  @  0 ['@', 'B', '[', '^', 'd', 'd']\n",
      "77  M  2 ['@', 'B', 'M', '[', '^', 'd', 'd']\n",
      "93  ]  4 ['@', 'B', 'M', '[', ']', '^', 'd', 'd']\n",
      "95  _  6 ['@', 'B', 'M', '[', ']', '^', '_', 'd', 'd']\n",
      "81  Q  3 ['@', 'B', 'M', 'Q', '[', ']', '^', '_', 'd', 'd']\n",
      "74  J  2 ['@', 'B', 'J', 'M', 'Q', '[', ']', '^', '_', 'd', 'd']\n",
      "66  B  2 ['@', 'B', 'B', 'J', 'M', 'Q', '[', ']', '^', '_', 'd', 'd']\n",
      "97  a 10 ['@', 'B', 'B', 'J', 'M', 'Q', '[', ']', '^', '_', 'a', 'd', 'd']\n",
      "95  _ 10 ['@', 'B', 'B', 'J', 'M', 'Q', '[', ']', '^', '_', '_', 'a', 'd', 'd']\n",
      "84  T  6 ['@', 'B', 'B', 'J', 'M', 'Q', 'T', '[', ']', '^', '_', '_', 'a', 'd', 'd']\n",
      "68  D  3 ['@', 'B', 'B', 'D', 'J', 'M', 'Q', 'T', '[', ']', '^', '_', '_', 'a', 'd', 'd']\n",
      "79  O  6 ['@', 'B', 'B', 'D', 'J', 'M', 'O', 'Q', 'T', '[', ']', '^', '_', '_', 'a', 'd', 'd']\n",
      "87  W  9 ['@', 'B', 'B', 'D', 'J', 'M', 'O', 'Q', 'T', 'W', '[', ']', '^', '_', '_', 'a', 'd', 'd']\n",
      "66  B  3 ['@', 'B', 'B', 'B', 'D', 'J', 'M', 'O', 'Q', 'T', 'W', '[', ']', '^', '_', '_', 'a', 'd', 'd']\n"
     ]
    }
   ],
   "source": [
    "import bisect\n",
    "import random\n",
    "\n",
    "# Use a constant see to ensure that we see\n",
    "# the same pseudo-random numbers each time\n",
    "# we run the loop.\n",
    "random.seed(10)\n",
    "\n",
    "# Generate 20 random numbers and\n",
    "# insert them into a list in sorted\n",
    "# order.\n",
    "l = []\n",
    "for i in range(1, 20):\n",
    "    r = random.randint(64, 100)\n",
    "    r_char=chr(r)\n",
    "    #print(r,chr(r))\n",
    "    #position = bisect.bisect(l, r)\n",
    "    position = bisect.bisect(l, r_char)\n",
    "    #position = 0\n",
    "    #bisect.insort(l, r)\n",
    "    bisect.insort(l, r_char)\n",
    "    print( '%2d %2s %2d' % (r, r_char, position), l)"
   ]
  },
  {
   "cell_type": "code",
   "execution_count": 61,
   "metadata": {},
   "outputs": [
    {
     "name": "stdout",
     "output_type": "stream",
     "text": [
      "[1, 3, 5, 6, 7, 8, 10, 12, 13]\n"
     ]
    }
   ],
   "source": [
    "our_list=[1,3,5,6,7,8,10,12]\n",
    "number_to_insert=13\n",
    "bisect.insort(our_list, number_to_insert)\n",
    "print(our_list)"
   ]
  },
  {
   "cell_type": "code",
   "execution_count": 64,
   "metadata": {},
   "outputs": [
    {
     "name": "stdout",
     "output_type": "stream",
     "text": [
      "[11, 3, 4, 5, 2, 7, 8, 10, 12]\n"
     ]
    }
   ],
   "source": [
    "our_list=[11,3,5,2,7,8,10,12]\n",
    "number_to_insert=4\n",
    "bisect.insort(our_list, number_to_insert)\n",
    "print(our_list)"
   ]
  },
  {
   "cell_type": "code",
   "execution_count": null,
   "metadata": {
    "collapsed": true
   },
   "outputs": [],
   "source": []
  }
 ],
 "metadata": {
  "kernelspec": {
   "display_name": "Python 3",
   "language": "python",
   "name": "python3"
  },
  "language_info": {
   "codemirror_mode": {
    "name": "ipython",
    "version": 3
   },
   "file_extension": ".py",
   "mimetype": "text/x-python",
   "name": "python",
   "nbconvert_exporter": "python",
   "pygments_lexer": "ipython3",
   "version": "3.6.1"
  }
 },
 "nbformat": 4,
 "nbformat_minor": 2
}
